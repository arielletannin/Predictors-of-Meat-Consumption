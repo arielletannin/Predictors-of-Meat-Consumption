{
 "cells": [
  {
   "cell_type": "markdown",
   "id": "08691466",
   "metadata": {},
   "source": [
    "# Data Wrangling\n",
    "\n",
    "This first capstone is intended to forecast the consumption of red meat in the United States over the next 10 years. We will look for patterns in potential social, economic, and environmental indicators that could be predictors of consumption. \n",
    "\n",
    "In this notebook, we will inspect and clean our datasets for this project. The way that FAO stores their data, they have two separate sheets for data before 2013 and after. Since we have the same number of columns in each, our first step will be to combine these into one."
   ]
  },
  {
   "cell_type": "code",
   "execution_count": 1,
   "id": "01cbd69c",
   "metadata": {},
   "outputs": [
    {
     "data": {
      "text/html": [
       "<div>\n",
       "<style scoped>\n",
       "    .dataframe tbody tr th:only-of-type {\n",
       "        vertical-align: middle;\n",
       "    }\n",
       "\n",
       "    .dataframe tbody tr th {\n",
       "        vertical-align: top;\n",
       "    }\n",
       "\n",
       "    .dataframe thead th {\n",
       "        text-align: right;\n",
       "    }\n",
       "</style>\n",
       "<table border=\"1\" class=\"dataframe\">\n",
       "  <thead>\n",
       "    <tr style=\"text-align: right;\">\n",
       "      <th></th>\n",
       "      <th>Domain</th>\n",
       "      <th>Area</th>\n",
       "      <th>Element</th>\n",
       "      <th>Item</th>\n",
       "      <th>Year</th>\n",
       "      <th>Unit</th>\n",
       "      <th>Value</th>\n",
       "    </tr>\n",
       "  </thead>\n",
       "  <tbody>\n",
       "    <tr>\n",
       "      <th>0</th>\n",
       "      <td>Food Balances (-2013, old methodology and popu...</td>\n",
       "      <td>United States of America</td>\n",
       "      <td>Production</td>\n",
       "      <td>Bovine Meat</td>\n",
       "      <td>2008</td>\n",
       "      <td>1000 tonnes</td>\n",
       "      <td>12163.0</td>\n",
       "    </tr>\n",
       "    <tr>\n",
       "      <th>1</th>\n",
       "      <td>Food Balances (-2013, old methodology and popu...</td>\n",
       "      <td>United States of America</td>\n",
       "      <td>Production</td>\n",
       "      <td>Bovine Meat</td>\n",
       "      <td>2009</td>\n",
       "      <td>1000 tonnes</td>\n",
       "      <td>11891.0</td>\n",
       "    </tr>\n",
       "    <tr>\n",
       "      <th>2</th>\n",
       "      <td>Food Balances (-2013, old methodology and popu...</td>\n",
       "      <td>United States of America</td>\n",
       "      <td>Production</td>\n",
       "      <td>Bovine Meat</td>\n",
       "      <td>2010</td>\n",
       "      <td>1000 tonnes</td>\n",
       "      <td>12046.0</td>\n",
       "    </tr>\n",
       "    <tr>\n",
       "      <th>3</th>\n",
       "      <td>Food Balances (-2013, old methodology and popu...</td>\n",
       "      <td>United States of America</td>\n",
       "      <td>Production</td>\n",
       "      <td>Bovine Meat</td>\n",
       "      <td>2011</td>\n",
       "      <td>1000 tonnes</td>\n",
       "      <td>11921.0</td>\n",
       "    </tr>\n",
       "    <tr>\n",
       "      <th>4</th>\n",
       "      <td>Food Balances (-2013, old methodology and popu...</td>\n",
       "      <td>United States of America</td>\n",
       "      <td>Production</td>\n",
       "      <td>Bovine Meat</td>\n",
       "      <td>2012</td>\n",
       "      <td>1000 tonnes</td>\n",
       "      <td>11811.0</td>\n",
       "    </tr>\n",
       "  </tbody>\n",
       "</table>\n",
       "</div>"
      ],
      "text/plain": [
       "                                              Domain  \\\n",
       "0  Food Balances (-2013, old methodology and popu...   \n",
       "1  Food Balances (-2013, old methodology and popu...   \n",
       "2  Food Balances (-2013, old methodology and popu...   \n",
       "3  Food Balances (-2013, old methodology and popu...   \n",
       "4  Food Balances (-2013, old methodology and popu...   \n",
       "\n",
       "                       Area     Element         Item  Year         Unit  \\\n",
       "0  United States of America  Production  Bovine Meat  2008  1000 tonnes   \n",
       "1  United States of America  Production  Bovine Meat  2009  1000 tonnes   \n",
       "2  United States of America  Production  Bovine Meat  2010  1000 tonnes   \n",
       "3  United States of America  Production  Bovine Meat  2011  1000 tonnes   \n",
       "4  United States of America  Production  Bovine Meat  2012  1000 tonnes   \n",
       "\n",
       "     Value  \n",
       "0  12163.0  \n",
       "1  11891.0  \n",
       "2  12046.0  \n",
       "3  11921.0  \n",
       "4  11811.0  "
      ]
     },
     "execution_count": 1,
     "metadata": {},
     "output_type": "execute_result"
    }
   ],
   "source": [
    "import pandas as pd\n",
    "fao08 = pd.read_csv('faostat_08.csv')\n",
    "fao14 = pd.read_csv('faostat_14.csv')\n",
    "\n",
    "#First we concat our dataframes together, since they have the same column structure. Then we reset the index and drop the old one.\n",
    "fao_all = pd.concat([fao08,fao14])\n",
    "fao_all.reset_index(inplace=True)\n",
    "fao_all.drop(labels='index', axis=1, inplace=True)\n",
    "fao_all.head()"
   ]
  },
  {
   "cell_type": "code",
   "execution_count": 2,
   "id": "9b81646b",
   "metadata": {},
   "outputs": [
    {
     "data": {
      "text/plain": [
       "Domain      object\n",
       "Area        object\n",
       "Element     object\n",
       "Item        object\n",
       "Year         int64\n",
       "Unit        object\n",
       "Value      float64\n",
       "dtype: object"
      ]
     },
     "execution_count": 2,
     "metadata": {},
     "output_type": "execute_result"
    }
   ],
   "source": [
    "fao_all.dtypes"
   ]
  },
  {
   "cell_type": "code",
   "execution_count": 3,
   "id": "1c0905a4",
   "metadata": {},
   "outputs": [
    {
     "data": {
      "text/plain": [
       "array(['Production', 'Import Quantity', 'Stock Variation',\n",
       "       'Export Quantity', 'Losses', 'Processing', 'Other uses (non-food)',\n",
       "       'Tourist consumption', 'Residuals'], dtype=object)"
      ]
     },
     "execution_count": 3,
     "metadata": {},
     "output_type": "execute_result"
    }
   ],
   "source": [
    "fao_all.Element.unique()"
   ]
  },
  {
   "cell_type": "code",
   "execution_count": 4,
   "id": "76ad4e60",
   "metadata": {},
   "outputs": [
    {
     "data": {
      "text/plain": [
       "array(['Bovine Meat', 'Mutton & Goat Meat', 'Pigmeat', 'Poultry Meat',\n",
       "       'Meat, Other'], dtype=object)"
      ]
     },
     "execution_count": 4,
     "metadata": {},
     "output_type": "execute_result"
    }
   ],
   "source": [
    "fao_all.Item.unique()"
   ]
  },
  {
   "cell_type": "code",
   "execution_count": 5,
   "id": "88a0b044",
   "metadata": {},
   "outputs": [
    {
     "data": {
      "text/plain": [
       "array(['1000 tonnes', nan], dtype=object)"
      ]
     },
     "execution_count": 5,
     "metadata": {},
     "output_type": "execute_result"
    }
   ],
   "source": [
    "fao_all.Unit.unique()"
   ]
  },
  {
   "cell_type": "code",
   "execution_count": 6,
   "id": "aa51276e",
   "metadata": {},
   "outputs": [
    {
     "data": {
      "text/plain": [
       "array(['Food Balances (-2013, old methodology and population)',\n",
       "       'Food Balances (2014-)'], dtype=object)"
      ]
     },
     "execution_count": 6,
     "metadata": {},
     "output_type": "execute_result"
    }
   ],
   "source": [
    "fao_all['Domain'].unique()"
   ]
  },
  {
   "cell_type": "code",
   "execution_count": 7,
   "id": "c5f3bd15",
   "metadata": {},
   "outputs": [
    {
     "data": {
      "text/html": [
       "<div>\n",
       "<style scoped>\n",
       "    .dataframe tbody tr th:only-of-type {\n",
       "        vertical-align: middle;\n",
       "    }\n",
       "\n",
       "    .dataframe tbody tr th {\n",
       "        vertical-align: top;\n",
       "    }\n",
       "\n",
       "    .dataframe thead th {\n",
       "        text-align: right;\n",
       "    }\n",
       "</style>\n",
       "<table border=\"1\" class=\"dataframe\">\n",
       "  <thead>\n",
       "    <tr style=\"text-align: right;\">\n",
       "      <th></th>\n",
       "      <th>Domain</th>\n",
       "      <th>Area</th>\n",
       "      <th>Element</th>\n",
       "      <th>Item</th>\n",
       "      <th>Year</th>\n",
       "      <th>Unit</th>\n",
       "      <th>Value</th>\n",
       "    </tr>\n",
       "  </thead>\n",
       "  <tbody>\n",
       "    <tr>\n",
       "      <th>108</th>\n",
       "      <td>Food Balances (-2013, old methodology and popu...</td>\n",
       "      <td>United States of America</td>\n",
       "      <td>Production</td>\n",
       "      <td>Pigmeat</td>\n",
       "      <td>2008</td>\n",
       "      <td>1000 tonnes</td>\n",
       "      <td>10599.0</td>\n",
       "    </tr>\n",
       "    <tr>\n",
       "      <th>114</th>\n",
       "      <td>Food Balances (-2013, old methodology and popu...</td>\n",
       "      <td>United States of America</td>\n",
       "      <td>Import Quantity</td>\n",
       "      <td>Pigmeat</td>\n",
       "      <td>2008</td>\n",
       "      <td>1000 tonnes</td>\n",
       "      <td>454.0</td>\n",
       "    </tr>\n",
       "    <tr>\n",
       "      <th>120</th>\n",
       "      <td>Food Balances (-2013, old methodology and popu...</td>\n",
       "      <td>United States of America</td>\n",
       "      <td>Stock Variation</td>\n",
       "      <td>Pigmeat</td>\n",
       "      <td>2008</td>\n",
       "      <td>1000 tonnes</td>\n",
       "      <td>-19.0</td>\n",
       "    </tr>\n",
       "    <tr>\n",
       "      <th>126</th>\n",
       "      <td>Food Balances (-2013, old methodology and popu...</td>\n",
       "      <td>United States of America</td>\n",
       "      <td>Export Quantity</td>\n",
       "      <td>Pigmeat</td>\n",
       "      <td>2008</td>\n",
       "      <td>1000 tonnes</td>\n",
       "      <td>2129.0</td>\n",
       "    </tr>\n",
       "    <tr>\n",
       "      <th>132</th>\n",
       "      <td>Food Balances (-2013, old methodology and popu...</td>\n",
       "      <td>United States of America</td>\n",
       "      <td>Losses</td>\n",
       "      <td>Pigmeat</td>\n",
       "      <td>2008</td>\n",
       "      <td>NaN</td>\n",
       "      <td>NaN</td>\n",
       "    </tr>\n",
       "    <tr>\n",
       "      <th>138</th>\n",
       "      <td>Food Balances (-2013, old methodology and popu...</td>\n",
       "      <td>United States of America</td>\n",
       "      <td>Processing</td>\n",
       "      <td>Pigmeat</td>\n",
       "      <td>2008</td>\n",
       "      <td>1000 tonnes</td>\n",
       "      <td>0.0</td>\n",
       "    </tr>\n",
       "    <tr>\n",
       "      <th>144</th>\n",
       "      <td>Food Balances (-2013, old methodology and popu...</td>\n",
       "      <td>United States of America</td>\n",
       "      <td>Other uses (non-food)</td>\n",
       "      <td>Pigmeat</td>\n",
       "      <td>2008</td>\n",
       "      <td>1000 tonnes</td>\n",
       "      <td>15.0</td>\n",
       "    </tr>\n",
       "    <tr>\n",
       "      <th>150</th>\n",
       "      <td>Food Balances (-2013, old methodology and popu...</td>\n",
       "      <td>United States of America</td>\n",
       "      <td>Tourist consumption</td>\n",
       "      <td>Pigmeat</td>\n",
       "      <td>2008</td>\n",
       "      <td>NaN</td>\n",
       "      <td>NaN</td>\n",
       "    </tr>\n",
       "    <tr>\n",
       "      <th>156</th>\n",
       "      <td>Food Balances (-2013, old methodology and popu...</td>\n",
       "      <td>United States of America</td>\n",
       "      <td>Residuals</td>\n",
       "      <td>Pigmeat</td>\n",
       "      <td>2008</td>\n",
       "      <td>NaN</td>\n",
       "      <td>NaN</td>\n",
       "    </tr>\n",
       "  </tbody>\n",
       "</table>\n",
       "</div>"
      ],
      "text/plain": [
       "                                                Domain  \\\n",
       "108  Food Balances (-2013, old methodology and popu...   \n",
       "114  Food Balances (-2013, old methodology and popu...   \n",
       "120  Food Balances (-2013, old methodology and popu...   \n",
       "126  Food Balances (-2013, old methodology and popu...   \n",
       "132  Food Balances (-2013, old methodology and popu...   \n",
       "138  Food Balances (-2013, old methodology and popu...   \n",
       "144  Food Balances (-2013, old methodology and popu...   \n",
       "150  Food Balances (-2013, old methodology and popu...   \n",
       "156  Food Balances (-2013, old methodology and popu...   \n",
       "\n",
       "                         Area                Element     Item  Year  \\\n",
       "108  United States of America             Production  Pigmeat  2008   \n",
       "114  United States of America        Import Quantity  Pigmeat  2008   \n",
       "120  United States of America        Stock Variation  Pigmeat  2008   \n",
       "126  United States of America        Export Quantity  Pigmeat  2008   \n",
       "132  United States of America                 Losses  Pigmeat  2008   \n",
       "138  United States of America             Processing  Pigmeat  2008   \n",
       "144  United States of America  Other uses (non-food)  Pigmeat  2008   \n",
       "150  United States of America    Tourist consumption  Pigmeat  2008   \n",
       "156  United States of America              Residuals  Pigmeat  2008   \n",
       "\n",
       "            Unit    Value  \n",
       "108  1000 tonnes  10599.0  \n",
       "114  1000 tonnes    454.0  \n",
       "120  1000 tonnes    -19.0  \n",
       "126  1000 tonnes   2129.0  \n",
       "132          NaN      NaN  \n",
       "138  1000 tonnes      0.0  \n",
       "144  1000 tonnes     15.0  \n",
       "150          NaN      NaN  \n",
       "156          NaN      NaN  "
      ]
     },
     "execution_count": 7,
     "metadata": {},
     "output_type": "execute_result"
    }
   ],
   "source": [
    "fao_all[(fao_all.Item=='Pigmeat') & (fao_all.Year==2008)]"
   ]
  },
  {
   "cell_type": "markdown",
   "id": "8c3150a8",
   "metadata": {},
   "source": [
    "It looks like the \"Domain\" column is not relevant to our analysis - it only speaks to what methodology the balance sheet used - so we'll drop it"
   ]
  },
  {
   "cell_type": "code",
   "execution_count": 8,
   "id": "d2ef1846",
   "metadata": {},
   "outputs": [],
   "source": [
    "fao_all.drop(labels=['Domain', 'Area'], axis=1, inplace=True)"
   ]
  },
  {
   "cell_type": "markdown",
   "id": "e66995b4",
   "metadata": {},
   "source": [
    "## Null Values\n",
    "Next we'll check for null values. We can see from the output above, that the numeric data we care most about is the Value column. We'll want to check if and when values are null and if that corresponds to null columns."
   ]
  },
  {
   "cell_type": "code",
   "execution_count": 9,
   "id": "66d655d3",
   "metadata": {},
   "outputs": [],
   "source": [
    "null_vals = fao_all[fao_all.Value.isna()]\n",
    "fao_all.drop(labels = null_vals.index, inplace=True)"
   ]
  },
  {
   "cell_type": "markdown",
   "id": "9dd39f31",
   "metadata": {},
   "source": [
    "## Understanding \"Elements\"\n",
    "We don't have an precise measure for food consumption yet. We have a variety of \"Elements\" whose values can be taken together to measure how much meat was consumed. We don't have a sense of what the range of values here is and what makes sense to subtract and add together. Let's see what the mean value for each element can tell us."
   ]
  },
  {
   "cell_type": "code",
   "execution_count": 10,
   "id": "1051a27d",
   "metadata": {},
   "outputs": [
    {
     "data": {
      "text/plain": [
       "Element\n",
       "Export Quantity          1464.254545\n",
       "Import Quantity           407.090909\n",
       "Other uses (non-food)     159.393939\n",
       "Processing                  7.121212\n",
       "Production               8687.309091\n",
       "Residuals                 -19.640000\n",
       "Stock Variation             9.200000\n",
       "Name: Value, dtype: float64"
      ]
     },
     "execution_count": 10,
     "metadata": {},
     "output_type": "execute_result"
    }
   ],
   "source": [
    "fao_means = fao_all.groupby('Element')['Value'].mean()\n",
    "fao_means"
   ]
  },
  {
   "cell_type": "markdown",
   "id": "05b35cb0",
   "metadata": {},
   "source": [
    "A few interesting things stand out: Production is by far the highest. That makes sense because the United States is a big producer of meat. That goes hand in hand with being a strong exporter of meat, which is the next highest mean. The rest of our values are a lot lower by comparison. Through some googling we have learned that Processing, Other uses, Stock variation, and Residuals all *take away* from the overall production value. These are associated with food being lost before it reaches a consumer, so we'll want to subtract them from the overall production value. The one exception is Residuals, which have a negative value in this case. We'll want to add those operationally to reflect the amount lost."
   ]
  },
  {
   "cell_type": "code",
   "execution_count": 11,
   "id": "ef844873",
   "metadata": {},
   "outputs": [
    {
     "data": {
      "text/plain": [
       "0.0"
      ]
     },
     "execution_count": 11,
     "metadata": {},
     "output_type": "execute_result"
    }
   ],
   "source": [
    "#confirm residuals is always negative\n",
    "fao_all[fao_all.Element=='Residuals']['Value'].max()"
   ]
  },
  {
   "cell_type": "code",
   "execution_count": 12,
   "id": "10228bcc",
   "metadata": {},
   "outputs": [],
   "source": [
    "#change residuals values to be positive so our measure of variance later on isn't skewed\n",
    "fao_all.loc[fao_all.Element=='Residuals', 'Value'] = fao_all.loc[fao_all.Element=='Residuals', 'Value'].astype(int).apply(lambda x:x*-1)"
   ]
  },
  {
   "cell_type": "code",
   "execution_count": 13,
   "id": "30ae168b",
   "metadata": {},
   "outputs": [
    {
     "data": {
      "text/plain": [
       "97.0"
      ]
     },
     "execution_count": 13,
     "metadata": {},
     "output_type": "execute_result"
    }
   ],
   "source": [
    "fao_all[fao_all.Element=='Residuals']['Value'].max()"
   ]
  },
  {
   "cell_type": "markdown",
   "id": "da93a84f",
   "metadata": {},
   "source": [
    "## Create Consumption Dataframe\n",
    "Now we will copy the fao_all dataframe and multiply all element values which take away from the overall consumption values by -1. This will let us sum all element values for each meat type which will give us an overall consumption values."
   ]
  },
  {
   "cell_type": "code",
   "execution_count": 14,
   "id": "89d9868d",
   "metadata": {},
   "outputs": [],
   "source": [
    "#Multiple all element values by -1 where they should be subtracted\n",
    "consumption = fao_all.copy()\n",
    "pos_elems = ['Import Quantity', 'Production']\n",
    "neg_elems = set(list(consumption.Element.unique())) - set(pos_elems)\n",
    "for neg in neg_elems:\n",
    "    consumption.loc[consumption.Element==neg, ['Value']] = consumption.loc[consumption.Element==neg, ['Value']].apply(lambda x:x*-1)"
   ]
  },
  {
   "cell_type": "code",
   "execution_count": 15,
   "id": "f57061ea",
   "metadata": {},
   "outputs": [
    {
     "data": {
      "text/html": [
       "<div>\n",
       "<style scoped>\n",
       "    .dataframe tbody tr th:only-of-type {\n",
       "        vertical-align: middle;\n",
       "    }\n",
       "\n",
       "    .dataframe tbody tr th {\n",
       "        vertical-align: top;\n",
       "    }\n",
       "\n",
       "    .dataframe thead th {\n",
       "        text-align: right;\n",
       "    }\n",
       "</style>\n",
       "<table border=\"1\" class=\"dataframe\">\n",
       "  <thead>\n",
       "    <tr style=\"text-align: right;\">\n",
       "      <th></th>\n",
       "      <th>Element</th>\n",
       "      <th>Item</th>\n",
       "      <th>Year</th>\n",
       "      <th>Unit</th>\n",
       "      <th>Consumption</th>\n",
       "    </tr>\n",
       "  </thead>\n",
       "  <tbody>\n",
       "    <tr>\n",
       "      <th>0</th>\n",
       "      <td>Production</td>\n",
       "      <td>Bovine Meat</td>\n",
       "      <td>2008</td>\n",
       "      <td>1000 tonnes</td>\n",
       "      <td>12163.0</td>\n",
       "    </tr>\n",
       "    <tr>\n",
       "      <th>1</th>\n",
       "      <td>Production</td>\n",
       "      <td>Bovine Meat</td>\n",
       "      <td>2009</td>\n",
       "      <td>1000 tonnes</td>\n",
       "      <td>11891.0</td>\n",
       "    </tr>\n",
       "    <tr>\n",
       "      <th>2</th>\n",
       "      <td>Production</td>\n",
       "      <td>Bovine Meat</td>\n",
       "      <td>2010</td>\n",
       "      <td>1000 tonnes</td>\n",
       "      <td>12046.0</td>\n",
       "    </tr>\n",
       "    <tr>\n",
       "      <th>3</th>\n",
       "      <td>Production</td>\n",
       "      <td>Bovine Meat</td>\n",
       "      <td>2011</td>\n",
       "      <td>1000 tonnes</td>\n",
       "      <td>11921.0</td>\n",
       "    </tr>\n",
       "    <tr>\n",
       "      <th>4</th>\n",
       "      <td>Production</td>\n",
       "      <td>Bovine Meat</td>\n",
       "      <td>2012</td>\n",
       "      <td>1000 tonnes</td>\n",
       "      <td>11811.0</td>\n",
       "    </tr>\n",
       "  </tbody>\n",
       "</table>\n",
       "</div>"
      ],
      "text/plain": [
       "      Element         Item  Year         Unit  Consumption\n",
       "0  Production  Bovine Meat  2008  1000 tonnes      12163.0\n",
       "1  Production  Bovine Meat  2009  1000 tonnes      11891.0\n",
       "2  Production  Bovine Meat  2010  1000 tonnes      12046.0\n",
       "3  Production  Bovine Meat  2011  1000 tonnes      11921.0\n",
       "4  Production  Bovine Meat  2012  1000 tonnes      11811.0"
      ]
     },
     "execution_count": 15,
     "metadata": {},
     "output_type": "execute_result"
    }
   ],
   "source": [
    "#clean consumption df\n",
    "consumption.reset_index(inplace=True)\n",
    "consumption.drop(labels='index', axis=1, inplace=True)\n",
    "consumption.rename(columns={'Value':'Consumption'}, inplace=True)\n",
    "consumption.head()"
   ]
  },
  {
   "cell_type": "code",
   "execution_count": 16,
   "id": "f9a6c95a",
   "metadata": {},
   "outputs": [],
   "source": [
    "consumption.drop(labels='Unit', axis=1, inplace=True)"
   ]
  },
  {
   "cell_type": "code",
   "execution_count": 17,
   "id": "dc9e73df",
   "metadata": {},
   "outputs": [
    {
     "data": {
      "text/html": [
       "<div>\n",
       "<style scoped>\n",
       "    .dataframe tbody tr th:only-of-type {\n",
       "        vertical-align: middle;\n",
       "    }\n",
       "\n",
       "    .dataframe tbody tr th {\n",
       "        vertical-align: top;\n",
       "    }\n",
       "\n",
       "    .dataframe thead th {\n",
       "        text-align: right;\n",
       "    }\n",
       "</style>\n",
       "<table border=\"1\" class=\"dataframe\">\n",
       "  <thead>\n",
       "    <tr style=\"text-align: right;\">\n",
       "      <th></th>\n",
       "      <th>Item</th>\n",
       "      <th>Year</th>\n",
       "      <th>Consumption</th>\n",
       "    </tr>\n",
       "  </thead>\n",
       "  <tbody>\n",
       "    <tr>\n",
       "      <th>0</th>\n",
       "      <td>Bovine Meat</td>\n",
       "      <td>2008</td>\n",
       "      <td>12444.0</td>\n",
       "    </tr>\n",
       "    <tr>\n",
       "      <th>1</th>\n",
       "      <td>Bovine Meat</td>\n",
       "      <td>2009</td>\n",
       "      <td>12258.0</td>\n",
       "    </tr>\n",
       "    <tr>\n",
       "      <th>2</th>\n",
       "      <td>Bovine Meat</td>\n",
       "      <td>2010</td>\n",
       "      <td>12072.0</td>\n",
       "    </tr>\n",
       "    <tr>\n",
       "      <th>3</th>\n",
       "      <td>Bovine Meat</td>\n",
       "      <td>2011</td>\n",
       "      <td>11592.0</td>\n",
       "    </tr>\n",
       "    <tr>\n",
       "      <th>4</th>\n",
       "      <td>Bovine Meat</td>\n",
       "      <td>2012</td>\n",
       "      <td>11725.0</td>\n",
       "    </tr>\n",
       "  </tbody>\n",
       "</table>\n",
       "</div>"
      ],
      "text/plain": [
       "          Item  Year  Consumption\n",
       "0  Bovine Meat  2008      12444.0\n",
       "1  Bovine Meat  2009      12258.0\n",
       "2  Bovine Meat  2010      12072.0\n",
       "3  Bovine Meat  2011      11592.0\n",
       "4  Bovine Meat  2012      11725.0"
      ]
     },
     "execution_count": 17,
     "metadata": {},
     "output_type": "execute_result"
    }
   ],
   "source": [
    "#Filter dataframe by item and year to get relevant consumption value\n",
    "consumption_per_item = consumption.groupby(['Item','Year']).sum().reset_index()\n",
    "consumption_per_item.head()"
   ]
  },
  {
   "cell_type": "code",
   "execution_count": 18,
   "id": "da5e2b34",
   "metadata": {},
   "outputs": [
    {
     "data": {
      "text/html": [
       "<div>\n",
       "<style scoped>\n",
       "    .dataframe tbody tr th:only-of-type {\n",
       "        vertical-align: middle;\n",
       "    }\n",
       "\n",
       "    .dataframe tbody tr th {\n",
       "        vertical-align: top;\n",
       "    }\n",
       "\n",
       "    .dataframe thead th {\n",
       "        text-align: right;\n",
       "    }\n",
       "</style>\n",
       "<table border=\"1\" class=\"dataframe\">\n",
       "  <thead>\n",
       "    <tr style=\"text-align: right;\">\n",
       "      <th></th>\n",
       "      <th>Year</th>\n",
       "      <th>Consumption</th>\n",
       "    </tr>\n",
       "  </thead>\n",
       "  <tbody>\n",
       "    <tr>\n",
       "      <th>0</th>\n",
       "      <td>2008</td>\n",
       "      <td>1448.538462</td>\n",
       "    </tr>\n",
       "    <tr>\n",
       "      <th>1</th>\n",
       "      <td>2009</td>\n",
       "      <td>1415.192308</td>\n",
       "    </tr>\n",
       "    <tr>\n",
       "      <th>2</th>\n",
       "      <td>2010</td>\n",
       "      <td>1427.192308</td>\n",
       "    </tr>\n",
       "    <tr>\n",
       "      <th>3</th>\n",
       "      <td>2011</td>\n",
       "      <td>1386.500000</td>\n",
       "    </tr>\n",
       "    <tr>\n",
       "      <th>4</th>\n",
       "      <td>2012</td>\n",
       "      <td>1401.192308</td>\n",
       "    </tr>\n",
       "    <tr>\n",
       "      <th>5</th>\n",
       "      <td>2013</td>\n",
       "      <td>1414.076923</td>\n",
       "    </tr>\n",
       "    <tr>\n",
       "      <th>6</th>\n",
       "      <td>2014</td>\n",
       "      <td>1186.677419</td>\n",
       "    </tr>\n",
       "    <tr>\n",
       "      <th>7</th>\n",
       "      <td>2015</td>\n",
       "      <td>1214.709677</td>\n",
       "    </tr>\n",
       "    <tr>\n",
       "      <th>8</th>\n",
       "      <td>2016</td>\n",
       "      <td>1243.064516</td>\n",
       "    </tr>\n",
       "    <tr>\n",
       "      <th>9</th>\n",
       "      <td>2017</td>\n",
       "      <td>1264.709677</td>\n",
       "    </tr>\n",
       "    <tr>\n",
       "      <th>10</th>\n",
       "      <td>2018</td>\n",
       "      <td>1295.870968</td>\n",
       "    </tr>\n",
       "  </tbody>\n",
       "</table>\n",
       "</div>"
      ],
      "text/plain": [
       "    Year  Consumption\n",
       "0   2008  1448.538462\n",
       "1   2009  1415.192308\n",
       "2   2010  1427.192308\n",
       "3   2011  1386.500000\n",
       "4   2012  1401.192308\n",
       "5   2013  1414.076923\n",
       "6   2014  1186.677419\n",
       "7   2015  1214.709677\n",
       "8   2016  1243.064516\n",
       "9   2017  1264.709677\n",
       "10  2018  1295.870968"
      ]
     },
     "execution_count": 18,
     "metadata": {},
     "output_type": "execute_result"
    }
   ],
   "source": [
    "#If we want to see average values for each item per year\n",
    "all_avg = consumption.groupby(['Year']).mean().reset_index()\n",
    "all_avg"
   ]
  },
  {
   "cell_type": "markdown",
   "id": "fb79b84b",
   "metadata": {},
   "source": [
    "## Population Data\n",
    "We will also import data for total population, consumer price for agriculture, and employment in agriculture. These indicators may provide context to understand why meat consumption increases or decreases over time."
   ]
  },
  {
   "cell_type": "code",
   "execution_count": 112,
   "id": "be170482",
   "metadata": {},
   "outputs": [],
   "source": [
    "pop = pd.read_csv('pop.csv')"
   ]
  },
  {
   "cell_type": "code",
   "execution_count": 120,
   "id": "432c267d",
   "metadata": {},
   "outputs": [
    {
     "data": {
      "text/plain": [
       "(array(['1000 persons'], dtype=object),\n",
       " array(['Population - Est. & Proj.'], dtype=object),\n",
       " array(['Total Population - Both sexes'], dtype=object),\n",
       " Domain     0\n",
       " Area       0\n",
       " Element    0\n",
       " Item       0\n",
       " Year       0\n",
       " Unit       0\n",
       " Pop        0\n",
       " dtype: int64,\n",
       " (11, 7))"
      ]
     },
     "execution_count": 120,
     "metadata": {},
     "output_type": "execute_result"
    }
   ],
   "source": [
    "pop.rename(columns={'Value':'Pop'}, inplace=True)\n",
    "pop.Unit.unique(), pop.Item.unique(), pop.Element.unique(), pop.isna().sum(), pop.shape"
   ]
  },
  {
   "cell_type": "code",
   "execution_count": 121,
   "id": "ce8ad85c",
   "metadata": {},
   "outputs": [],
   "source": [
    "pop.drop(labels=['Unit', 'Area','Domain', 'Element', 'Item'], axis=1, inplace=True)"
   ]
  },
  {
   "cell_type": "code",
   "execution_count": 123,
   "id": "fcf047fc",
   "metadata": {},
   "outputs": [
    {
     "data": {
      "text/html": [
       "<div>\n",
       "<style scoped>\n",
       "    .dataframe tbody tr th:only-of-type {\n",
       "        vertical-align: middle;\n",
       "    }\n",
       "\n",
       "    .dataframe tbody tr th {\n",
       "        vertical-align: top;\n",
       "    }\n",
       "\n",
       "    .dataframe thead th {\n",
       "        text-align: right;\n",
       "    }\n",
       "</style>\n",
       "<table border=\"1\" class=\"dataframe\">\n",
       "  <thead>\n",
       "    <tr style=\"text-align: right;\">\n",
       "      <th></th>\n",
       "      <th>Year</th>\n",
       "      <th>Pop</th>\n",
       "    </tr>\n",
       "  </thead>\n",
       "  <tbody>\n",
       "    <tr>\n",
       "      <th>0</th>\n",
       "      <td>2008</td>\n",
       "      <td>303486.012</td>\n",
       "    </tr>\n",
       "    <tr>\n",
       "      <th>1</th>\n",
       "      <td>2009</td>\n",
       "      <td>306307.567</td>\n",
       "    </tr>\n",
       "    <tr>\n",
       "      <th>2</th>\n",
       "      <td>2010</td>\n",
       "      <td>309011.475</td>\n",
       "    </tr>\n",
       "    <tr>\n",
       "      <th>3</th>\n",
       "      <td>2011</td>\n",
       "      <td>311584.047</td>\n",
       "    </tr>\n",
       "    <tr>\n",
       "      <th>4</th>\n",
       "      <td>2012</td>\n",
       "      <td>314043.885</td>\n",
       "    </tr>\n",
       "  </tbody>\n",
       "</table>\n",
       "</div>"
      ],
      "text/plain": [
       "   Year         Pop\n",
       "0  2008  303486.012\n",
       "1  2009  306307.567\n",
       "2  2010  309011.475\n",
       "3  2011  311584.047\n",
       "4  2012  314043.885"
      ]
     },
     "execution_count": 123,
     "metadata": {},
     "output_type": "execute_result"
    }
   ],
   "source": [
    "pop.head()"
   ]
  },
  {
   "cell_type": "markdown",
   "id": "7297c3b4",
   "metadata": {},
   "source": [
    "## Price Data\n",
    "Next we'll look at our price data, see what columns can be dropped, whether there are null values, and finally find an average price per year."
   ]
  },
  {
   "cell_type": "code",
   "execution_count": 128,
   "id": "bf08fd3c",
   "metadata": {},
   "outputs": [],
   "source": [
    "price = pd.read_csv('prices.csv')"
   ]
  },
  {
   "cell_type": "code",
   "execution_count": 129,
   "id": "76ea30f2",
   "metadata": {},
   "outputs": [
    {
     "data": {
      "text/plain": [
       "(Domain      0\n",
       " Area        0\n",
       " Year        0\n",
       " Item        0\n",
       " Months      0\n",
       " Unit      264\n",
       " Value       0\n",
       " dtype: int64,\n",
       " (264, 7),\n",
       " array([nan]),\n",
       " array(['Consumer Prices, Food Indices (2015 = 100)',\n",
       "        'Consumer Prices, General Indices (2015 = 100)'], dtype=object))"
      ]
     },
     "execution_count": 129,
     "metadata": {},
     "output_type": "execute_result"
    }
   ],
   "source": [
    "price.isna().sum(), price.shape, price.Unit.unique(), price.Item.unique()"
   ]
  },
  {
   "cell_type": "code",
   "execution_count": 130,
   "id": "2f740bdc",
   "metadata": {},
   "outputs": [],
   "source": [
    "price.drop(labels=['Unit', 'Item', 'Domain', 'Area'], axis=1,inplace=True)"
   ]
  },
  {
   "cell_type": "code",
   "execution_count": 131,
   "id": "2f30cdfd",
   "metadata": {},
   "outputs": [],
   "source": [
    "price_per_year = price.groupby('Year').mean().reset_index()\n",
    "price_per_year.rename(columns={'Value':'Price'}, inplace=True)"
   ]
  },
  {
   "cell_type": "code",
   "execution_count": 132,
   "id": "36bf50a5",
   "metadata": {},
   "outputs": [
    {
     "data": {
      "text/html": [
       "<div>\n",
       "<style scoped>\n",
       "    .dataframe tbody tr th:only-of-type {\n",
       "        vertical-align: middle;\n",
       "    }\n",
       "\n",
       "    .dataframe tbody tr th {\n",
       "        vertical-align: top;\n",
       "    }\n",
       "\n",
       "    .dataframe thead th {\n",
       "        text-align: right;\n",
       "    }\n",
       "</style>\n",
       "<table border=\"1\" class=\"dataframe\">\n",
       "  <thead>\n",
       "    <tr style=\"text-align: right;\">\n",
       "      <th></th>\n",
       "      <th>Year</th>\n",
       "      <th>Price</th>\n",
       "    </tr>\n",
       "  </thead>\n",
       "  <tbody>\n",
       "    <tr>\n",
       "      <th>0</th>\n",
       "      <td>2008</td>\n",
       "      <td>89.511370</td>\n",
       "    </tr>\n",
       "    <tr>\n",
       "      <th>1</th>\n",
       "      <td>2009</td>\n",
       "      <td>89.552337</td>\n",
       "    </tr>\n",
       "    <tr>\n",
       "      <th>2</th>\n",
       "      <td>2010</td>\n",
       "      <td>90.440451</td>\n",
       "    </tr>\n",
       "    <tr>\n",
       "      <th>3</th>\n",
       "      <td>2011</td>\n",
       "      <td>94.027484</td>\n",
       "    </tr>\n",
       "    <tr>\n",
       "      <th>4</th>\n",
       "      <td>2012</td>\n",
       "      <td>96.152371</td>\n",
       "    </tr>\n",
       "  </tbody>\n",
       "</table>\n",
       "</div>"
      ],
      "text/plain": [
       "   Year      Price\n",
       "0  2008  89.511370\n",
       "1  2009  89.552337\n",
       "2  2010  90.440451\n",
       "3  2011  94.027484\n",
       "4  2012  96.152371"
      ]
     },
     "execution_count": 132,
     "metadata": {},
     "output_type": "execute_result"
    }
   ],
   "source": [
    "price_per_year.head()"
   ]
  },
  {
   "cell_type": "markdown",
   "id": "718a5a84",
   "metadata": {},
   "source": [
    "## Employment Data\n",
    "Next we'll look at our employment data, see what columns can be dropped, whether there are null values, and finally find an average price per year."
   ]
  },
  {
   "cell_type": "code",
   "execution_count": 95,
   "id": "98ff7682",
   "metadata": {},
   "outputs": [],
   "source": [
    "employment = pd.read_csv('employment.csv')"
   ]
  },
  {
   "cell_type": "code",
   "execution_count": 96,
   "id": "9415a06c",
   "metadata": {},
   "outputs": [
    {
     "data": {
      "text/plain": [
       "(133,\n",
       " (154, 6),\n",
       " array(['Agriculture value added per worker (US$, 2010 prices)',\n",
       "        'Employment in agriculture'], dtype=object),\n",
       " array(['Administrative records', 'Employment surveys',\n",
       "        'Household income and expenditure survey', 'Household survey',\n",
       "        'Labour force survey', 'Official estimates', 'Population census'],\n",
       "       dtype=object))"
      ]
     },
     "execution_count": 96,
     "metadata": {},
     "output_type": "execute_result"
    }
   ],
   "source": [
    "employment.Value.isna().sum(), employment.shape, employment.Indicator.unique(), employment.Source.unique()"
   ]
  },
  {
   "cell_type": "code",
   "execution_count": 97,
   "id": "29df1736",
   "metadata": {},
   "outputs": [],
   "source": [
    "employment = employment[~employment.Value.isna()]\n",
    "employment = employment[employment.Indicator=='Employment in agriculture']"
   ]
  },
  {
   "cell_type": "code",
   "execution_count": 98,
   "id": "8c121adc",
   "metadata": {},
   "outputs": [],
   "source": [
    "employment.drop(labels=['Domain', 'Area', 'Source', 'Indicator'], axis=1,inplace=True)\n",
    "employment.rename(columns={'Value':'Employment'}, inplace=True)"
   ]
  },
  {
   "cell_type": "code",
   "execution_count": 99,
   "id": "7e2fdc75",
   "metadata": {},
   "outputs": [
    {
     "data": {
      "text/html": [
       "<div>\n",
       "<style scoped>\n",
       "    .dataframe tbody tr th:only-of-type {\n",
       "        vertical-align: middle;\n",
       "    }\n",
       "\n",
       "    .dataframe tbody tr th {\n",
       "        vertical-align: top;\n",
       "    }\n",
       "\n",
       "    .dataframe thead th {\n",
       "        text-align: right;\n",
       "    }\n",
       "</style>\n",
       "<table border=\"1\" class=\"dataframe\">\n",
       "  <thead>\n",
       "    <tr style=\"text-align: right;\">\n",
       "      <th></th>\n",
       "      <th>Year</th>\n",
       "      <th>Employment</th>\n",
       "    </tr>\n",
       "  </thead>\n",
       "  <tbody>\n",
       "    <tr>\n",
       "      <th>0</th>\n",
       "      <td>2008</td>\n",
       "      <td>1943.790</td>\n",
       "    </tr>\n",
       "    <tr>\n",
       "      <th>1</th>\n",
       "      <td>2009</td>\n",
       "      <td>1888.286</td>\n",
       "    </tr>\n",
       "    <tr>\n",
       "      <th>2</th>\n",
       "      <td>2010</td>\n",
       "      <td>1978.892</td>\n",
       "    </tr>\n",
       "    <tr>\n",
       "      <th>3</th>\n",
       "      <td>2011</td>\n",
       "      <td>2020.801</td>\n",
       "    </tr>\n",
       "    <tr>\n",
       "      <th>4</th>\n",
       "      <td>2012</td>\n",
       "      <td>1966.731</td>\n",
       "    </tr>\n",
       "  </tbody>\n",
       "</table>\n",
       "</div>"
      ],
      "text/plain": [
       "   Year  Employment\n",
       "0  2008    1943.790\n",
       "1  2009    1888.286\n",
       "2  2010    1978.892\n",
       "3  2011    2020.801\n",
       "4  2012    1966.731"
      ]
     },
     "execution_count": 99,
     "metadata": {},
     "output_type": "execute_result"
    }
   ],
   "source": [
    "employment.reset_index(inplace=True)\n",
    "employment.drop(labels='index', axis=1, inplace=True)\n",
    "employment.head()"
   ]
  },
  {
   "cell_type": "markdown",
   "id": "369fc5e2",
   "metadata": {},
   "source": [
    "## Combining Tables"
   ]
  },
  {
   "cell_type": "code",
   "execution_count": 136,
   "id": "2c9b9ed6",
   "metadata": {},
   "outputs": [],
   "source": [
    "merged1 = pd.merge(all_avg, pop, how='left', on='Year')\n",
    "merged2 = pd.merge(merged1, price_per_year, how='left', on='Year')\n",
    "merged_indicators = pd.merge(merged2, employment, how='left', on='Year')"
   ]
  },
  {
   "cell_type": "code",
   "execution_count": 137,
   "id": "a30994ec",
   "metadata": {},
   "outputs": [
    {
     "data": {
      "text/html": [
       "<div>\n",
       "<style scoped>\n",
       "    .dataframe tbody tr th:only-of-type {\n",
       "        vertical-align: middle;\n",
       "    }\n",
       "\n",
       "    .dataframe tbody tr th {\n",
       "        vertical-align: top;\n",
       "    }\n",
       "\n",
       "    .dataframe thead th {\n",
       "        text-align: right;\n",
       "    }\n",
       "</style>\n",
       "<table border=\"1\" class=\"dataframe\">\n",
       "  <thead>\n",
       "    <tr style=\"text-align: right;\">\n",
       "      <th></th>\n",
       "      <th>Year</th>\n",
       "      <th>Consumption</th>\n",
       "      <th>Pop</th>\n",
       "      <th>Price</th>\n",
       "      <th>Employment</th>\n",
       "    </tr>\n",
       "  </thead>\n",
       "  <tbody>\n",
       "    <tr>\n",
       "      <th>0</th>\n",
       "      <td>2008</td>\n",
       "      <td>1448.538462</td>\n",
       "      <td>303486.012</td>\n",
       "      <td>89.511370</td>\n",
       "      <td>1943.790</td>\n",
       "    </tr>\n",
       "    <tr>\n",
       "      <th>1</th>\n",
       "      <td>2009</td>\n",
       "      <td>1415.192308</td>\n",
       "      <td>306307.567</td>\n",
       "      <td>89.552337</td>\n",
       "      <td>1888.286</td>\n",
       "    </tr>\n",
       "    <tr>\n",
       "      <th>2</th>\n",
       "      <td>2010</td>\n",
       "      <td>1427.192308</td>\n",
       "      <td>309011.475</td>\n",
       "      <td>90.440451</td>\n",
       "      <td>1978.892</td>\n",
       "    </tr>\n",
       "    <tr>\n",
       "      <th>3</th>\n",
       "      <td>2011</td>\n",
       "      <td>1386.500000</td>\n",
       "      <td>311584.047</td>\n",
       "      <td>94.027484</td>\n",
       "      <td>2020.801</td>\n",
       "    </tr>\n",
       "    <tr>\n",
       "      <th>4</th>\n",
       "      <td>2012</td>\n",
       "      <td>1401.192308</td>\n",
       "      <td>314043.885</td>\n",
       "      <td>96.152371</td>\n",
       "      <td>1966.731</td>\n",
       "    </tr>\n",
       "    <tr>\n",
       "      <th>5</th>\n",
       "      <td>2013</td>\n",
       "      <td>1414.076923</td>\n",
       "      <td>316400.538</td>\n",
       "      <td>97.295313</td>\n",
       "      <td>1895.752</td>\n",
       "    </tr>\n",
       "    <tr>\n",
       "      <th>6</th>\n",
       "      <td>2014</td>\n",
       "      <td>1186.677419</td>\n",
       "      <td>318673.411</td>\n",
       "      <td>99.363640</td>\n",
       "      <td>1971.265</td>\n",
       "    </tr>\n",
       "    <tr>\n",
       "      <th>7</th>\n",
       "      <td>2015</td>\n",
       "      <td>1214.709677</td>\n",
       "      <td>320878.310</td>\n",
       "      <td>100.000005</td>\n",
       "      <td>2138.618</td>\n",
       "    </tr>\n",
       "    <tr>\n",
       "      <th>8</th>\n",
       "      <td>2016</td>\n",
       "      <td>1243.064516</td>\n",
       "      <td>323015.995</td>\n",
       "      <td>99.968117</td>\n",
       "      <td>2165.220</td>\n",
       "    </tr>\n",
       "    <tr>\n",
       "      <th>9</th>\n",
       "      <td>2017</td>\n",
       "      <td>1264.709677</td>\n",
       "      <td>325084.756</td>\n",
       "      <td>100.946858</td>\n",
       "      <td>2188.215</td>\n",
       "    </tr>\n",
       "    <tr>\n",
       "      <th>10</th>\n",
       "      <td>2018</td>\n",
       "      <td>1295.870968</td>\n",
       "      <td>327096.265</td>\n",
       "      <td>102.434209</td>\n",
       "      <td>2132.997</td>\n",
       "    </tr>\n",
       "  </tbody>\n",
       "</table>\n",
       "</div>"
      ],
      "text/plain": [
       "    Year  Consumption         Pop       Price  Employment\n",
       "0   2008  1448.538462  303486.012   89.511370    1943.790\n",
       "1   2009  1415.192308  306307.567   89.552337    1888.286\n",
       "2   2010  1427.192308  309011.475   90.440451    1978.892\n",
       "3   2011  1386.500000  311584.047   94.027484    2020.801\n",
       "4   2012  1401.192308  314043.885   96.152371    1966.731\n",
       "5   2013  1414.076923  316400.538   97.295313    1895.752\n",
       "6   2014  1186.677419  318673.411   99.363640    1971.265\n",
       "7   2015  1214.709677  320878.310  100.000005    2138.618\n",
       "8   2016  1243.064516  323015.995   99.968117    2165.220\n",
       "9   2017  1264.709677  325084.756  100.946858    2188.215\n",
       "10  2018  1295.870968  327096.265  102.434209    2132.997"
      ]
     },
     "execution_count": 137,
     "metadata": {},
     "output_type": "execute_result"
    }
   ],
   "source": [
    "merged_indicators"
   ]
  },
  {
   "cell_type": "code",
   "execution_count": null,
   "id": "10525a3a",
   "metadata": {},
   "outputs": [],
   "source": []
  }
 ],
 "metadata": {
  "kernelspec": {
   "display_name": "Python 3",
   "language": "python",
   "name": "python3"
  },
  "language_info": {
   "codemirror_mode": {
    "name": "ipython",
    "version": 3
   },
   "file_extension": ".py",
   "mimetype": "text/x-python",
   "name": "python",
   "nbconvert_exporter": "python",
   "pygments_lexer": "ipython3",
   "version": "3.8.8"
  }
 },
 "nbformat": 4,
 "nbformat_minor": 5
}
