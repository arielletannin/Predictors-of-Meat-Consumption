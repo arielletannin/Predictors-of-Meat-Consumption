{
 "cells": [
  {
   "cell_type": "markdown",
   "id": "a8c82be6",
   "metadata": {},
   "source": [
    "# Data Wrangling\n",
    "\n",
    "This first capstone is intended to forecast the consumption of red meat in the United States over the next 10 years. We will look for patterns in potential social, economic, and environmental indicators that could be predictors of consumption. \n",
    "\n",
    "In this notebook, we will inspect and clean our datasets for this project. The way that FAO stores their data, they have two separate sheets for data before 2013 and after. Since we have the same number of columns in each, our first step will be to combine these into one."
   ]
  },
  {
   "cell_type": "code",
   "execution_count": 1,
   "id": "12652159",
   "metadata": {},
   "outputs": [
    {
     "data": {
      "text/html": [
       "<div>\n",
       "<style scoped>\n",
       "    .dataframe tbody tr th:only-of-type {\n",
       "        vertical-align: middle;\n",
       "    }\n",
       "\n",
       "    .dataframe tbody tr th {\n",
       "        vertical-align: top;\n",
       "    }\n",
       "\n",
       "    .dataframe thead th {\n",
       "        text-align: right;\n",
       "    }\n",
       "</style>\n",
       "<table border=\"1\" class=\"dataframe\">\n",
       "  <thead>\n",
       "    <tr style=\"text-align: right;\">\n",
       "      <th></th>\n",
       "      <th>Domain</th>\n",
       "      <th>Area</th>\n",
       "      <th>Element</th>\n",
       "      <th>Item</th>\n",
       "      <th>Year</th>\n",
       "      <th>Unit</th>\n",
       "      <th>Value</th>\n",
       "    </tr>\n",
       "  </thead>\n",
       "  <tbody>\n",
       "    <tr>\n",
       "      <th>0</th>\n",
       "      <td>Food Balances (-2013, old methodology and popu...</td>\n",
       "      <td>United States of America</td>\n",
       "      <td>Production</td>\n",
       "      <td>Bovine Meat</td>\n",
       "      <td>2008</td>\n",
       "      <td>1000 tonnes</td>\n",
       "      <td>12163.0</td>\n",
       "    </tr>\n",
       "    <tr>\n",
       "      <th>1</th>\n",
       "      <td>Food Balances (-2013, old methodology and popu...</td>\n",
       "      <td>United States of America</td>\n",
       "      <td>Production</td>\n",
       "      <td>Bovine Meat</td>\n",
       "      <td>2009</td>\n",
       "      <td>1000 tonnes</td>\n",
       "      <td>11891.0</td>\n",
       "    </tr>\n",
       "    <tr>\n",
       "      <th>2</th>\n",
       "      <td>Food Balances (-2013, old methodology and popu...</td>\n",
       "      <td>United States of America</td>\n",
       "      <td>Production</td>\n",
       "      <td>Bovine Meat</td>\n",
       "      <td>2010</td>\n",
       "      <td>1000 tonnes</td>\n",
       "      <td>12046.0</td>\n",
       "    </tr>\n",
       "    <tr>\n",
       "      <th>3</th>\n",
       "      <td>Food Balances (-2013, old methodology and popu...</td>\n",
       "      <td>United States of America</td>\n",
       "      <td>Production</td>\n",
       "      <td>Bovine Meat</td>\n",
       "      <td>2011</td>\n",
       "      <td>1000 tonnes</td>\n",
       "      <td>11921.0</td>\n",
       "    </tr>\n",
       "    <tr>\n",
       "      <th>4</th>\n",
       "      <td>Food Balances (-2013, old methodology and popu...</td>\n",
       "      <td>United States of America</td>\n",
       "      <td>Production</td>\n",
       "      <td>Bovine Meat</td>\n",
       "      <td>2012</td>\n",
       "      <td>1000 tonnes</td>\n",
       "      <td>11811.0</td>\n",
       "    </tr>\n",
       "    <tr>\n",
       "      <th>5</th>\n",
       "      <td>Food Balances (-2013, old methodology and popu...</td>\n",
       "      <td>United States of America</td>\n",
       "      <td>Production</td>\n",
       "      <td>Bovine Meat</td>\n",
       "      <td>2013</td>\n",
       "      <td>1000 tonnes</td>\n",
       "      <td>11719.0</td>\n",
       "    </tr>\n",
       "    <tr>\n",
       "      <th>6</th>\n",
       "      <td>Food Balances (-2013, old methodology and popu...</td>\n",
       "      <td>United States of America</td>\n",
       "      <td>Import Quantity</td>\n",
       "      <td>Bovine Meat</td>\n",
       "      <td>2008</td>\n",
       "      <td>1000 tonnes</td>\n",
       "      <td>1235.0</td>\n",
       "    </tr>\n",
       "    <tr>\n",
       "      <th>7</th>\n",
       "      <td>Food Balances (-2013, old methodology and popu...</td>\n",
       "      <td>United States of America</td>\n",
       "      <td>Import Quantity</td>\n",
       "      <td>Bovine Meat</td>\n",
       "      <td>2009</td>\n",
       "      <td>1000 tonnes</td>\n",
       "      <td>1277.0</td>\n",
       "    </tr>\n",
       "    <tr>\n",
       "      <th>8</th>\n",
       "      <td>Food Balances (-2013, old methodology and popu...</td>\n",
       "      <td>United States of America</td>\n",
       "      <td>Import Quantity</td>\n",
       "      <td>Bovine Meat</td>\n",
       "      <td>2010</td>\n",
       "      <td>1000 tonnes</td>\n",
       "      <td>1135.0</td>\n",
       "    </tr>\n",
       "    <tr>\n",
       "      <th>9</th>\n",
       "      <td>Food Balances (-2013, old methodology and popu...</td>\n",
       "      <td>United States of America</td>\n",
       "      <td>Import Quantity</td>\n",
       "      <td>Bovine Meat</td>\n",
       "      <td>2011</td>\n",
       "      <td>1000 tonnes</td>\n",
       "      <td>1017.0</td>\n",
       "    </tr>\n",
       "  </tbody>\n",
       "</table>\n",
       "</div>"
      ],
      "text/plain": [
       "                                              Domain  \\\n",
       "0  Food Balances (-2013, old methodology and popu...   \n",
       "1  Food Balances (-2013, old methodology and popu...   \n",
       "2  Food Balances (-2013, old methodology and popu...   \n",
       "3  Food Balances (-2013, old methodology and popu...   \n",
       "4  Food Balances (-2013, old methodology and popu...   \n",
       "5  Food Balances (-2013, old methodology and popu...   \n",
       "6  Food Balances (-2013, old methodology and popu...   \n",
       "7  Food Balances (-2013, old methodology and popu...   \n",
       "8  Food Balances (-2013, old methodology and popu...   \n",
       "9  Food Balances (-2013, old methodology and popu...   \n",
       "\n",
       "                       Area          Element         Item  Year         Unit  \\\n",
       "0  United States of America       Production  Bovine Meat  2008  1000 tonnes   \n",
       "1  United States of America       Production  Bovine Meat  2009  1000 tonnes   \n",
       "2  United States of America       Production  Bovine Meat  2010  1000 tonnes   \n",
       "3  United States of America       Production  Bovine Meat  2011  1000 tonnes   \n",
       "4  United States of America       Production  Bovine Meat  2012  1000 tonnes   \n",
       "5  United States of America       Production  Bovine Meat  2013  1000 tonnes   \n",
       "6  United States of America  Import Quantity  Bovine Meat  2008  1000 tonnes   \n",
       "7  United States of America  Import Quantity  Bovine Meat  2009  1000 tonnes   \n",
       "8  United States of America  Import Quantity  Bovine Meat  2010  1000 tonnes   \n",
       "9  United States of America  Import Quantity  Bovine Meat  2011  1000 tonnes   \n",
       "\n",
       "     Value  \n",
       "0  12163.0  \n",
       "1  11891.0  \n",
       "2  12046.0  \n",
       "3  11921.0  \n",
       "4  11811.0  \n",
       "5  11719.0  \n",
       "6   1235.0  \n",
       "7   1277.0  \n",
       "8   1135.0  \n",
       "9   1017.0  "
      ]
     },
     "execution_count": 1,
     "metadata": {},
     "output_type": "execute_result"
    }
   ],
   "source": [
    "import pandas as pd\n",
    "fao08 = pd.read_csv('faostat_08.csv')\n",
    "fao14 = pd.read_csv('faostat_14.csv')\n",
    "\n",
    "#First we concat our dataframes together, since they have the same column structure. Then we reset the index and drop the old one.\n",
    "fao_all = pd.concat([fao08,fao14])\n",
    "fao_all.reset_index(inplace=True)\n",
    "fao_all.drop(labels='index', axis=1, inplace=True)\n",
    "fao_all[:10]"
   ]
  },
  {
   "cell_type": "markdown",
   "id": "ce6762dd",
   "metadata": {},
   "source": [
    "For the sake of ease, let's see if we need all the columns we downloaded. 'Domain' seems ambiguous - let's look at the unique values."
   ]
  },
  {
   "cell_type": "code",
   "execution_count": 2,
   "id": "24af92ff",
   "metadata": {},
   "outputs": [
    {
     "data": {
      "text/plain": [
       "array(['Food Balances (-2013, old methodology and population)',\n",
       "       'Food Balances (2014-)'], dtype=object)"
      ]
     },
     "execution_count": 2,
     "metadata": {},
     "output_type": "execute_result"
    }
   ],
   "source": [
    "fao_all['Domain'].unique()"
   ]
  },
  {
   "cell_type": "code",
   "execution_count": 3,
   "id": "26b980da",
   "metadata": {},
   "outputs": [],
   "source": [
    "fao_all.drop(labels='Domain', axis=1, inplace=True)"
   ]
  },
  {
   "cell_type": "code",
   "execution_count": 8,
   "id": "de2d753f",
   "metadata": {},
   "outputs": [
    {
     "data": {
      "text/plain": [
       "(Other uses (non-food)    55\n",
       " Export Quantity          55\n",
       " Production               55\n",
       " Stock Variation          55\n",
       " Losses                   55\n",
       " Residuals                55\n",
       " Import Quantity          55\n",
       " Tourist consumption      55\n",
       " Processing               55\n",
       " Name: Element, dtype: int64,\n",
       " Pigmeat               99\n",
       " Poultry Meat          99\n",
       " Meat, Other           99\n",
       " Bovine Meat           99\n",
       " Mutton & Goat Meat    99\n",
       " Name: Item, dtype: int64,\n",
       " 1000 tonnes    311\n",
       " Name: Unit, dtype: int64)"
      ]
     },
     "execution_count": 8,
     "metadata": {},
     "output_type": "execute_result"
    }
   ],
   "source": [
    "fao_all.Element.value_counts(), fao_all.Item.value_counts(), fao_all.Unit.value_counts()"
   ]
  },
  {
   "cell_type": "code",
   "execution_count": null,
   "id": "20741f63",
   "metadata": {},
   "outputs": [],
   "source": [
    "import matplotlib.pyplot as plt\n",
    "plt.scatter(fao_all['Year'], fao_all['Value'])\n",
    "plt.show()"
   ]
  }
 ],
 "metadata": {
  "kernelspec": {
   "display_name": "Python 3",
   "language": "python",
   "name": "python3"
  },
  "language_info": {
   "codemirror_mode": {
    "name": "ipython",
    "version": 3
   },
   "file_extension": ".py",
   "mimetype": "text/x-python",
   "name": "python",
   "nbconvert_exporter": "python",
   "pygments_lexer": "ipython3",
   "version": "3.8.8"
  }
 },
 "nbformat": 4,
 "nbformat_minor": 5
}
