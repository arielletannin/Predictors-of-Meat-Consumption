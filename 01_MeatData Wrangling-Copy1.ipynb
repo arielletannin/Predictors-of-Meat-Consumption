{
 "cells": [
  {
   "cell_type": "markdown",
   "id": "08691466",
   "metadata": {},
   "source": [
    "# Data Wrangling\n",
    "\n",
    "This first capstone is intended to forecast the consumption of red meat in the United States over the next 10 years. We will look for patterns in potential social, economic, and environmental indicators that could be predictors of consumption. \n",
    "\n",
    "In this notebook, we will inspect and clean our datasets for this project. The way that FAO stores their data, they have two separate sheets for data before 2013 and after. Since we have the same number of columns in each, our first step will be to combine these into one."
   ]
  },
  {
   "cell_type": "code",
   "execution_count": 118,
   "id": "a292b02d",
   "metadata": {},
   "outputs": [],
   "source": [
    "import pandas as pd\n",
    "import pandas as pd\n",
    "import matplotlib.pyplot as plt\n",
    "import seaborn as sns\n",
    "import os\n",
    "from lib.sb_utils import save_file"
   ]
  },
  {
   "cell_type": "code",
   "execution_count": 119,
   "id": "01cbd69c",
   "metadata": {},
   "outputs": [
    {
     "data": {
      "text/html": [
       "<div>\n",
       "<style scoped>\n",
       "    .dataframe tbody tr th:only-of-type {\n",
       "        vertical-align: middle;\n",
       "    }\n",
       "\n",
       "    .dataframe tbody tr th {\n",
       "        vertical-align: top;\n",
       "    }\n",
       "\n",
       "    .dataframe thead th {\n",
       "        text-align: right;\n",
       "    }\n",
       "</style>\n",
       "<table border=\"1\" class=\"dataframe\">\n",
       "  <thead>\n",
       "    <tr style=\"text-align: right;\">\n",
       "      <th></th>\n",
       "      <th>Domain</th>\n",
       "      <th>Area</th>\n",
       "      <th>Element</th>\n",
       "      <th>Item</th>\n",
       "      <th>Year</th>\n",
       "      <th>Value</th>\n",
       "    </tr>\n",
       "  </thead>\n",
       "  <tbody>\n",
       "    <tr>\n",
       "      <th>0</th>\n",
       "      <td>Food Balances (2014-)</td>\n",
       "      <td>United States of America</td>\n",
       "      <td>Production</td>\n",
       "      <td>Bovine Meat</td>\n",
       "      <td>2014</td>\n",
       "      <td>11698.0</td>\n",
       "    </tr>\n",
       "    <tr>\n",
       "      <th>1</th>\n",
       "      <td>Food Balances (2014-)</td>\n",
       "      <td>United States of America</td>\n",
       "      <td>Production</td>\n",
       "      <td>Bovine Meat</td>\n",
       "      <td>2015</td>\n",
       "      <td>10778.0</td>\n",
       "    </tr>\n",
       "    <tr>\n",
       "      <th>2</th>\n",
       "      <td>Food Balances (2014-)</td>\n",
       "      <td>United States of America</td>\n",
       "      <td>Production</td>\n",
       "      <td>Bovine Meat</td>\n",
       "      <td>2016</td>\n",
       "      <td>11471.0</td>\n",
       "    </tr>\n",
       "    <tr>\n",
       "      <th>3</th>\n",
       "      <td>Food Balances (2014-)</td>\n",
       "      <td>United States of America</td>\n",
       "      <td>Production</td>\n",
       "      <td>Bovine Meat</td>\n",
       "      <td>2017</td>\n",
       "      <td>11907.0</td>\n",
       "    </tr>\n",
       "    <tr>\n",
       "      <th>4</th>\n",
       "      <td>Food Balances (2014-)</td>\n",
       "      <td>United States of America</td>\n",
       "      <td>Production</td>\n",
       "      <td>Bovine Meat</td>\n",
       "      <td>2018</td>\n",
       "      <td>12219.0</td>\n",
       "    </tr>\n",
       "  </tbody>\n",
       "</table>\n",
       "</div>"
      ],
      "text/plain": [
       "                  Domain                      Area     Element         Item  \\\n",
       "0  Food Balances (2014-)  United States of America  Production  Bovine Meat   \n",
       "1  Food Balances (2014-)  United States of America  Production  Bovine Meat   \n",
       "2  Food Balances (2014-)  United States of America  Production  Bovine Meat   \n",
       "3  Food Balances (2014-)  United States of America  Production  Bovine Meat   \n",
       "4  Food Balances (2014-)  United States of America  Production  Bovine Meat   \n",
       "\n",
       "   Year    Value  \n",
       "0  2014  11698.0  \n",
       "1  2015  10778.0  \n",
       "2  2016  11471.0  \n",
       "3  2017  11907.0  \n",
       "4  2018  12219.0  "
      ]
     },
     "execution_count": 119,
     "metadata": {},
     "output_type": "execute_result"
    }
   ],
   "source": [
    "faostat = pd.read_csv('data/faostat.csv')\n",
    "faostat.head()"
   ]
  },
  {
   "cell_type": "code",
   "execution_count": 120,
   "id": "9b81646b",
   "metadata": {},
   "outputs": [
    {
     "data": {
      "text/plain": [
       "Domain      object\n",
       "Area        object\n",
       "Element     object\n",
       "Item        object\n",
       "Year         int64\n",
       "Value      float64\n",
       "dtype: object"
      ]
     },
     "execution_count": 120,
     "metadata": {},
     "output_type": "execute_result"
    }
   ],
   "source": [
    "faostat.dtypes"
   ]
  },
  {
   "cell_type": "code",
   "execution_count": 121,
   "id": "1c0905a4",
   "metadata": {},
   "outputs": [
    {
     "data": {
      "text/plain": [
       "array(['Production', 'Import Quantity', 'Stock Variation',\n",
       "       'Export Quantity', 'Losses', 'Processing', 'Other uses (non-food)',\n",
       "       'Tourist consumption', 'Residuals'], dtype=object)"
      ]
     },
     "execution_count": 121,
     "metadata": {},
     "output_type": "execute_result"
    }
   ],
   "source": [
    "faostat.Element.unique()"
   ]
  },
  {
   "cell_type": "code",
   "execution_count": 122,
   "id": "76ad4e60",
   "metadata": {},
   "outputs": [
    {
     "data": {
      "text/plain": [
       "array(['Bovine Meat', 'Mutton & Goat Meat', 'Pigmeat', 'Poultry Meat',\n",
       "       'Meat, Other'], dtype=object)"
      ]
     },
     "execution_count": 122,
     "metadata": {},
     "output_type": "execute_result"
    }
   ],
   "source": [
    "faostat.Item.unique()"
   ]
  },
  {
   "cell_type": "code",
   "execution_count": 123,
   "id": "aa51276e",
   "metadata": {},
   "outputs": [
    {
     "data": {
      "text/plain": [
       "array(['Food Balances (2014-)',\n",
       "       'Food Balances (-2013, old methodology and population)'],\n",
       "      dtype=object)"
      ]
     },
     "execution_count": 123,
     "metadata": {},
     "output_type": "execute_result"
    }
   ],
   "source": [
    "faostat['Domain'].unique()"
   ]
  },
  {
   "cell_type": "code",
   "execution_count": 124,
   "id": "c5f3bd15",
   "metadata": {},
   "outputs": [
    {
     "data": {
      "text/html": [
       "<div>\n",
       "<style scoped>\n",
       "    .dataframe tbody tr th:only-of-type {\n",
       "        vertical-align: middle;\n",
       "    }\n",
       "\n",
       "    .dataframe tbody tr th {\n",
       "        vertical-align: top;\n",
       "    }\n",
       "\n",
       "    .dataframe thead th {\n",
       "        text-align: right;\n",
       "    }\n",
       "</style>\n",
       "<table border=\"1\" class=\"dataframe\">\n",
       "  <thead>\n",
       "    <tr style=\"text-align: right;\">\n",
       "      <th></th>\n",
       "      <th>Domain</th>\n",
       "      <th>Area</th>\n",
       "      <th>Element</th>\n",
       "      <th>Item</th>\n",
       "      <th>Year</th>\n",
       "      <th>Value</th>\n",
       "    </tr>\n",
       "  </thead>\n",
       "  <tbody>\n",
       "    <tr>\n",
       "      <th>1226</th>\n",
       "      <td>Food Balances (-2013, old methodology and popu...</td>\n",
       "      <td>United States of America</td>\n",
       "      <td>Production</td>\n",
       "      <td>Pigmeat</td>\n",
       "      <td>2008</td>\n",
       "      <td>10599.0</td>\n",
       "    </tr>\n",
       "    <tr>\n",
       "      <th>1279</th>\n",
       "      <td>Food Balances (-2013, old methodology and popu...</td>\n",
       "      <td>United States of America</td>\n",
       "      <td>Import Quantity</td>\n",
       "      <td>Pigmeat</td>\n",
       "      <td>2008</td>\n",
       "      <td>454.0</td>\n",
       "    </tr>\n",
       "    <tr>\n",
       "      <th>1332</th>\n",
       "      <td>Food Balances (-2013, old methodology and popu...</td>\n",
       "      <td>United States of America</td>\n",
       "      <td>Stock Variation</td>\n",
       "      <td>Pigmeat</td>\n",
       "      <td>2008</td>\n",
       "      <td>-19.0</td>\n",
       "    </tr>\n",
       "    <tr>\n",
       "      <th>1385</th>\n",
       "      <td>Food Balances (-2013, old methodology and popu...</td>\n",
       "      <td>United States of America</td>\n",
       "      <td>Export Quantity</td>\n",
       "      <td>Pigmeat</td>\n",
       "      <td>2008</td>\n",
       "      <td>2129.0</td>\n",
       "    </tr>\n",
       "    <tr>\n",
       "      <th>1438</th>\n",
       "      <td>Food Balances (-2013, old methodology and popu...</td>\n",
       "      <td>United States of America</td>\n",
       "      <td>Losses</td>\n",
       "      <td>Pigmeat</td>\n",
       "      <td>2008</td>\n",
       "      <td>NaN</td>\n",
       "    </tr>\n",
       "    <tr>\n",
       "      <th>1491</th>\n",
       "      <td>Food Balances (-2013, old methodology and popu...</td>\n",
       "      <td>United States of America</td>\n",
       "      <td>Processing</td>\n",
       "      <td>Pigmeat</td>\n",
       "      <td>2008</td>\n",
       "      <td>0.0</td>\n",
       "    </tr>\n",
       "    <tr>\n",
       "      <th>1544</th>\n",
       "      <td>Food Balances (-2013, old methodology and popu...</td>\n",
       "      <td>United States of America</td>\n",
       "      <td>Other uses (non-food)</td>\n",
       "      <td>Pigmeat</td>\n",
       "      <td>2008</td>\n",
       "      <td>15.0</td>\n",
       "    </tr>\n",
       "    <tr>\n",
       "      <th>1597</th>\n",
       "      <td>Food Balances (-2013, old methodology and popu...</td>\n",
       "      <td>United States of America</td>\n",
       "      <td>Tourist consumption</td>\n",
       "      <td>Pigmeat</td>\n",
       "      <td>2008</td>\n",
       "      <td>NaN</td>\n",
       "    </tr>\n",
       "    <tr>\n",
       "      <th>1650</th>\n",
       "      <td>Food Balances (-2013, old methodology and popu...</td>\n",
       "      <td>United States of America</td>\n",
       "      <td>Residuals</td>\n",
       "      <td>Pigmeat</td>\n",
       "      <td>2008</td>\n",
       "      <td>NaN</td>\n",
       "    </tr>\n",
       "  </tbody>\n",
       "</table>\n",
       "</div>"
      ],
      "text/plain": [
       "                                                 Domain  \\\n",
       "1226  Food Balances (-2013, old methodology and popu...   \n",
       "1279  Food Balances (-2013, old methodology and popu...   \n",
       "1332  Food Balances (-2013, old methodology and popu...   \n",
       "1385  Food Balances (-2013, old methodology and popu...   \n",
       "1438  Food Balances (-2013, old methodology and popu...   \n",
       "1491  Food Balances (-2013, old methodology and popu...   \n",
       "1544  Food Balances (-2013, old methodology and popu...   \n",
       "1597  Food Balances (-2013, old methodology and popu...   \n",
       "1650  Food Balances (-2013, old methodology and popu...   \n",
       "\n",
       "                          Area                Element     Item  Year    Value  \n",
       "1226  United States of America             Production  Pigmeat  2008  10599.0  \n",
       "1279  United States of America        Import Quantity  Pigmeat  2008    454.0  \n",
       "1332  United States of America        Stock Variation  Pigmeat  2008    -19.0  \n",
       "1385  United States of America        Export Quantity  Pigmeat  2008   2129.0  \n",
       "1438  United States of America                 Losses  Pigmeat  2008      NaN  \n",
       "1491  United States of America             Processing  Pigmeat  2008      0.0  \n",
       "1544  United States of America  Other uses (non-food)  Pigmeat  2008     15.0  \n",
       "1597  United States of America    Tourist consumption  Pigmeat  2008      NaN  \n",
       "1650  United States of America              Residuals  Pigmeat  2008      NaN  "
      ]
     },
     "execution_count": 124,
     "metadata": {},
     "output_type": "execute_result"
    }
   ],
   "source": [
    "faostat[(faostat.Item=='Pigmeat') & (faostat.Year==2008)]"
   ]
  },
  {
   "cell_type": "markdown",
   "id": "26004ca9",
   "metadata": {},
   "source": [
    "Seems like we have some negative values. Let's get risk of those by multiplying by -1. We'll redo this later when we add and subtract elements from the items."
   ]
  },
  {
   "cell_type": "code",
   "execution_count": 125,
   "id": "4182a76c",
   "metadata": {},
   "outputs": [],
   "source": [
    "for i in range(len(faostat.Value.values)):\n",
    "    if faostat.iloc[i,5] < 0:\n",
    "        faostat.iloc[i,5]*=-1"
   ]
  },
  {
   "cell_type": "code",
   "execution_count": 126,
   "id": "b2f8d640",
   "metadata": {},
   "outputs": [
    {
     "data": {
      "text/plain": [
       "0.0"
      ]
     },
     "execution_count": 126,
     "metadata": {},
     "output_type": "execute_result"
    }
   ],
   "source": [
    "faostat.Value.min()"
   ]
  },
  {
   "cell_type": "markdown",
   "id": "e66995b4",
   "metadata": {},
   "source": [
    "## Null Values\n",
    "Next we'll check for null values. We can see from the output above, that the numeric data we care most about is the Value column. We'll want to check if and when values are null and if that corresponds to null columns."
   ]
  },
  {
   "cell_type": "code",
   "execution_count": 127,
   "id": "66d655d3",
   "metadata": {},
   "outputs": [
    {
     "data": {
      "text/plain": [
       "Domain        0\n",
       "Area          0\n",
       "Element       0\n",
       "Item          0\n",
       "Year          0\n",
       "Value      1077\n",
       "dtype: int64"
      ]
     },
     "execution_count": 127,
     "metadata": {},
     "output_type": "execute_result"
    }
   ],
   "source": [
    "faostat.isna().sum()"
   ]
  },
  {
   "cell_type": "markdown",
   "id": "aea1d22e",
   "metadata": {},
   "source": [
    "We only have null values in our Value column, we should fill those values with 0. This will preserve the observation."
   ]
  },
  {
   "cell_type": "code",
   "execution_count": 128,
   "id": "7619ec07",
   "metadata": {},
   "outputs": [],
   "source": [
    "faostat = faostat.fillna(0)"
   ]
  },
  {
   "cell_type": "markdown",
   "id": "8c3150a8",
   "metadata": {},
   "source": [
    "It looks like the \"Domain\" column is not relevant to our analysis - it only speaks to what methodology the balance sheet used - so we'll drop it. We'll also drop the Area since it's the same for all our data."
   ]
  },
  {
   "cell_type": "code",
   "execution_count": 129,
   "id": "d2ef1846",
   "metadata": {},
   "outputs": [],
   "source": [
    "faostat.drop(labels=['Domain', 'Area'], axis=1, inplace=True)"
   ]
  },
  {
   "cell_type": "markdown",
   "id": "9dd39f31",
   "metadata": {},
   "source": [
    "## Understanding \"Elements\"\n",
    "We don't have an precise measure for food consumption yet. We have a variety of \"Elements\" whose values can be taken together to measure how much meat was consumed. We don't have a sense of what the range of values here is and what makes sense to subtract and add together. Let's see what the mean value for each element can tell us."
   ]
  },
  {
   "cell_type": "code",
   "execution_count": 130,
   "id": "1051a27d",
   "metadata": {},
   "outputs": [
    {
     "data": {
      "text/plain": [
       "Element\n",
       "Export Quantity           546.572414\n",
       "Import Quantity           305.789655\n",
       "Losses                      0.000000\n",
       "Other uses (non-food)      36.610345\n",
       "Processing                  1.265517\n",
       "Production               6111.700000\n",
       "Residuals                   1.693103\n",
       "Stock Variation            15.568966\n",
       "Tourist consumption         0.000000\n",
       "Name: Value, dtype: float64"
      ]
     },
     "execution_count": 130,
     "metadata": {},
     "output_type": "execute_result"
    }
   ],
   "source": [
    "faostat.groupby('Element')['Value'].mean()"
   ]
  },
  {
   "cell_type": "code",
   "execution_count": 131,
   "id": "29b7a438",
   "metadata": {},
   "outputs": [],
   "source": [
    "faostat=faostat[faostat.Element!='Losses']"
   ]
  },
  {
   "cell_type": "code",
   "execution_count": 132,
   "id": "fe5f8678",
   "metadata": {},
   "outputs": [],
   "source": [
    "faostat=faostat[faostat.Element!='Tourist consumption']"
   ]
  },
  {
   "cell_type": "code",
   "execution_count": 133,
   "id": "06efb64e",
   "metadata": {},
   "outputs": [
    {
     "data": {
      "text/plain": [
       "Element\n",
       "Export Quantity           546.572414\n",
       "Import Quantity           305.789655\n",
       "Other uses (non-food)      36.610345\n",
       "Processing                  1.265517\n",
       "Production               6111.700000\n",
       "Residuals                   1.693103\n",
       "Stock Variation            15.568966\n",
       "Name: Value, dtype: float64"
      ]
     },
     "execution_count": 133,
     "metadata": {},
     "output_type": "execute_result"
    }
   ],
   "source": [
    "faostat.groupby('Element')['Value'].mean()"
   ]
  },
  {
   "cell_type": "markdown",
   "id": "05b35cb0",
   "metadata": {},
   "source": [
    "A few interesting things stand out: Production is by far the highest. That makes sense because the United States is a big producer of meat. That goes hand in hand with being a strong exporter of meat, which is the next highest mean. The rest of our values are a lot lower by comparison. Through some googling we have learned that Processing, Other uses, Stock variation, and Residuals all *take away* from the overall production value. These are associated with food being lost before it reaches a consumer, so we'll want to subtract them from the overall production value. "
   ]
  },
  {
   "cell_type": "markdown",
   "id": "da93a84f",
   "metadata": {},
   "source": [
    "## Create Consumption Dataframe\n",
    "Now we will copy the faostat dataframe and multiply all element values which take away from the overall consumption values by -1. This will let us sum all element values for each meat type which will give us an overall consumption values."
   ]
  },
  {
   "cell_type": "code",
   "execution_count": 134,
   "id": "89d9868d",
   "metadata": {},
   "outputs": [],
   "source": [
    "#Multiple all element values by -1 where they should be subtracted\n",
    "consumption = faostat.copy()\n",
    "pos_elems = ['Import Quantity', 'Production']\n",
    "neg_elems = set(list(consumption.Element.unique())) - set(pos_elems)\n",
    "for neg in neg_elems:\n",
    "    consumption.loc[consumption.Element==neg, ['Value']] *=-1"
   ]
  },
  {
   "cell_type": "code",
   "execution_count": 135,
   "id": "f57061ea",
   "metadata": {},
   "outputs": [
    {
     "data": {
      "text/html": [
       "<div>\n",
       "<style scoped>\n",
       "    .dataframe tbody tr th:only-of-type {\n",
       "        vertical-align: middle;\n",
       "    }\n",
       "\n",
       "    .dataframe tbody tr th {\n",
       "        vertical-align: top;\n",
       "    }\n",
       "\n",
       "    .dataframe thead th {\n",
       "        text-align: right;\n",
       "    }\n",
       "</style>\n",
       "<table border=\"1\" class=\"dataframe\">\n",
       "  <thead>\n",
       "    <tr style=\"text-align: right;\">\n",
       "      <th></th>\n",
       "      <th>Element</th>\n",
       "      <th>Item</th>\n",
       "      <th>Year</th>\n",
       "      <th>Consumption</th>\n",
       "    </tr>\n",
       "  </thead>\n",
       "  <tbody>\n",
       "    <tr>\n",
       "      <th>0</th>\n",
       "      <td>Production</td>\n",
       "      <td>Bovine Meat</td>\n",
       "      <td>2014</td>\n",
       "      <td>11698.0</td>\n",
       "    </tr>\n",
       "    <tr>\n",
       "      <th>1</th>\n",
       "      <td>Production</td>\n",
       "      <td>Bovine Meat</td>\n",
       "      <td>2015</td>\n",
       "      <td>10778.0</td>\n",
       "    </tr>\n",
       "    <tr>\n",
       "      <th>2</th>\n",
       "      <td>Production</td>\n",
       "      <td>Bovine Meat</td>\n",
       "      <td>2016</td>\n",
       "      <td>11471.0</td>\n",
       "    </tr>\n",
       "    <tr>\n",
       "      <th>3</th>\n",
       "      <td>Production</td>\n",
       "      <td>Bovine Meat</td>\n",
       "      <td>2017</td>\n",
       "      <td>11907.0</td>\n",
       "    </tr>\n",
       "    <tr>\n",
       "      <th>4</th>\n",
       "      <td>Production</td>\n",
       "      <td>Bovine Meat</td>\n",
       "      <td>2018</td>\n",
       "      <td>12219.0</td>\n",
       "    </tr>\n",
       "  </tbody>\n",
       "</table>\n",
       "</div>"
      ],
      "text/plain": [
       "      Element         Item  Year  Consumption\n",
       "0  Production  Bovine Meat  2014      11698.0\n",
       "1  Production  Bovine Meat  2015      10778.0\n",
       "2  Production  Bovine Meat  2016      11471.0\n",
       "3  Production  Bovine Meat  2017      11907.0\n",
       "4  Production  Bovine Meat  2018      12219.0"
      ]
     },
     "execution_count": 135,
     "metadata": {},
     "output_type": "execute_result"
    }
   ],
   "source": [
    "#clean consumption df\n",
    "consumption.reset_index(inplace=True)\n",
    "consumption.drop(labels='index', axis=1, inplace=True)\n",
    "consumption.rename(columns={'Value':'Consumption'}, inplace=True)\n",
    "consumption.head()"
   ]
  },
  {
   "cell_type": "markdown",
   "id": "91a78328",
   "metadata": {},
   "source": [
    "Next we need to group by Item and Year so that we can get the sum total of consumption for each type of meat (the positive elements - the elements that take away from the consumption value)."
   ]
  },
  {
   "cell_type": "code",
   "execution_count": 136,
   "id": "dc9e73df",
   "metadata": {},
   "outputs": [
    {
     "data": {
      "text/html": [
       "<div>\n",
       "<style scoped>\n",
       "    .dataframe tbody tr th:only-of-type {\n",
       "        vertical-align: middle;\n",
       "    }\n",
       "\n",
       "    .dataframe tbody tr th {\n",
       "        vertical-align: top;\n",
       "    }\n",
       "\n",
       "    .dataframe thead th {\n",
       "        text-align: right;\n",
       "    }\n",
       "</style>\n",
       "<table border=\"1\" class=\"dataframe\">\n",
       "  <thead>\n",
       "    <tr style=\"text-align: right;\">\n",
       "      <th></th>\n",
       "      <th>Item</th>\n",
       "      <th>Year</th>\n",
       "      <th>Consumption</th>\n",
       "    </tr>\n",
       "  </thead>\n",
       "  <tbody>\n",
       "    <tr>\n",
       "      <th>0</th>\n",
       "      <td>Bovine Meat</td>\n",
       "      <td>1961</td>\n",
       "      <td>7802.0</td>\n",
       "    </tr>\n",
       "    <tr>\n",
       "      <th>1</th>\n",
       "      <td>Bovine Meat</td>\n",
       "      <td>1962</td>\n",
       "      <td>7973.0</td>\n",
       "    </tr>\n",
       "    <tr>\n",
       "      <th>2</th>\n",
       "      <td>Bovine Meat</td>\n",
       "      <td>1963</td>\n",
       "      <td>8506.0</td>\n",
       "    </tr>\n",
       "    <tr>\n",
       "      <th>3</th>\n",
       "      <td>Bovine Meat</td>\n",
       "      <td>1964</td>\n",
       "      <td>9264.0</td>\n",
       "    </tr>\n",
       "    <tr>\n",
       "      <th>4</th>\n",
       "      <td>Bovine Meat</td>\n",
       "      <td>1965</td>\n",
       "      <td>9332.0</td>\n",
       "    </tr>\n",
       "  </tbody>\n",
       "</table>\n",
       "</div>"
      ],
      "text/plain": [
       "          Item  Year  Consumption\n",
       "0  Bovine Meat  1961       7802.0\n",
       "1  Bovine Meat  1962       7973.0\n",
       "2  Bovine Meat  1963       8506.0\n",
       "3  Bovine Meat  1964       9264.0\n",
       "4  Bovine Meat  1965       9332.0"
      ]
     },
     "execution_count": 136,
     "metadata": {},
     "output_type": "execute_result"
    }
   ],
   "source": [
    "#Filter dataframe by item and year to get relevant consumption value\n",
    "consumption_per_item = consumption.groupby(['Item','Year']).sum().reset_index()\n",
    "consumption_per_item.head()"
   ]
  },
  {
   "cell_type": "code",
   "execution_count": 160,
   "id": "da5e2b34",
   "metadata": {},
   "outputs": [
    {
     "data": {
      "text/html": [
       "<div>\n",
       "<style scoped>\n",
       "    .dataframe tbody tr th:only-of-type {\n",
       "        vertical-align: middle;\n",
       "    }\n",
       "\n",
       "    .dataframe tbody tr th {\n",
       "        vertical-align: top;\n",
       "    }\n",
       "\n",
       "    .dataframe thead th {\n",
       "        text-align: right;\n",
       "    }\n",
       "</style>\n",
       "<table border=\"1\" class=\"dataframe\">\n",
       "  <thead>\n",
       "    <tr style=\"text-align: right;\">\n",
       "      <th></th>\n",
       "      <th>Year</th>\n",
       "      <th>Consumption</th>\n",
       "    </tr>\n",
       "  </thead>\n",
       "  <tbody>\n",
       "    <tr>\n",
       "      <th>0</th>\n",
       "      <td>1961</td>\n",
       "      <td>479.971429</td>\n",
       "    </tr>\n",
       "    <tr>\n",
       "      <th>1</th>\n",
       "      <td>1962</td>\n",
       "      <td>489.000000</td>\n",
       "    </tr>\n",
       "    <tr>\n",
       "      <th>2</th>\n",
       "      <td>1963</td>\n",
       "      <td>516.057143</td>\n",
       "    </tr>\n",
       "    <tr>\n",
       "      <th>3</th>\n",
       "      <td>1964</td>\n",
       "      <td>540.742857</td>\n",
       "    </tr>\n",
       "    <tr>\n",
       "      <th>4</th>\n",
       "      <td>1965</td>\n",
       "      <td>532.342857</td>\n",
       "    </tr>\n",
       "  </tbody>\n",
       "</table>\n",
       "</div>"
      ],
      "text/plain": [
       "   Year  Consumption\n",
       "0  1961   479.971429\n",
       "1  1962   489.000000\n",
       "2  1963   516.057143\n",
       "3  1964   540.742857\n",
       "4  1965   532.342857"
      ]
     },
     "execution_count": 160,
     "metadata": {},
     "output_type": "execute_result"
    }
   ],
   "source": [
    "#If we want to see average values for each item per year\n",
    "all_avg = consumption.groupby(['Year']).mean().reset_index()\n",
    "all_avg[:5]"
   ]
  },
  {
   "cell_type": "markdown",
   "id": "fb79b84b",
   "metadata": {},
   "source": [
    "## Population Data\n",
    "We will also import data for total population, consumer price for agriculture, and employment in agriculture. These indicators may provide context to understand why meat consumption increases or decreases over time."
   ]
  },
  {
   "cell_type": "code",
   "execution_count": 138,
   "id": "be170482",
   "metadata": {},
   "outputs": [
    {
     "data": {
      "text/html": [
       "<div>\n",
       "<style scoped>\n",
       "    .dataframe tbody tr th:only-of-type {\n",
       "        vertical-align: middle;\n",
       "    }\n",
       "\n",
       "    .dataframe tbody tr th {\n",
       "        vertical-align: top;\n",
       "    }\n",
       "\n",
       "    .dataframe thead th {\n",
       "        text-align: right;\n",
       "    }\n",
       "</style>\n",
       "<table border=\"1\" class=\"dataframe\">\n",
       "  <thead>\n",
       "    <tr style=\"text-align: right;\">\n",
       "      <th></th>\n",
       "      <th>Element</th>\n",
       "      <th>Year</th>\n",
       "      <th>Value</th>\n",
       "    </tr>\n",
       "  </thead>\n",
       "  <tbody>\n",
       "    <tr>\n",
       "      <th>0</th>\n",
       "      <td>Rural population</td>\n",
       "      <td>1961</td>\n",
       "      <td>56180.595</td>\n",
       "    </tr>\n",
       "    <tr>\n",
       "      <th>1</th>\n",
       "      <td>Urban population</td>\n",
       "      <td>1961</td>\n",
       "      <td>133474.310</td>\n",
       "    </tr>\n",
       "    <tr>\n",
       "      <th>2</th>\n",
       "      <td>Rural population</td>\n",
       "      <td>1962</td>\n",
       "      <td>56262.705</td>\n",
       "    </tr>\n",
       "    <tr>\n",
       "      <th>3</th>\n",
       "      <td>Urban population</td>\n",
       "      <td>1962</td>\n",
       "      <td>136135.036</td>\n",
       "    </tr>\n",
       "    <tr>\n",
       "      <th>4</th>\n",
       "      <td>Rural population</td>\n",
       "      <td>1963</td>\n",
       "      <td>56293.690</td>\n",
       "    </tr>\n",
       "  </tbody>\n",
       "</table>\n",
       "</div>"
      ],
      "text/plain": [
       "            Element  Year       Value\n",
       "0  Rural population  1961   56180.595\n",
       "1  Urban population  1961  133474.310\n",
       "2  Rural population  1962   56262.705\n",
       "3  Urban population  1962  136135.036\n",
       "4  Rural population  1963   56293.690"
      ]
     },
     "execution_count": 138,
     "metadata": {},
     "output_type": "execute_result"
    }
   ],
   "source": [
    "pop = pd.read_csv('data/pop.csv')\n",
    "pop.head()"
   ]
  },
  {
   "cell_type": "code",
   "execution_count": 139,
   "id": "432c267d",
   "metadata": {},
   "outputs": [],
   "source": [
    "pop.rename(columns={'Value':'Pop'}, inplace=True)"
   ]
  },
  {
   "cell_type": "code",
   "execution_count": 140,
   "id": "a5ec1936",
   "metadata": {},
   "outputs": [
    {
     "data": {
      "text/plain": [
       "(Element    0\n",
       " Year       0\n",
       " Pop        0\n",
       " dtype: int64,\n",
       " (116, 3))"
      ]
     },
     "execution_count": 140,
     "metadata": {},
     "output_type": "execute_result"
    }
   ],
   "source": [
    "pop.isna().sum(), pop.shape"
   ]
  },
  {
   "cell_type": "code",
   "execution_count": 141,
   "id": "fcf047fc",
   "metadata": {},
   "outputs": [
    {
     "data": {
      "text/html": [
       "<div>\n",
       "<style scoped>\n",
       "    .dataframe tbody tr th:only-of-type {\n",
       "        vertical-align: middle;\n",
       "    }\n",
       "\n",
       "    .dataframe tbody tr th {\n",
       "        vertical-align: top;\n",
       "    }\n",
       "\n",
       "    .dataframe thead th {\n",
       "        text-align: right;\n",
       "    }\n",
       "</style>\n",
       "<table border=\"1\" class=\"dataframe\">\n",
       "  <thead>\n",
       "    <tr style=\"text-align: right;\">\n",
       "      <th>Element</th>\n",
       "      <th>Rural population</th>\n",
       "      <th>Urban population</th>\n",
       "    </tr>\n",
       "    <tr>\n",
       "      <th>Year</th>\n",
       "      <th></th>\n",
       "      <th></th>\n",
       "    </tr>\n",
       "  </thead>\n",
       "  <tbody>\n",
       "    <tr>\n",
       "      <th>1961</th>\n",
       "      <td>56180.595</td>\n",
       "      <td>133474.310</td>\n",
       "    </tr>\n",
       "    <tr>\n",
       "      <th>1962</th>\n",
       "      <td>56262.705</td>\n",
       "      <td>136135.036</td>\n",
       "    </tr>\n",
       "    <tr>\n",
       "      <th>1963</th>\n",
       "      <td>56293.690</td>\n",
       "      <td>138722.521</td>\n",
       "    </tr>\n",
       "    <tr>\n",
       "      <th>1964</th>\n",
       "      <td>56268.964</td>\n",
       "      <td>141222.880</td>\n",
       "    </tr>\n",
       "    <tr>\n",
       "      <th>1965</th>\n",
       "      <td>56190.881</td>\n",
       "      <td>143624.659</td>\n",
       "    </tr>\n",
       "  </tbody>\n",
       "</table>\n",
       "</div>"
      ],
      "text/plain": [
       "Element  Rural population  Urban population\n",
       "Year                                       \n",
       "1961            56180.595        133474.310\n",
       "1962            56262.705        136135.036\n",
       "1963            56293.690        138722.521\n",
       "1964            56268.964        141222.880\n",
       "1965            56190.881        143624.659"
      ]
     },
     "execution_count": 141,
     "metadata": {},
     "output_type": "execute_result"
    }
   ],
   "source": [
    "pop = pop.pivot(index ='Year', columns='Element', values='Pop')\n",
    "pop.head()"
   ]
  },
  {
   "cell_type": "markdown",
   "id": "04b87bc5",
   "metadata": {},
   "source": [
    "## Price"
   ]
  },
  {
   "cell_type": "code",
   "execution_count": 154,
   "id": "bf08fd3c",
   "metadata": {},
   "outputs": [
    {
     "data": {
      "text/html": [
       "<div>\n",
       "<style scoped>\n",
       "    .dataframe tbody tr th:only-of-type {\n",
       "        vertical-align: middle;\n",
       "    }\n",
       "\n",
       "    .dataframe tbody tr th {\n",
       "        vertical-align: top;\n",
       "    }\n",
       "\n",
       "    .dataframe thead th {\n",
       "        text-align: right;\n",
       "    }\n",
       "</style>\n",
       "<table border=\"1\" class=\"dataframe\">\n",
       "  <thead>\n",
       "    <tr style=\"text-align: right;\">\n",
       "      <th></th>\n",
       "      <th>Element</th>\n",
       "      <th>Item</th>\n",
       "      <th>Year</th>\n",
       "      <th>Unit</th>\n",
       "      <th>Value</th>\n",
       "    </tr>\n",
       "  </thead>\n",
       "  <tbody>\n",
       "    <tr>\n",
       "      <th>0</th>\n",
       "      <td>Import Quantity</td>\n",
       "      <td>Bovine Meat</td>\n",
       "      <td>1961</td>\n",
       "      <td>tonnes</td>\n",
       "      <td>387520</td>\n",
       "    </tr>\n",
       "    <tr>\n",
       "      <th>1</th>\n",
       "      <td>Import Quantity</td>\n",
       "      <td>Bovine Meat</td>\n",
       "      <td>1962</td>\n",
       "      <td>tonnes</td>\n",
       "      <td>554262</td>\n",
       "    </tr>\n",
       "    <tr>\n",
       "      <th>2</th>\n",
       "      <td>Import Quantity</td>\n",
       "      <td>Bovine Meat</td>\n",
       "      <td>1963</td>\n",
       "      <td>tonnes</td>\n",
       "      <td>647256</td>\n",
       "    </tr>\n",
       "    <tr>\n",
       "      <th>3</th>\n",
       "      <td>Import Quantity</td>\n",
       "      <td>Bovine Meat</td>\n",
       "      <td>1964</td>\n",
       "      <td>tonnes</td>\n",
       "      <td>468543</td>\n",
       "    </tr>\n",
       "    <tr>\n",
       "      <th>4</th>\n",
       "      <td>Import Quantity</td>\n",
       "      <td>Bovine Meat</td>\n",
       "      <td>1965</td>\n",
       "      <td>tonnes</td>\n",
       "      <td>410271</td>\n",
       "    </tr>\n",
       "  </tbody>\n",
       "</table>\n",
       "</div>"
      ],
      "text/plain": [
       "           Element         Item  Year    Unit   Value\n",
       "0  Import Quantity  Bovine Meat  1961  tonnes  387520\n",
       "1  Import Quantity  Bovine Meat  1962  tonnes  554262\n",
       "2  Import Quantity  Bovine Meat  1963  tonnes  647256\n",
       "3  Import Quantity  Bovine Meat  1964  tonnes  468543\n",
       "4  Import Quantity  Bovine Meat  1965  tonnes  410271"
      ]
     },
     "execution_count": 154,
     "metadata": {},
     "output_type": "execute_result"
    }
   ],
   "source": [
    "price = pd.read_csv('data/prices.csv')\n",
    "price.head()"
   ]
  },
  {
   "cell_type": "code",
   "execution_count": 167,
   "id": "76ea30f2",
   "metadata": {},
   "outputs": [
    {
     "data": {
      "text/plain": [
       "(array(['tonnes', '1000 US$'], dtype=object),\n",
       " array(['Bovine Meat', 'Poultry Meat', 'Pigmeat', 'Other Meat'],\n",
       "       dtype=object),\n",
       " array(['Import Quantity', 'Import Value', 'Export Quantity',\n",
       "        'Export Value'], dtype=object))"
      ]
     },
     "execution_count": 167,
     "metadata": {},
     "output_type": "execute_result"
    }
   ],
   "source": [
    "price.Unit.unique(), price.Item.unique(), price.Element.unique()"
   ]
  },
  {
   "cell_type": "code",
   "execution_count": 156,
   "id": "bdab7898",
   "metadata": {},
   "outputs": [
    {
     "data": {
      "text/plain": [
       "(Element    0\n",
       " Item       0\n",
       " Year       0\n",
       " Unit       0\n",
       " Value      0\n",
       " dtype: int64,\n",
       " (944, 5))"
      ]
     },
     "execution_count": 156,
     "metadata": {},
     "output_type": "execute_result"
    }
   ],
   "source": [
    "price.isna().sum(), price.shape, "
   ]
  },
  {
   "cell_type": "markdown",
   "id": "4d8f5f95",
   "metadata": {},
   "source": [
    "It would be easier if we just had one price per import/export quantity as opposed to separate values. To do this, we'll multiple dollar Values by 1000 (their unit) and divide by the import/export quantity."
   ]
  },
  {
   "cell_type": "code",
   "execution_count": 161,
   "id": "57ff59e6",
   "metadata": {},
   "outputs": [],
   "source": [
    "for i in range(len(price.Value)):\n",
    "    if price.iloc[i,3]=='1000 US$':\n",
    "        price.iloc[i,4]*=1000"
   ]
  },
  {
   "cell_type": "code",
   "execution_count": 172,
   "id": "300cd53f",
   "metadata": {},
   "outputs": [
    {
     "data": {
      "text/plain": [
       "array([590.31017754])"
      ]
     },
     "execution_count": 172,
     "metadata": {},
     "output_type": "execute_result"
    }
   ],
   "source": [
    "temp = price[(price.Item == 'Bovine Meat') & (price.Year==1961)]\n",
    "temp[temp.Element == 'Import Value'].Value.values/temp[temp.Element == 'Import Quantity'].Value.values"
   ]
  },
  {
   "cell_type": "markdown",
   "id": "718a5a84",
   "metadata": {},
   "source": [
    "## Employment Data\n",
    "Next we'll look at our employment data, see what columns can be dropped, whether there are null values, and finally find an average price per year."
   ]
  },
  {
   "cell_type": "code",
   "execution_count": 32,
   "id": "98ff7682",
   "metadata": {},
   "outputs": [
    {
     "data": {
      "text/html": [
       "<div>\n",
       "<style scoped>\n",
       "    .dataframe tbody tr th:only-of-type {\n",
       "        vertical-align: middle;\n",
       "    }\n",
       "\n",
       "    .dataframe tbody tr th {\n",
       "        vertical-align: top;\n",
       "    }\n",
       "\n",
       "    .dataframe thead th {\n",
       "        text-align: right;\n",
       "    }\n",
       "</style>\n",
       "<table border=\"1\" class=\"dataframe\">\n",
       "  <thead>\n",
       "    <tr style=\"text-align: right;\">\n",
       "      <th></th>\n",
       "      <th>Domain</th>\n",
       "      <th>Area</th>\n",
       "      <th>Indicator</th>\n",
       "      <th>Source</th>\n",
       "      <th>Year</th>\n",
       "      <th>Value</th>\n",
       "    </tr>\n",
       "  </thead>\n",
       "  <tbody>\n",
       "    <tr>\n",
       "      <th>88</th>\n",
       "      <td>Employment Indicators</td>\n",
       "      <td>United States of America</td>\n",
       "      <td>Agriculture value added per worker (US$, 2010 ...</td>\n",
       "      <td>Labour force survey</td>\n",
       "      <td>2008</td>\n",
       "      <td>69986.273438</td>\n",
       "    </tr>\n",
       "    <tr>\n",
       "      <th>89</th>\n",
       "      <td>Employment Indicators</td>\n",
       "      <td>United States of America</td>\n",
       "      <td>Employment in agriculture</td>\n",
       "      <td>Labour force survey</td>\n",
       "      <td>2008</td>\n",
       "      <td>1943.790000</td>\n",
       "    </tr>\n",
       "    <tr>\n",
       "      <th>90</th>\n",
       "      <td>Employment Indicators</td>\n",
       "      <td>United States of America</td>\n",
       "      <td>Agriculture value added per worker (US$, 2010 ...</td>\n",
       "      <td>Labour force survey</td>\n",
       "      <td>2009</td>\n",
       "      <td>79915.085938</td>\n",
       "    </tr>\n",
       "    <tr>\n",
       "      <th>91</th>\n",
       "      <td>Employment Indicators</td>\n",
       "      <td>United States of America</td>\n",
       "      <td>Employment in agriculture</td>\n",
       "      <td>Labour force survey</td>\n",
       "      <td>2009</td>\n",
       "      <td>1888.286000</td>\n",
       "    </tr>\n",
       "    <tr>\n",
       "      <th>92</th>\n",
       "      <td>Employment Indicators</td>\n",
       "      <td>United States of America</td>\n",
       "      <td>Agriculture value added per worker (US$, 2010 ...</td>\n",
       "      <td>Labour force survey</td>\n",
       "      <td>2010</td>\n",
       "      <td>73930.257813</td>\n",
       "    </tr>\n",
       "    <tr>\n",
       "      <th>93</th>\n",
       "      <td>Employment Indicators</td>\n",
       "      <td>United States of America</td>\n",
       "      <td>Employment in agriculture</td>\n",
       "      <td>Labour force survey</td>\n",
       "      <td>2010</td>\n",
       "      <td>1978.892000</td>\n",
       "    </tr>\n",
       "    <tr>\n",
       "      <th>94</th>\n",
       "      <td>Employment Indicators</td>\n",
       "      <td>United States of America</td>\n",
       "      <td>Agriculture value added per worker (US$, 2010 ...</td>\n",
       "      <td>Labour force survey</td>\n",
       "      <td>2011</td>\n",
       "      <td>69596.734375</td>\n",
       "    </tr>\n",
       "    <tr>\n",
       "      <th>95</th>\n",
       "      <td>Employment Indicators</td>\n",
       "      <td>United States of America</td>\n",
       "      <td>Employment in agriculture</td>\n",
       "      <td>Labour force survey</td>\n",
       "      <td>2011</td>\n",
       "      <td>2020.801000</td>\n",
       "    </tr>\n",
       "    <tr>\n",
       "      <th>96</th>\n",
       "      <td>Employment Indicators</td>\n",
       "      <td>United States of America</td>\n",
       "      <td>Agriculture value added per worker (US$, 2010 ...</td>\n",
       "      <td>Labour force survey</td>\n",
       "      <td>2012</td>\n",
       "      <td>68901.375000</td>\n",
       "    </tr>\n",
       "    <tr>\n",
       "      <th>97</th>\n",
       "      <td>Employment Indicators</td>\n",
       "      <td>United States of America</td>\n",
       "      <td>Employment in agriculture</td>\n",
       "      <td>Labour force survey</td>\n",
       "      <td>2012</td>\n",
       "      <td>1966.731000</td>\n",
       "    </tr>\n",
       "    <tr>\n",
       "      <th>98</th>\n",
       "      <td>Employment Indicators</td>\n",
       "      <td>United States of America</td>\n",
       "      <td>Agriculture value added per worker (US$, 2010 ...</td>\n",
       "      <td>Labour force survey</td>\n",
       "      <td>2013</td>\n",
       "      <td>83341.570313</td>\n",
       "    </tr>\n",
       "    <tr>\n",
       "      <th>99</th>\n",
       "      <td>Employment Indicators</td>\n",
       "      <td>United States of America</td>\n",
       "      <td>Employment in agriculture</td>\n",
       "      <td>Labour force survey</td>\n",
       "      <td>2013</td>\n",
       "      <td>1895.752000</td>\n",
       "    </tr>\n",
       "    <tr>\n",
       "      <th>100</th>\n",
       "      <td>Employment Indicators</td>\n",
       "      <td>United States of America</td>\n",
       "      <td>Agriculture value added per worker (US$, 2010 ...</td>\n",
       "      <td>Labour force survey</td>\n",
       "      <td>2014</td>\n",
       "      <td>80570.046875</td>\n",
       "    </tr>\n",
       "    <tr>\n",
       "      <th>101</th>\n",
       "      <td>Employment Indicators</td>\n",
       "      <td>United States of America</td>\n",
       "      <td>Employment in agriculture</td>\n",
       "      <td>Labour force survey</td>\n",
       "      <td>2014</td>\n",
       "      <td>1971.265000</td>\n",
       "    </tr>\n",
       "    <tr>\n",
       "      <th>102</th>\n",
       "      <td>Employment Indicators</td>\n",
       "      <td>United States of America</td>\n",
       "      <td>Agriculture value added per worker (US$, 2010 ...</td>\n",
       "      <td>Labour force survey</td>\n",
       "      <td>2015</td>\n",
       "      <td>79239.742188</td>\n",
       "    </tr>\n",
       "    <tr>\n",
       "      <th>103</th>\n",
       "      <td>Employment Indicators</td>\n",
       "      <td>United States of America</td>\n",
       "      <td>Employment in agriculture</td>\n",
       "      <td>Labour force survey</td>\n",
       "      <td>2015</td>\n",
       "      <td>2138.618000</td>\n",
       "    </tr>\n",
       "    <tr>\n",
       "      <th>104</th>\n",
       "      <td>Employment Indicators</td>\n",
       "      <td>United States of America</td>\n",
       "      <td>Agriculture value added per worker (US$, 2010 ...</td>\n",
       "      <td>Labour force survey</td>\n",
       "      <td>2016</td>\n",
       "      <td>81611.500000</td>\n",
       "    </tr>\n",
       "    <tr>\n",
       "      <th>105</th>\n",
       "      <td>Employment Indicators</td>\n",
       "      <td>United States of America</td>\n",
       "      <td>Employment in agriculture</td>\n",
       "      <td>Labour force survey</td>\n",
       "      <td>2016</td>\n",
       "      <td>2165.220000</td>\n",
       "    </tr>\n",
       "    <tr>\n",
       "      <th>106</th>\n",
       "      <td>Employment Indicators</td>\n",
       "      <td>United States of America</td>\n",
       "      <td>Agriculture value added per worker (US$, 2010 ...</td>\n",
       "      <td>Labour force survey</td>\n",
       "      <td>2017</td>\n",
       "      <td>76892.039063</td>\n",
       "    </tr>\n",
       "    <tr>\n",
       "      <th>107</th>\n",
       "      <td>Employment Indicators</td>\n",
       "      <td>United States of America</td>\n",
       "      <td>Employment in agriculture</td>\n",
       "      <td>Labour force survey</td>\n",
       "      <td>2017</td>\n",
       "      <td>2188.215000</td>\n",
       "    </tr>\n",
       "    <tr>\n",
       "      <th>109</th>\n",
       "      <td>Employment Indicators</td>\n",
       "      <td>United States of America</td>\n",
       "      <td>Employment in agriculture</td>\n",
       "      <td>Labour force survey</td>\n",
       "      <td>2018</td>\n",
       "      <td>2132.997000</td>\n",
       "    </tr>\n",
       "  </tbody>\n",
       "</table>\n",
       "</div>"
      ],
      "text/plain": [
       "                    Domain                      Area  \\\n",
       "88   Employment Indicators  United States of America   \n",
       "89   Employment Indicators  United States of America   \n",
       "90   Employment Indicators  United States of America   \n",
       "91   Employment Indicators  United States of America   \n",
       "92   Employment Indicators  United States of America   \n",
       "93   Employment Indicators  United States of America   \n",
       "94   Employment Indicators  United States of America   \n",
       "95   Employment Indicators  United States of America   \n",
       "96   Employment Indicators  United States of America   \n",
       "97   Employment Indicators  United States of America   \n",
       "98   Employment Indicators  United States of America   \n",
       "99   Employment Indicators  United States of America   \n",
       "100  Employment Indicators  United States of America   \n",
       "101  Employment Indicators  United States of America   \n",
       "102  Employment Indicators  United States of America   \n",
       "103  Employment Indicators  United States of America   \n",
       "104  Employment Indicators  United States of America   \n",
       "105  Employment Indicators  United States of America   \n",
       "106  Employment Indicators  United States of America   \n",
       "107  Employment Indicators  United States of America   \n",
       "109  Employment Indicators  United States of America   \n",
       "\n",
       "                                             Indicator               Source  \\\n",
       "88   Agriculture value added per worker (US$, 2010 ...  Labour force survey   \n",
       "89                           Employment in agriculture  Labour force survey   \n",
       "90   Agriculture value added per worker (US$, 2010 ...  Labour force survey   \n",
       "91                           Employment in agriculture  Labour force survey   \n",
       "92   Agriculture value added per worker (US$, 2010 ...  Labour force survey   \n",
       "93                           Employment in agriculture  Labour force survey   \n",
       "94   Agriculture value added per worker (US$, 2010 ...  Labour force survey   \n",
       "95                           Employment in agriculture  Labour force survey   \n",
       "96   Agriculture value added per worker (US$, 2010 ...  Labour force survey   \n",
       "97                           Employment in agriculture  Labour force survey   \n",
       "98   Agriculture value added per worker (US$, 2010 ...  Labour force survey   \n",
       "99                           Employment in agriculture  Labour force survey   \n",
       "100  Agriculture value added per worker (US$, 2010 ...  Labour force survey   \n",
       "101                          Employment in agriculture  Labour force survey   \n",
       "102  Agriculture value added per worker (US$, 2010 ...  Labour force survey   \n",
       "103                          Employment in agriculture  Labour force survey   \n",
       "104  Agriculture value added per worker (US$, 2010 ...  Labour force survey   \n",
       "105                          Employment in agriculture  Labour force survey   \n",
       "106  Agriculture value added per worker (US$, 2010 ...  Labour force survey   \n",
       "107                          Employment in agriculture  Labour force survey   \n",
       "109                          Employment in agriculture  Labour force survey   \n",
       "\n",
       "     Year         Value  \n",
       "88   2008  69986.273438  \n",
       "89   2008   1943.790000  \n",
       "90   2009  79915.085938  \n",
       "91   2009   1888.286000  \n",
       "92   2010  73930.257813  \n",
       "93   2010   1978.892000  \n",
       "94   2011  69596.734375  \n",
       "95   2011   2020.801000  \n",
       "96   2012  68901.375000  \n",
       "97   2012   1966.731000  \n",
       "98   2013  83341.570313  \n",
       "99   2013   1895.752000  \n",
       "100  2014  80570.046875  \n",
       "101  2014   1971.265000  \n",
       "102  2015  79239.742188  \n",
       "103  2015   2138.618000  \n",
       "104  2016  81611.500000  \n",
       "105  2016   2165.220000  \n",
       "106  2017  76892.039063  \n",
       "107  2017   2188.215000  \n",
       "109  2018   2132.997000  "
      ]
     },
     "execution_count": 32,
     "metadata": {},
     "output_type": "execute_result"
    }
   ],
   "source": [
    "employment = pd.read_csv('data/employment.csv')\n",
    "employment[employment.Value.isna()==False]"
   ]
  },
  {
   "cell_type": "code",
   "execution_count": 36,
   "id": "a97f35c0",
   "metadata": {},
   "outputs": [
    {
     "data": {
      "text/html": [
       "<div>\n",
       "<style scoped>\n",
       "    .dataframe tbody tr th:only-of-type {\n",
       "        vertical-align: middle;\n",
       "    }\n",
       "\n",
       "    .dataframe tbody tr th {\n",
       "        vertical-align: top;\n",
       "    }\n",
       "\n",
       "    .dataframe thead th {\n",
       "        text-align: right;\n",
       "    }\n",
       "</style>\n",
       "<table border=\"1\" class=\"dataframe\">\n",
       "  <thead>\n",
       "    <tr style=\"text-align: right;\">\n",
       "      <th></th>\n",
       "      <th>Domain</th>\n",
       "      <th>Area</th>\n",
       "      <th>Indicator</th>\n",
       "      <th>Source</th>\n",
       "      <th>Year</th>\n",
       "      <th>Value</th>\n",
       "    </tr>\n",
       "  </thead>\n",
       "  <tbody>\n",
       "    <tr>\n",
       "      <th>0</th>\n",
       "      <td>Employment Indicators</td>\n",
       "      <td>United States of America</td>\n",
       "      <td>Agriculture value added per worker (US$, 2010 ...</td>\n",
       "      <td>Administrative records</td>\n",
       "      <td>2008</td>\n",
       "      <td>NaN</td>\n",
       "    </tr>\n",
       "    <tr>\n",
       "      <th>1</th>\n",
       "      <td>Employment Indicators</td>\n",
       "      <td>United States of America</td>\n",
       "      <td>Employment in agriculture</td>\n",
       "      <td>Administrative records</td>\n",
       "      <td>2008</td>\n",
       "      <td>NaN</td>\n",
       "    </tr>\n",
       "    <tr>\n",
       "      <th>2</th>\n",
       "      <td>Employment Indicators</td>\n",
       "      <td>United States of America</td>\n",
       "      <td>Agriculture value added per worker (US$, 2010 ...</td>\n",
       "      <td>Administrative records</td>\n",
       "      <td>2009</td>\n",
       "      <td>NaN</td>\n",
       "    </tr>\n",
       "    <tr>\n",
       "      <th>3</th>\n",
       "      <td>Employment Indicators</td>\n",
       "      <td>United States of America</td>\n",
       "      <td>Employment in agriculture</td>\n",
       "      <td>Administrative records</td>\n",
       "      <td>2009</td>\n",
       "      <td>NaN</td>\n",
       "    </tr>\n",
       "    <tr>\n",
       "      <th>4</th>\n",
       "      <td>Employment Indicators</td>\n",
       "      <td>United States of America</td>\n",
       "      <td>Agriculture value added per worker (US$, 2010 ...</td>\n",
       "      <td>Administrative records</td>\n",
       "      <td>2010</td>\n",
       "      <td>NaN</td>\n",
       "    </tr>\n",
       "    <tr>\n",
       "      <th>...</th>\n",
       "      <td>...</td>\n",
       "      <td>...</td>\n",
       "      <td>...</td>\n",
       "      <td>...</td>\n",
       "      <td>...</td>\n",
       "      <td>...</td>\n",
       "    </tr>\n",
       "    <tr>\n",
       "      <th>149</th>\n",
       "      <td>Employment Indicators</td>\n",
       "      <td>United States of America</td>\n",
       "      <td>Employment in agriculture</td>\n",
       "      <td>Population census</td>\n",
       "      <td>2016</td>\n",
       "      <td>NaN</td>\n",
       "    </tr>\n",
       "    <tr>\n",
       "      <th>150</th>\n",
       "      <td>Employment Indicators</td>\n",
       "      <td>United States of America</td>\n",
       "      <td>Agriculture value added per worker (US$, 2010 ...</td>\n",
       "      <td>Population census</td>\n",
       "      <td>2017</td>\n",
       "      <td>NaN</td>\n",
       "    </tr>\n",
       "    <tr>\n",
       "      <th>151</th>\n",
       "      <td>Employment Indicators</td>\n",
       "      <td>United States of America</td>\n",
       "      <td>Employment in agriculture</td>\n",
       "      <td>Population census</td>\n",
       "      <td>2017</td>\n",
       "      <td>NaN</td>\n",
       "    </tr>\n",
       "    <tr>\n",
       "      <th>152</th>\n",
       "      <td>Employment Indicators</td>\n",
       "      <td>United States of America</td>\n",
       "      <td>Agriculture value added per worker (US$, 2010 ...</td>\n",
       "      <td>Population census</td>\n",
       "      <td>2018</td>\n",
       "      <td>NaN</td>\n",
       "    </tr>\n",
       "    <tr>\n",
       "      <th>153</th>\n",
       "      <td>Employment Indicators</td>\n",
       "      <td>United States of America</td>\n",
       "      <td>Employment in agriculture</td>\n",
       "      <td>Population census</td>\n",
       "      <td>2018</td>\n",
       "      <td>NaN</td>\n",
       "    </tr>\n",
       "  </tbody>\n",
       "</table>\n",
       "<p>132 rows × 6 columns</p>\n",
       "</div>"
      ],
      "text/plain": [
       "                    Domain                      Area  \\\n",
       "0    Employment Indicators  United States of America   \n",
       "1    Employment Indicators  United States of America   \n",
       "2    Employment Indicators  United States of America   \n",
       "3    Employment Indicators  United States of America   \n",
       "4    Employment Indicators  United States of America   \n",
       "..                     ...                       ...   \n",
       "149  Employment Indicators  United States of America   \n",
       "150  Employment Indicators  United States of America   \n",
       "151  Employment Indicators  United States of America   \n",
       "152  Employment Indicators  United States of America   \n",
       "153  Employment Indicators  United States of America   \n",
       "\n",
       "                                             Indicator  \\\n",
       "0    Agriculture value added per worker (US$, 2010 ...   \n",
       "1                            Employment in agriculture   \n",
       "2    Agriculture value added per worker (US$, 2010 ...   \n",
       "3                            Employment in agriculture   \n",
       "4    Agriculture value added per worker (US$, 2010 ...   \n",
       "..                                                 ...   \n",
       "149                          Employment in agriculture   \n",
       "150  Agriculture value added per worker (US$, 2010 ...   \n",
       "151                          Employment in agriculture   \n",
       "152  Agriculture value added per worker (US$, 2010 ...   \n",
       "153                          Employment in agriculture   \n",
       "\n",
       "                     Source  Year  Value  \n",
       "0    Administrative records  2008    NaN  \n",
       "1    Administrative records  2008    NaN  \n",
       "2    Administrative records  2009    NaN  \n",
       "3    Administrative records  2009    NaN  \n",
       "4    Administrative records  2010    NaN  \n",
       "..                      ...   ...    ...  \n",
       "149       Population census  2016    NaN  \n",
       "150       Population census  2017    NaN  \n",
       "151       Population census  2017    NaN  \n",
       "152       Population census  2018    NaN  \n",
       "153       Population census  2018    NaN  \n",
       "\n",
       "[132 rows x 6 columns]"
      ]
     },
     "execution_count": 36,
     "metadata": {},
     "output_type": "execute_result"
    }
   ],
   "source": [
    "employment[employment.Source !='Labour force survey']"
   ]
  },
  {
   "cell_type": "code",
   "execution_count": 32,
   "id": "9415a06c",
   "metadata": {},
   "outputs": [
    {
     "data": {
      "text/plain": [
       "(133, (154, 6))"
      ]
     },
     "execution_count": 32,
     "metadata": {},
     "output_type": "execute_result"
    }
   ],
   "source": [
    "employment.Value.isna().sum(), employment.shape"
   ]
  },
  {
   "cell_type": "code",
   "execution_count": 33,
   "id": "e372e8aa",
   "metadata": {},
   "outputs": [
    {
     "data": {
      "text/plain": [
       "(array(['Agriculture value added per worker (US$, 2010 prices)',\n",
       "        'Employment in agriculture'], dtype=object),\n",
       " array(['Administrative records', 'Employment surveys',\n",
       "        'Household income and expenditure survey', 'Household survey',\n",
       "        'Labour force survey', 'Official estimates', 'Population census'],\n",
       "       dtype=object))"
      ]
     },
     "execution_count": 33,
     "metadata": {},
     "output_type": "execute_result"
    }
   ],
   "source": [
    "employment.Indicator.unique(), employment.Source.unique()"
   ]
  },
  {
   "cell_type": "code",
   "execution_count": 34,
   "id": "29df1736",
   "metadata": {},
   "outputs": [],
   "source": [
    "employment = employment[~employment.Value.isna()]\n",
    "employment = employment[employment.Indicator=='Employment in agriculture']"
   ]
  },
  {
   "cell_type": "code",
   "execution_count": 35,
   "id": "8c121adc",
   "metadata": {},
   "outputs": [],
   "source": [
    "employment.drop(labels=['Domain', 'Area', 'Source', 'Indicator'], axis=1,inplace=True)\n",
    "employment.rename(columns={'Value':'Employment'}, inplace=True)"
   ]
  },
  {
   "cell_type": "code",
   "execution_count": 36,
   "id": "7e2fdc75",
   "metadata": {},
   "outputs": [
    {
     "data": {
      "text/html": [
       "<div>\n",
       "<style scoped>\n",
       "    .dataframe tbody tr th:only-of-type {\n",
       "        vertical-align: middle;\n",
       "    }\n",
       "\n",
       "    .dataframe tbody tr th {\n",
       "        vertical-align: top;\n",
       "    }\n",
       "\n",
       "    .dataframe thead th {\n",
       "        text-align: right;\n",
       "    }\n",
       "</style>\n",
       "<table border=\"1\" class=\"dataframe\">\n",
       "  <thead>\n",
       "    <tr style=\"text-align: right;\">\n",
       "      <th></th>\n",
       "      <th>Year</th>\n",
       "      <th>Employment</th>\n",
       "    </tr>\n",
       "  </thead>\n",
       "  <tbody>\n",
       "    <tr>\n",
       "      <th>0</th>\n",
       "      <td>2008</td>\n",
       "      <td>1943.790</td>\n",
       "    </tr>\n",
       "    <tr>\n",
       "      <th>1</th>\n",
       "      <td>2009</td>\n",
       "      <td>1888.286</td>\n",
       "    </tr>\n",
       "    <tr>\n",
       "      <th>2</th>\n",
       "      <td>2010</td>\n",
       "      <td>1978.892</td>\n",
       "    </tr>\n",
       "    <tr>\n",
       "      <th>3</th>\n",
       "      <td>2011</td>\n",
       "      <td>2020.801</td>\n",
       "    </tr>\n",
       "    <tr>\n",
       "      <th>4</th>\n",
       "      <td>2012</td>\n",
       "      <td>1966.731</td>\n",
       "    </tr>\n",
       "  </tbody>\n",
       "</table>\n",
       "</div>"
      ],
      "text/plain": [
       "   Year  Employment\n",
       "0  2008    1943.790\n",
       "1  2009    1888.286\n",
       "2  2010    1978.892\n",
       "3  2011    2020.801\n",
       "4  2012    1966.731"
      ]
     },
     "execution_count": 36,
     "metadata": {},
     "output_type": "execute_result"
    }
   ],
   "source": [
    "employment.reset_index(inplace=True)\n",
    "employment.drop(labels='index', axis=1, inplace=True)\n",
    "employment.head()"
   ]
  },
  {
   "cell_type": "markdown",
   "id": "369fc5e2",
   "metadata": {},
   "source": [
    "## Combining Tables"
   ]
  },
  {
   "cell_type": "code",
   "execution_count": 59,
   "id": "2c9b9ed6",
   "metadata": {},
   "outputs": [
    {
     "data": {
      "text/html": [
       "<div>\n",
       "<style scoped>\n",
       "    .dataframe tbody tr th:only-of-type {\n",
       "        vertical-align: middle;\n",
       "    }\n",
       "\n",
       "    .dataframe tbody tr th {\n",
       "        vertical-align: top;\n",
       "    }\n",
       "\n",
       "    .dataframe thead th {\n",
       "        text-align: right;\n",
       "    }\n",
       "</style>\n",
       "<table border=\"1\" class=\"dataframe\">\n",
       "  <thead>\n",
       "    <tr style=\"text-align: right;\">\n",
       "      <th></th>\n",
       "      <th>Item</th>\n",
       "      <th>Year</th>\n",
       "      <th>Consumption</th>\n",
       "      <th>Pop</th>\n",
       "    </tr>\n",
       "  </thead>\n",
       "  <tbody>\n",
       "    <tr>\n",
       "      <th>0</th>\n",
       "      <td>Bovine Meat</td>\n",
       "      <td>2008</td>\n",
       "      <td>12444.0</td>\n",
       "      <td>303486.012</td>\n",
       "    </tr>\n",
       "    <tr>\n",
       "      <th>1</th>\n",
       "      <td>Bovine Meat</td>\n",
       "      <td>2009</td>\n",
       "      <td>12258.0</td>\n",
       "      <td>306307.567</td>\n",
       "    </tr>\n",
       "    <tr>\n",
       "      <th>2</th>\n",
       "      <td>Bovine Meat</td>\n",
       "      <td>2010</td>\n",
       "      <td>12072.0</td>\n",
       "      <td>309011.475</td>\n",
       "    </tr>\n",
       "    <tr>\n",
       "      <th>3</th>\n",
       "      <td>Bovine Meat</td>\n",
       "      <td>2011</td>\n",
       "      <td>11592.0</td>\n",
       "      <td>311584.047</td>\n",
       "    </tr>\n",
       "    <tr>\n",
       "      <th>4</th>\n",
       "      <td>Bovine Meat</td>\n",
       "      <td>2012</td>\n",
       "      <td>11725.0</td>\n",
       "      <td>314043.885</td>\n",
       "    </tr>\n",
       "  </tbody>\n",
       "</table>\n",
       "</div>"
      ],
      "text/plain": [
       "          Item  Year  Consumption         Pop\n",
       "0  Bovine Meat  2008      12444.0  303486.012\n",
       "1  Bovine Meat  2009      12258.0  306307.567\n",
       "2  Bovine Meat  2010      12072.0  309011.475\n",
       "3  Bovine Meat  2011      11592.0  311584.047\n",
       "4  Bovine Meat  2012      11725.0  314043.885"
      ]
     },
     "execution_count": 59,
     "metadata": {},
     "output_type": "execute_result"
    }
   ],
   "source": [
    "merged1 = pd.merge(consumption_per_item, pop, how='left', on='Year')\n",
    "merged1.head()"
   ]
  },
  {
   "cell_type": "code",
   "execution_count": 60,
   "id": "8203b318",
   "metadata": {},
   "outputs": [
    {
     "data": {
      "text/html": [
       "<div>\n",
       "<style scoped>\n",
       "    .dataframe tbody tr th:only-of-type {\n",
       "        vertical-align: middle;\n",
       "    }\n",
       "\n",
       "    .dataframe tbody tr th {\n",
       "        vertical-align: top;\n",
       "    }\n",
       "\n",
       "    .dataframe thead th {\n",
       "        text-align: right;\n",
       "    }\n",
       "</style>\n",
       "<table border=\"1\" class=\"dataframe\">\n",
       "  <thead>\n",
       "    <tr style=\"text-align: right;\">\n",
       "      <th></th>\n",
       "      <th>Item</th>\n",
       "      <th>Year</th>\n",
       "      <th>Consumption</th>\n",
       "      <th>Pop</th>\n",
       "      <th>Price</th>\n",
       "    </tr>\n",
       "  </thead>\n",
       "  <tbody>\n",
       "    <tr>\n",
       "      <th>0</th>\n",
       "      <td>Bovine Meat</td>\n",
       "      <td>2008</td>\n",
       "      <td>12444.0</td>\n",
       "      <td>303486.012</td>\n",
       "      <td>89.511370</td>\n",
       "    </tr>\n",
       "    <tr>\n",
       "      <th>1</th>\n",
       "      <td>Bovine Meat</td>\n",
       "      <td>2009</td>\n",
       "      <td>12258.0</td>\n",
       "      <td>306307.567</td>\n",
       "      <td>89.552337</td>\n",
       "    </tr>\n",
       "    <tr>\n",
       "      <th>2</th>\n",
       "      <td>Bovine Meat</td>\n",
       "      <td>2010</td>\n",
       "      <td>12072.0</td>\n",
       "      <td>309011.475</td>\n",
       "      <td>90.440451</td>\n",
       "    </tr>\n",
       "    <tr>\n",
       "      <th>3</th>\n",
       "      <td>Bovine Meat</td>\n",
       "      <td>2011</td>\n",
       "      <td>11592.0</td>\n",
       "      <td>311584.047</td>\n",
       "      <td>94.027484</td>\n",
       "    </tr>\n",
       "    <tr>\n",
       "      <th>4</th>\n",
       "      <td>Bovine Meat</td>\n",
       "      <td>2012</td>\n",
       "      <td>11725.0</td>\n",
       "      <td>314043.885</td>\n",
       "      <td>96.152371</td>\n",
       "    </tr>\n",
       "  </tbody>\n",
       "</table>\n",
       "</div>"
      ],
      "text/plain": [
       "          Item  Year  Consumption         Pop      Price\n",
       "0  Bovine Meat  2008      12444.0  303486.012  89.511370\n",
       "1  Bovine Meat  2009      12258.0  306307.567  89.552337\n",
       "2  Bovine Meat  2010      12072.0  309011.475  90.440451\n",
       "3  Bovine Meat  2011      11592.0  311584.047  94.027484\n",
       "4  Bovine Meat  2012      11725.0  314043.885  96.152371"
      ]
     },
     "execution_count": 60,
     "metadata": {},
     "output_type": "execute_result"
    }
   ],
   "source": [
    "merged2 = pd.merge(merged1, price_per_year, how='left', on='Year')\n",
    "merged2.head()"
   ]
  },
  {
   "cell_type": "code",
   "execution_count": 61,
   "id": "a30994ec",
   "metadata": {},
   "outputs": [
    {
     "data": {
      "text/html": [
       "<div>\n",
       "<style scoped>\n",
       "    .dataframe tbody tr th:only-of-type {\n",
       "        vertical-align: middle;\n",
       "    }\n",
       "\n",
       "    .dataframe tbody tr th {\n",
       "        vertical-align: top;\n",
       "    }\n",
       "\n",
       "    .dataframe thead th {\n",
       "        text-align: right;\n",
       "    }\n",
       "</style>\n",
       "<table border=\"1\" class=\"dataframe\">\n",
       "  <thead>\n",
       "    <tr style=\"text-align: right;\">\n",
       "      <th></th>\n",
       "      <th>Item</th>\n",
       "      <th>Year</th>\n",
       "      <th>Consumption</th>\n",
       "      <th>Pop</th>\n",
       "      <th>Price</th>\n",
       "      <th>Employment</th>\n",
       "    </tr>\n",
       "  </thead>\n",
       "  <tbody>\n",
       "    <tr>\n",
       "      <th>0</th>\n",
       "      <td>Bovine Meat</td>\n",
       "      <td>2008</td>\n",
       "      <td>12444.0</td>\n",
       "      <td>303486.012</td>\n",
       "      <td>89.511370</td>\n",
       "      <td>1943.790</td>\n",
       "    </tr>\n",
       "    <tr>\n",
       "      <th>1</th>\n",
       "      <td>Bovine Meat</td>\n",
       "      <td>2009</td>\n",
       "      <td>12258.0</td>\n",
       "      <td>306307.567</td>\n",
       "      <td>89.552337</td>\n",
       "      <td>1888.286</td>\n",
       "    </tr>\n",
       "    <tr>\n",
       "      <th>2</th>\n",
       "      <td>Bovine Meat</td>\n",
       "      <td>2010</td>\n",
       "      <td>12072.0</td>\n",
       "      <td>309011.475</td>\n",
       "      <td>90.440451</td>\n",
       "      <td>1978.892</td>\n",
       "    </tr>\n",
       "    <tr>\n",
       "      <th>3</th>\n",
       "      <td>Bovine Meat</td>\n",
       "      <td>2011</td>\n",
       "      <td>11592.0</td>\n",
       "      <td>311584.047</td>\n",
       "      <td>94.027484</td>\n",
       "      <td>2020.801</td>\n",
       "    </tr>\n",
       "    <tr>\n",
       "      <th>4</th>\n",
       "      <td>Bovine Meat</td>\n",
       "      <td>2012</td>\n",
       "      <td>11725.0</td>\n",
       "      <td>314043.885</td>\n",
       "      <td>96.152371</td>\n",
       "      <td>1966.731</td>\n",
       "    </tr>\n",
       "  </tbody>\n",
       "</table>\n",
       "</div>"
      ],
      "text/plain": [
       "          Item  Year  Consumption         Pop      Price  Employment\n",
       "0  Bovine Meat  2008      12444.0  303486.012  89.511370    1943.790\n",
       "1  Bovine Meat  2009      12258.0  306307.567  89.552337    1888.286\n",
       "2  Bovine Meat  2010      12072.0  309011.475  90.440451    1978.892\n",
       "3  Bovine Meat  2011      11592.0  311584.047  94.027484    2020.801\n",
       "4  Bovine Meat  2012      11725.0  314043.885  96.152371    1966.731"
      ]
     },
     "execution_count": 61,
     "metadata": {},
     "output_type": "execute_result"
    }
   ],
   "source": [
    "merged_indicators = pd.merge(merged2, employment, how='left', on='Year')\n",
    "merged_indicators.head()"
   ]
  },
  {
   "cell_type": "code",
   "execution_count": 65,
   "id": "10525a3a",
   "metadata": {},
   "outputs": [
    {
     "name": "stdout",
     "output_type": "stream",
     "text": [
      "Writing file.  \"data/merged_data.csv\"\n"
     ]
    }
   ],
   "source": [
    "datapath = 'data' \n",
    "save_file(merged_indicators, 'merged_data.csv', datapath)"
   ]
  },
  {
   "cell_type": "code",
   "execution_count": null,
   "id": "8f5fc5e3",
   "metadata": {},
   "outputs": [],
   "source": []
  }
 ],
 "metadata": {
  "kernelspec": {
   "display_name": "Python 3",
   "language": "python",
   "name": "python3"
  },
  "language_info": {
   "codemirror_mode": {
    "name": "ipython",
    "version": 3
   },
   "file_extension": ".py",
   "mimetype": "text/x-python",
   "name": "python",
   "nbconvert_exporter": "python",
   "pygments_lexer": "ipython3",
   "version": "3.8.8"
  }
 },
 "nbformat": 4,
 "nbformat_minor": 5
}
