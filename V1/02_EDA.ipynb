{
 "cells": [
  {
   "cell_type": "markdown",
   "id": "0142f974",
   "metadata": {},
   "source": [
    "## EDA"
   ]
  },
  {
   "cell_type": "markdown",
   "id": "c48c35ee",
   "metadata": {},
   "source": [
    "Goals: \n",
    "- Identify patterns and develop hypotheses.\n",
    "- Test technical assumptions. Inform model selection and feature engineering.\n",
    "- Build an intuition for the data."
   ]
  },
  {
   "cell_type": "code",
   "execution_count": 2,
   "id": "aa9ccbd3",
   "metadata": {},
   "outputs": [],
   "source": [
    "import pandas as pd\n",
    "import numpy as np\n",
    "import os\n",
    "import matplotlib.pyplot as plt\n",
    "import seaborn as sns\n",
    "from sklearn.decomposition import PCA\n",
    "from sklearn.preprocessing import scale"
   ]
  },
  {
   "cell_type": "markdown",
   "id": "2691d6df",
   "metadata": {},
   "source": [
    "### Form hypotheses/develop investigation themes to explore\n",
    "Quantify:\n",
    "Location: mean, median, mode, interquartile mean Spread: standard deviation, variance, range,\n",
    "interquartile range\n",
    "Shape: skewness, kurtosis\n",
    "For time series, plot summary statistics over time.\n",
    "For panel data:\n",
    "Plot cross-sectional summary statistics over time Plot time-series statistics across the\n",
    "population\n",
    "Questions to consider when working on Step 1\n",
    "What does each field in the data look like?\n",
    "Is the distribution skewed? Bimodal? Are there outliers? Are they feasible? Are there\n",
    "discontinuities? Are the typical assumptions seen in modeling valid?\n",
    "Gaussian\n",
    "Identically and independently distributed\n",
    "Have one mode\n",
    "Can be negative\n",
    "Generating processes are stationary and isotropic (time series)\n",
    "Independence between subjects (panel data)"
   ]
  },
  {
   "cell_type": "code",
   "execution_count": 13,
   "id": "68e65d1b",
   "metadata": {},
   "outputs": [
    {
     "data": {
      "text/html": [
       "<div>\n",
       "<style scoped>\n",
       "    .dataframe tbody tr th:only-of-type {\n",
       "        vertical-align: middle;\n",
       "    }\n",
       "\n",
       "    .dataframe tbody tr th {\n",
       "        vertical-align: top;\n",
       "    }\n",
       "\n",
       "    .dataframe thead th {\n",
       "        text-align: right;\n",
       "    }\n",
       "</style>\n",
       "<table border=\"1\" class=\"dataframe\">\n",
       "  <thead>\n",
       "    <tr style=\"text-align: right;\">\n",
       "      <th></th>\n",
       "      <th>Year</th>\n",
       "      <th>Consumption</th>\n",
       "      <th>Pop</th>\n",
       "      <th>Price</th>\n",
       "      <th>Employment</th>\n",
       "    </tr>\n",
       "  </thead>\n",
       "  <tbody>\n",
       "    <tr>\n",
       "      <th>count</th>\n",
       "      <td>55.000000</td>\n",
       "      <td>55.000000</td>\n",
       "      <td>55.000000</td>\n",
       "      <td>55.000000</td>\n",
       "      <td>55.000000</td>\n",
       "    </tr>\n",
       "    <tr>\n",
       "      <th>mean</th>\n",
       "      <td>2013.000000</td>\n",
       "      <td>7512.109091</td>\n",
       "      <td>315962.023727</td>\n",
       "      <td>96.335650</td>\n",
       "      <td>2026.415182</td>\n",
       "    </tr>\n",
       "    <tr>\n",
       "      <th>std</th>\n",
       "      <td>3.191424</td>\n",
       "      <td>6550.299319</td>\n",
       "      <td>7507.300998</td>\n",
       "      <td>4.593336</td>\n",
       "      <td>105.964831</td>\n",
       "    </tr>\n",
       "    <tr>\n",
       "      <th>min</th>\n",
       "      <td>2008.000000</td>\n",
       "      <td>142.000000</td>\n",
       "      <td>303486.012000</td>\n",
       "      <td>89.511370</td>\n",
       "      <td>1888.286000</td>\n",
       "    </tr>\n",
       "    <tr>\n",
       "      <th>25%</th>\n",
       "      <td>2010.000000</td>\n",
       "      <td>282.000000</td>\n",
       "      <td>309011.475000</td>\n",
       "      <td>90.440451</td>\n",
       "      <td>1943.790000</td>\n",
       "    </tr>\n",
       "    <tr>\n",
       "      <th>50%</th>\n",
       "      <td>2013.000000</td>\n",
       "      <td>8552.000000</td>\n",
       "      <td>316400.538000</td>\n",
       "      <td>97.295312</td>\n",
       "      <td>1978.892000</td>\n",
       "    </tr>\n",
       "    <tr>\n",
       "      <th>75%</th>\n",
       "      <td>2016.000000</td>\n",
       "      <td>12113.500000</td>\n",
       "      <td>323015.995000</td>\n",
       "      <td>100.000005</td>\n",
       "      <td>2138.618000</td>\n",
       "    </tr>\n",
       "    <tr>\n",
       "      <th>max</th>\n",
       "      <td>2018.000000</td>\n",
       "      <td>18525.000000</td>\n",
       "      <td>327096.265000</td>\n",
       "      <td>102.434209</td>\n",
       "      <td>2188.215000</td>\n",
       "    </tr>\n",
       "  </tbody>\n",
       "</table>\n",
       "</div>"
      ],
      "text/plain": [
       "              Year   Consumption            Pop       Price   Employment\n",
       "count    55.000000     55.000000      55.000000   55.000000    55.000000\n",
       "mean   2013.000000   7512.109091  315962.023727   96.335650  2026.415182\n",
       "std       3.191424   6550.299319    7507.300998    4.593336   105.964831\n",
       "min    2008.000000    142.000000  303486.012000   89.511370  1888.286000\n",
       "25%    2010.000000    282.000000  309011.475000   90.440451  1943.790000\n",
       "50%    2013.000000   8552.000000  316400.538000   97.295312  1978.892000\n",
       "75%    2016.000000  12113.500000  323015.995000  100.000005  2138.618000\n",
       "max    2018.000000  18525.000000  327096.265000  102.434209  2188.215000"
      ]
     },
     "execution_count": 13,
     "metadata": {},
     "output_type": "execute_result"
    }
   ],
   "source": [
    "data = pd.read_csv('data/merged_data.csv')\n",
    "data.describe()"
   ]
  },
  {
   "cell_type": "markdown",
   "id": "fc817887",
   "metadata": {},
   "source": [
    "Our consumption standard dev looks awfully high! We know from the data wrangling portion that the values for consumption by *meat item* vary greatly depending on the type (i.e. bovine vs goat). \n",
    "Our population std is also very high which means something might be amiss in our data. Let's explore it to see what's going on."
   ]
  },
  {
   "cell_type": "markdown",
   "id": "8f718a1d",
   "metadata": {},
   "source": [
    "### Wrangle data\n"
   ]
  },
  {
   "cell_type": "code",
   "execution_count": 24,
   "id": "63645403",
   "metadata": {},
   "outputs": [
    {
     "data": {
      "text/plain": [
       "315962.0237272727"
      ]
     },
     "execution_count": 24,
     "metadata": {},
     "output_type": "execute_result"
    }
   ],
   "source": [
    "data['Pop'].mean()"
   ]
  },
  {
   "cell_type": "code",
   "execution_count": 26,
   "id": "4c41999c",
   "metadata": {},
   "outputs": [
    {
     "data": {
      "text/plain": [
       "23610.253000000026"
      ]
     },
     "execution_count": 26,
     "metadata": {},
     "output_type": "execute_result"
    }
   ],
   "source": [
    "data['Pop'].max() - data['Pop'].min()"
   ]
  },
  {
   "cell_type": "markdown",
   "id": "a1a3c1f3",
   "metadata": {},
   "source": [
    "This std might actually make sense given the scale of our population data.\n",
    "\n",
    "Let's come back to our consumption information. Knowing the overall statistics is useful, but it will also skew our data. What can we do?\n",
    "- Look at each item independently\n",
    "- Scale the min and max?"
   ]
  },
  {
   "cell_type": "code",
   "execution_count": 32,
   "id": "41a4dfb5",
   "metadata": {},
   "outputs": [],
   "source": [
    "bovine = data[data.Item=='Bovine Meat'].Consumption"
   ]
  },
  {
   "cell_type": "code",
   "execution_count": null,
   "id": "9759673a",
   "metadata": {},
   "outputs": [],
   "source": []
  },
  {
   "cell_type": "code",
   "execution_count": null,
   "id": "43ca9485",
   "metadata": {},
   "outputs": [],
   "source": []
  },
  {
   "cell_type": "markdown",
   "id": "0a78e5e7",
   "metadata": {},
   "source": [
    "### Assess the quality of data"
   ]
  },
  {
   "cell_type": "markdown",
   "id": "aee4d14d",
   "metadata": {},
   "source": [
    "### Profile data"
   ]
  },
  {
   "cell_type": "markdown",
   "id": "fe3b1bbe",
   "metadata": {},
   "source": [
    "### Explore each individual variable in the dataset"
   ]
  },
  {
   "cell_type": "markdown",
   "id": "b85c1afc",
   "metadata": {},
   "source": [
    "### Assess the relationship between each variable and the target"
   ]
  },
  {
   "cell_type": "markdown",
   "id": "7b0dd5da",
   "metadata": {},
   "source": [
    "### Assess interactions between variables"
   ]
  },
  {
   "cell_type": "markdown",
   "id": "2a0dc3a3",
   "metadata": {},
   "source": [
    "### Explore data across many dimensions"
   ]
  },
  {
   "cell_type": "code",
   "execution_count": null,
   "id": "8279b221",
   "metadata": {},
   "outputs": [],
   "source": []
  }
 ],
 "metadata": {
  "kernelspec": {
   "display_name": "Python 3",
   "language": "python",
   "name": "python3"
  },
  "language_info": {
   "codemirror_mode": {
    "name": "ipython",
    "version": 3
   },
   "file_extension": ".py",
   "mimetype": "text/x-python",
   "name": "python",
   "nbconvert_exporter": "python",
   "pygments_lexer": "ipython3",
   "version": "3.8.8"
  }
 },
 "nbformat": 4,
 "nbformat_minor": 5
}
