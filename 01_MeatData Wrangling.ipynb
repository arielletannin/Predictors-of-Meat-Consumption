{
 "cells": [
  {
   "cell_type": "markdown",
   "id": "08691466",
   "metadata": {},
   "source": [
    "# Data Wrangling\n",
    "\n",
    "This first capstone is intended to forecast the consumption of meat globally over the next 10 years. We will look for patterns in potential social, economic, and environmental indicators that could be predictors of consumption. \n",
    "\n",
    "When downloading the value, we saw visually that different datasets had different numbers of null values. We'll want to inspect each dataset and treat our nulls so that we can have a more reasonably sized dataframe."
   ]
  },
  {
   "cell_type": "code",
   "execution_count": 69,
   "id": "a292b02d",
   "metadata": {},
   "outputs": [],
   "source": [
    "import pandas as pd\n",
    "import numpy as np\n",
    "import matplotlib.pyplot as plt\n",
    "import seaborn as sns\n",
    "import os\n",
    "from lib.sb_utils import save_file"
   ]
  },
  {
   "cell_type": "markdown",
   "id": "75daf502",
   "metadata": {},
   "source": [
    "## Population\n",
    "\n",
    "We start by investigating the population dataset. Intuitively, we will want to prioritize the most populous countries since this likely corresponds with richer information about consumption trends."
   ]
  },
  {
   "cell_type": "code",
   "execution_count": 70,
   "id": "6ef6b967",
   "metadata": {},
   "outputs": [
    {
     "data": {
      "text/html": [
       "<div>\n",
       "<style scoped>\n",
       "    .dataframe tbody tr th:only-of-type {\n",
       "        vertical-align: middle;\n",
       "    }\n",
       "\n",
       "    .dataframe tbody tr th {\n",
       "        vertical-align: top;\n",
       "    }\n",
       "\n",
       "    .dataframe thead th {\n",
       "        text-align: right;\n",
       "    }\n",
       "</style>\n",
       "<table border=\"1\" class=\"dataframe\">\n",
       "  <thead>\n",
       "    <tr style=\"text-align: right;\">\n",
       "      <th></th>\n",
       "      <th>Domain</th>\n",
       "      <th>Area</th>\n",
       "      <th>Year</th>\n",
       "      <th>Unit</th>\n",
       "      <th>Value</th>\n",
       "    </tr>\n",
       "  </thead>\n",
       "  <tbody>\n",
       "    <tr>\n",
       "      <th>0</th>\n",
       "      <td>Annual population</td>\n",
       "      <td>Afghanistan</td>\n",
       "      <td>1991</td>\n",
       "      <td>1000 persons</td>\n",
       "      <td>13299.017</td>\n",
       "    </tr>\n",
       "    <tr>\n",
       "      <th>1</th>\n",
       "      <td>Annual population</td>\n",
       "      <td>Afghanistan</td>\n",
       "      <td>1992</td>\n",
       "      <td>1000 persons</td>\n",
       "      <td>14485.546</td>\n",
       "    </tr>\n",
       "    <tr>\n",
       "      <th>2</th>\n",
       "      <td>Annual population</td>\n",
       "      <td>Afghanistan</td>\n",
       "      <td>1993</td>\n",
       "      <td>1000 persons</td>\n",
       "      <td>15816.603</td>\n",
       "    </tr>\n",
       "    <tr>\n",
       "      <th>3</th>\n",
       "      <td>Annual population</td>\n",
       "      <td>Afghanistan</td>\n",
       "      <td>1994</td>\n",
       "      <td>1000 persons</td>\n",
       "      <td>17075.727</td>\n",
       "    </tr>\n",
       "    <tr>\n",
       "      <th>4</th>\n",
       "      <td>Annual population</td>\n",
       "      <td>Afghanistan</td>\n",
       "      <td>1995</td>\n",
       "      <td>1000 persons</td>\n",
       "      <td>18110.657</td>\n",
       "    </tr>\n",
       "  </tbody>\n",
       "</table>\n",
       "</div>"
      ],
      "text/plain": [
       "              Domain         Area  Year          Unit      Value\n",
       "0  Annual population  Afghanistan  1991  1000 persons  13299.017\n",
       "1  Annual population  Afghanistan  1992  1000 persons  14485.546\n",
       "2  Annual population  Afghanistan  1993  1000 persons  15816.603\n",
       "3  Annual population  Afghanistan  1994  1000 persons  17075.727\n",
       "4  Annual population  Afghanistan  1995  1000 persons  18110.657"
      ]
     },
     "execution_count": 70,
     "metadata": {},
     "output_type": "execute_result"
    }
   ],
   "source": [
    "pop = pd.read_csv('new data/population.csv')\n",
    "pop.head()"
   ]
  },
  {
   "cell_type": "code",
   "execution_count": 71,
   "id": "23386b84",
   "metadata": {},
   "outputs": [],
   "source": [
    "#Save the population unit for later, we can then drop that column\n",
    "pop_unit=1000"
   ]
  },
  {
   "cell_type": "code",
   "execution_count": 72,
   "id": "d621c0fe",
   "metadata": {},
   "outputs": [
    {
     "data": {
      "text/plain": [
       "Domain      0\n",
       "Area        0\n",
       "Year        0\n",
       "Unit      475\n",
       "Value     475\n",
       "dtype: int64"
      ]
     },
     "execution_count": 72,
     "metadata": {},
     "output_type": "execute_result"
    }
   ],
   "source": [
    "#Clean our dataset of nulls and unnecessary columns\n",
    "pop.isna().sum()"
   ]
  },
  {
   "cell_type": "code",
   "execution_count": 73,
   "id": "cc50ae0c",
   "metadata": {},
   "outputs": [],
   "source": [
    "pop.dropna(inplace=True)\n",
    "pop.reset_index(drop=True, inplace=True)\n",
    "pop.drop(labels=['Domain','Unit'], axis=1, inplace=True)"
   ]
  },
  {
   "cell_type": "code",
   "execution_count": 74,
   "id": "5b9b6772",
   "metadata": {},
   "outputs": [],
   "source": [
    "#Get the 100 topmost countries by population\n",
    "top100 = pop.sort_values('Value',ascending=False).Area.unique()[:100]\n",
    "poptop100 = pop[pop.Area.isin(top100)]"
   ]
  },
  {
   "cell_type": "markdown",
   "id": "284b1405",
   "metadata": {},
   "source": [
    "## Food Balances\n",
    "Our food balance sheet tells us the production quantity of each meat type in unit tons."
   ]
  },
  {
   "cell_type": "code",
   "execution_count": 75,
   "id": "01cbd69c",
   "metadata": {},
   "outputs": [
    {
     "data": {
      "text/html": [
       "<div>\n",
       "<style scoped>\n",
       "    .dataframe tbody tr th:only-of-type {\n",
       "        vertical-align: middle;\n",
       "    }\n",
       "\n",
       "    .dataframe tbody tr th {\n",
       "        vertical-align: top;\n",
       "    }\n",
       "\n",
       "    .dataframe thead th {\n",
       "        text-align: right;\n",
       "    }\n",
       "</style>\n",
       "<table border=\"1\" class=\"dataframe\">\n",
       "  <thead>\n",
       "    <tr style=\"text-align: right;\">\n",
       "      <th></th>\n",
       "      <th>Domain</th>\n",
       "      <th>Area</th>\n",
       "      <th>Element</th>\n",
       "      <th>Item</th>\n",
       "      <th>Year</th>\n",
       "      <th>Unit</th>\n",
       "      <th>Value</th>\n",
       "    </tr>\n",
       "  </thead>\n",
       "  <tbody>\n",
       "    <tr>\n",
       "      <th>0</th>\n",
       "      <td>Food Balances (-2013, old methodology and popu...</td>\n",
       "      <td>Afghanistan</td>\n",
       "      <td>Production</td>\n",
       "      <td>Bovine Meat</td>\n",
       "      <td>1991</td>\n",
       "      <td>1000 tonnes</td>\n",
       "      <td>86.0</td>\n",
       "    </tr>\n",
       "    <tr>\n",
       "      <th>1</th>\n",
       "      <td>Food Balances (-2013, old methodology and popu...</td>\n",
       "      <td>Afghanistan</td>\n",
       "      <td>Production</td>\n",
       "      <td>Bovine Meat</td>\n",
       "      <td>1992</td>\n",
       "      <td>1000 tonnes</td>\n",
       "      <td>86.0</td>\n",
       "    </tr>\n",
       "    <tr>\n",
       "      <th>2</th>\n",
       "      <td>Food Balances (-2013, old methodology and popu...</td>\n",
       "      <td>Afghanistan</td>\n",
       "      <td>Production</td>\n",
       "      <td>Bovine Meat</td>\n",
       "      <td>1993</td>\n",
       "      <td>1000 tonnes</td>\n",
       "      <td>97.0</td>\n",
       "    </tr>\n",
       "    <tr>\n",
       "      <th>3</th>\n",
       "      <td>Food Balances (-2013, old methodology and popu...</td>\n",
       "      <td>Afghanistan</td>\n",
       "      <td>Production</td>\n",
       "      <td>Bovine Meat</td>\n",
       "      <td>1994</td>\n",
       "      <td>1000 tonnes</td>\n",
       "      <td>113.0</td>\n",
       "    </tr>\n",
       "    <tr>\n",
       "      <th>4</th>\n",
       "      <td>Food Balances (-2013, old methodology and popu...</td>\n",
       "      <td>Afghanistan</td>\n",
       "      <td>Production</td>\n",
       "      <td>Bovine Meat</td>\n",
       "      <td>1995</td>\n",
       "      <td>1000 tonnes</td>\n",
       "      <td>130.0</td>\n",
       "    </tr>\n",
       "  </tbody>\n",
       "</table>\n",
       "</div>"
      ],
      "text/plain": [
       "                                              Domain         Area     Element  \\\n",
       "0  Food Balances (-2013, old methodology and popu...  Afghanistan  Production   \n",
       "1  Food Balances (-2013, old methodology and popu...  Afghanistan  Production   \n",
       "2  Food Balances (-2013, old methodology and popu...  Afghanistan  Production   \n",
       "3  Food Balances (-2013, old methodology and popu...  Afghanistan  Production   \n",
       "4  Food Balances (-2013, old methodology and popu...  Afghanistan  Production   \n",
       "\n",
       "          Item  Year         Unit  Value  \n",
       "0  Bovine Meat  1991  1000 tonnes   86.0  \n",
       "1  Bovine Meat  1992  1000 tonnes   86.0  \n",
       "2  Bovine Meat  1993  1000 tonnes   97.0  \n",
       "3  Bovine Meat  1994  1000 tonnes  113.0  \n",
       "4  Bovine Meat  1995  1000 tonnes  130.0  "
      ]
     },
     "execution_count": 75,
     "metadata": {},
     "output_type": "execute_result"
    }
   ],
   "source": [
    "food = pd.read_csv('new data/food_balances.csv')\n",
    "food.head()"
   ]
  },
  {
   "cell_type": "code",
   "execution_count": 76,
   "id": "373e3dc9",
   "metadata": {},
   "outputs": [
    {
     "data": {
      "text/plain": [
       "((20082, 7),\n",
       " Domain        0\n",
       " Area          0\n",
       " Element       0\n",
       " Item          0\n",
       " Year          0\n",
       " Unit       1545\n",
       " Value      1545\n",
       " dtype: int64)"
      ]
     },
     "execution_count": 76,
     "metadata": {},
     "output_type": "execute_result"
    }
   ],
   "source": [
    "food.shape, food.isna().sum()"
   ]
  },
  {
   "cell_type": "code",
   "execution_count": 77,
   "id": "0204aff0",
   "metadata": {},
   "outputs": [
    {
     "data": {
      "text/html": [
       "<div>\n",
       "<style scoped>\n",
       "    .dataframe tbody tr th:only-of-type {\n",
       "        vertical-align: middle;\n",
       "    }\n",
       "\n",
       "    .dataframe tbody tr th {\n",
       "        vertical-align: top;\n",
       "    }\n",
       "\n",
       "    .dataframe thead th {\n",
       "        text-align: right;\n",
       "    }\n",
       "</style>\n",
       "<table border=\"1\" class=\"dataframe\">\n",
       "  <thead>\n",
       "    <tr style=\"text-align: right;\">\n",
       "      <th>Item</th>\n",
       "      <th>Area</th>\n",
       "      <th>Year</th>\n",
       "      <th>Bovine Meat</th>\n",
       "      <th>Mutton &amp; Goat Meat</th>\n",
       "      <th>Pigmeat</th>\n",
       "      <th>Poultry Meat</th>\n",
       "    </tr>\n",
       "  </thead>\n",
       "  <tbody>\n",
       "    <tr>\n",
       "      <th>0</th>\n",
       "      <td>Afghanistan</td>\n",
       "      <td>1991</td>\n",
       "      <td>86.0</td>\n",
       "      <td>137.0</td>\n",
       "      <td>NaN</td>\n",
       "      <td>12.0</td>\n",
       "    </tr>\n",
       "    <tr>\n",
       "      <th>1</th>\n",
       "      <td>Afghanistan</td>\n",
       "      <td>1992</td>\n",
       "      <td>86.0</td>\n",
       "      <td>133.0</td>\n",
       "      <td>NaN</td>\n",
       "      <td>12.0</td>\n",
       "    </tr>\n",
       "    <tr>\n",
       "      <th>2</th>\n",
       "      <td>Afghanistan</td>\n",
       "      <td>1993</td>\n",
       "      <td>97.0</td>\n",
       "      <td>132.0</td>\n",
       "      <td>NaN</td>\n",
       "      <td>12.0</td>\n",
       "    </tr>\n",
       "    <tr>\n",
       "      <th>3</th>\n",
       "      <td>Afghanistan</td>\n",
       "      <td>1994</td>\n",
       "      <td>113.0</td>\n",
       "      <td>134.0</td>\n",
       "      <td>NaN</td>\n",
       "      <td>12.0</td>\n",
       "    </tr>\n",
       "    <tr>\n",
       "      <th>4</th>\n",
       "      <td>Afghanistan</td>\n",
       "      <td>1995</td>\n",
       "      <td>130.0</td>\n",
       "      <td>134.0</td>\n",
       "      <td>NaN</td>\n",
       "      <td>12.0</td>\n",
       "    </tr>\n",
       "  </tbody>\n",
       "</table>\n",
       "</div>"
      ],
      "text/plain": [
       "Item         Area  Year  Bovine Meat  Mutton & Goat Meat  Pigmeat  \\\n",
       "0     Afghanistan  1991         86.0               137.0      NaN   \n",
       "1     Afghanistan  1992         86.0               133.0      NaN   \n",
       "2     Afghanistan  1993         97.0               132.0      NaN   \n",
       "3     Afghanistan  1994        113.0               134.0      NaN   \n",
       "4     Afghanistan  1995        130.0               134.0      NaN   \n",
       "\n",
       "Item  Poultry Meat  \n",
       "0             12.0  \n",
       "1             12.0  \n",
       "2             12.0  \n",
       "3             12.0  \n",
       "4             12.0  "
      ]
     },
     "execution_count": 77,
     "metadata": {},
     "output_type": "execute_result"
    }
   ],
   "source": [
    "#Next we pivot our data frame so we have columns for each type of meat\n",
    "food = pd.pivot_table(food, values='Value',index=['Area','Year'], columns='Item').reset_index()\n",
    "food.head()"
   ]
  },
  {
   "cell_type": "code",
   "execution_count": 78,
   "id": "3e9796cd",
   "metadata": {},
   "outputs": [
    {
     "data": {
      "text/plain": [
       "((4768, 6),\n",
       " Item\n",
       " Area                    0\n",
       " Year                    0\n",
       " Bovine Meat            28\n",
       " Mutton & Goat Meat    140\n",
       " Pigmeat               316\n",
       " Poultry Meat           51\n",
       " dtype: int64)"
      ]
     },
     "execution_count": 78,
     "metadata": {},
     "output_type": "execute_result"
    }
   ],
   "source": [
    "food.shape, food.isna().sum()"
   ]
  },
  {
   "cell_type": "markdown",
   "id": "5f84ab7a",
   "metadata": {},
   "source": [
    "The column we care about most here is Value, so if it's null, we can drop those rows."
   ]
  },
  {
   "cell_type": "code",
   "execution_count": 9,
   "id": "57d98435",
   "metadata": {},
   "outputs": [
    {
     "data": {
      "text/html": [
       "<div>\n",
       "<style scoped>\n",
       "    .dataframe tbody tr th:only-of-type {\n",
       "        vertical-align: middle;\n",
       "    }\n",
       "\n",
       "    .dataframe tbody tr th {\n",
       "        vertical-align: top;\n",
       "    }\n",
       "\n",
       "    .dataframe thead th {\n",
       "        text-align: right;\n",
       "    }\n",
       "</style>\n",
       "<table border=\"1\" class=\"dataframe\">\n",
       "  <thead>\n",
       "    <tr style=\"text-align: right;\">\n",
       "      <th></th>\n",
       "      <th>Area</th>\n",
       "      <th>Item</th>\n",
       "      <th>Year</th>\n",
       "      <th>Value</th>\n",
       "    </tr>\n",
       "  </thead>\n",
       "  <tbody>\n",
       "    <tr>\n",
       "      <th>0</th>\n",
       "      <td>Afghanistan</td>\n",
       "      <td>Bovine Meat</td>\n",
       "      <td>1991</td>\n",
       "      <td>86.0</td>\n",
       "    </tr>\n",
       "    <tr>\n",
       "      <th>1</th>\n",
       "      <td>Afghanistan</td>\n",
       "      <td>Bovine Meat</td>\n",
       "      <td>1992</td>\n",
       "      <td>86.0</td>\n",
       "    </tr>\n",
       "    <tr>\n",
       "      <th>2</th>\n",
       "      <td>Afghanistan</td>\n",
       "      <td>Bovine Meat</td>\n",
       "      <td>1993</td>\n",
       "      <td>97.0</td>\n",
       "    </tr>\n",
       "    <tr>\n",
       "      <th>3</th>\n",
       "      <td>Afghanistan</td>\n",
       "      <td>Bovine Meat</td>\n",
       "      <td>1994</td>\n",
       "      <td>113.0</td>\n",
       "    </tr>\n",
       "    <tr>\n",
       "      <th>4</th>\n",
       "      <td>Afghanistan</td>\n",
       "      <td>Bovine Meat</td>\n",
       "      <td>1995</td>\n",
       "      <td>130.0</td>\n",
       "    </tr>\n",
       "  </tbody>\n",
       "</table>\n",
       "</div>"
      ],
      "text/plain": [
       "          Area         Item  Year  Value\n",
       "0  Afghanistan  Bovine Meat  1991   86.0\n",
       "1  Afghanistan  Bovine Meat  1992   86.0\n",
       "2  Afghanistan  Bovine Meat  1993   97.0\n",
       "3  Afghanistan  Bovine Meat  1994  113.0\n",
       "4  Afghanistan  Bovine Meat  1995  130.0"
      ]
     },
     "execution_count": 9,
     "metadata": {},
     "output_type": "execute_result"
    }
   ],
   "source": [
    "food.dropna(inplace=True)\n",
    "food.reset_index(drop=True, inplace=True)\n",
    "food.head()"
   ]
  },
  {
   "cell_type": "code",
   "execution_count": 81,
   "id": "b1cf2cb3",
   "metadata": {},
   "outputs": [
    {
     "data": {
      "text/plain": [
       "array(['Antigua and Barbuda', 'Bahamas', 'Barbados', 'Bermuda',\n",
       "       'Cabo Verde', 'Dominica', 'French Polynesia', 'Grenada', 'Kuwait',\n",
       "       'Netherlands Antilles (former)', 'Saint Kitts and Nevis',\n",
       "       'Saint Lucia', 'Saint Vincent and the Grenadines',\n",
       "       'Sao Tome and Principe', 'Trinidad and Tobago'], dtype=object)"
      ]
     },
     "execution_count": 81,
     "metadata": {},
     "output_type": "execute_result"
    }
   ],
   "source": [
    "food[food['Bovine Meat']==0].Area.unique()"
   ]
  },
  {
   "cell_type": "code",
   "execution_count": 83,
   "id": "7a895bc3",
   "metadata": {},
   "outputs": [
    {
     "data": {
      "text/plain": [
       "array(['Afghanistan', 'Bangladesh', 'Djibouti', 'Iraq', 'Jordan',\n",
       "       'Kuwait', 'Oman', 'Pakistan', 'Saudi Arabia', 'Sudan',\n",
       "       'Sudan (former)', 'United Arab Emirates', 'Yemen'], dtype=object)"
      ]
     },
     "execution_count": 83,
     "metadata": {},
     "output_type": "execute_result"
    }
   ],
   "source": [
    "food[food['Pigmeat'].isnull()].Area.unique()"
   ]
  },
  {
   "cell_type": "markdown",
   "id": "38fa1cc1",
   "metadata": {},
   "source": [
    "## Prices\n",
    "Our prices data shows the Producer Price in dollars per ton for each meat."
   ]
  },
  {
   "cell_type": "code",
   "execution_count": 59,
   "id": "81d89b18",
   "metadata": {},
   "outputs": [
    {
     "data": {
      "text/html": [
       "<div>\n",
       "<style scoped>\n",
       "    .dataframe tbody tr th:only-of-type {\n",
       "        vertical-align: middle;\n",
       "    }\n",
       "\n",
       "    .dataframe tbody tr th {\n",
       "        vertical-align: top;\n",
       "    }\n",
       "\n",
       "    .dataframe thead th {\n",
       "        text-align: right;\n",
       "    }\n",
       "</style>\n",
       "<table border=\"1\" class=\"dataframe\">\n",
       "  <thead>\n",
       "    <tr style=\"text-align: right;\">\n",
       "      <th></th>\n",
       "      <th>Domain</th>\n",
       "      <th>Area</th>\n",
       "      <th>Element</th>\n",
       "      <th>Item</th>\n",
       "      <th>Year</th>\n",
       "      <th>Months</th>\n",
       "      <th>Unit</th>\n",
       "      <th>Value</th>\n",
       "    </tr>\n",
       "  </thead>\n",
       "  <tbody>\n",
       "    <tr>\n",
       "      <th>0</th>\n",
       "      <td>Producer Prices</td>\n",
       "      <td>Afghanistan</td>\n",
       "      <td>Producer Price (USD/tonne)</td>\n",
       "      <td>Meat, cattle</td>\n",
       "      <td>1991</td>\n",
       "      <td>Annual value</td>\n",
       "      <td>NaN</td>\n",
       "      <td>NaN</td>\n",
       "    </tr>\n",
       "    <tr>\n",
       "      <th>1</th>\n",
       "      <td>Producer Prices</td>\n",
       "      <td>Afghanistan</td>\n",
       "      <td>Producer Price (USD/tonne)</td>\n",
       "      <td>Meat, chicken</td>\n",
       "      <td>1991</td>\n",
       "      <td>Annual value</td>\n",
       "      <td>NaN</td>\n",
       "      <td>NaN</td>\n",
       "    </tr>\n",
       "    <tr>\n",
       "      <th>2</th>\n",
       "      <td>Producer Prices</td>\n",
       "      <td>Afghanistan</td>\n",
       "      <td>Producer Price (USD/tonne)</td>\n",
       "      <td>Meat, goat</td>\n",
       "      <td>1991</td>\n",
       "      <td>Annual value</td>\n",
       "      <td>NaN</td>\n",
       "      <td>NaN</td>\n",
       "    </tr>\n",
       "    <tr>\n",
       "      <th>3</th>\n",
       "      <td>Producer Prices</td>\n",
       "      <td>Afghanistan</td>\n",
       "      <td>Producer Price (USD/tonne)</td>\n",
       "      <td>Meat, pig</td>\n",
       "      <td>1991</td>\n",
       "      <td>Annual value</td>\n",
       "      <td>NaN</td>\n",
       "      <td>NaN</td>\n",
       "    </tr>\n",
       "    <tr>\n",
       "      <th>4</th>\n",
       "      <td>Producer Prices</td>\n",
       "      <td>Afghanistan</td>\n",
       "      <td>Producer Price (USD/tonne)</td>\n",
       "      <td>Meat, cattle</td>\n",
       "      <td>1992</td>\n",
       "      <td>Annual value</td>\n",
       "      <td>NaN</td>\n",
       "      <td>NaN</td>\n",
       "    </tr>\n",
       "  </tbody>\n",
       "</table>\n",
       "</div>"
      ],
      "text/plain": [
       "            Domain         Area                     Element           Item  \\\n",
       "0  Producer Prices  Afghanistan  Producer Price (USD/tonne)   Meat, cattle   \n",
       "1  Producer Prices  Afghanistan  Producer Price (USD/tonne)  Meat, chicken   \n",
       "2  Producer Prices  Afghanistan  Producer Price (USD/tonne)     Meat, goat   \n",
       "3  Producer Prices  Afghanistan  Producer Price (USD/tonne)      Meat, pig   \n",
       "4  Producer Prices  Afghanistan  Producer Price (USD/tonne)   Meat, cattle   \n",
       "\n",
       "   Year        Months Unit  Value  \n",
       "0  1991  Annual value  NaN    NaN  \n",
       "1  1991  Annual value  NaN    NaN  \n",
       "2  1991  Annual value  NaN    NaN  \n",
       "3  1991  Annual value  NaN    NaN  \n",
       "4  1992  Annual value  NaN    NaN  "
      ]
     },
     "execution_count": 59,
     "metadata": {},
     "output_type": "execute_result"
    }
   ],
   "source": [
    "prices = pd.read_csv('new data/meat_prices.csv')\n",
    "prices.head()"
   ]
  },
  {
   "cell_type": "code",
   "execution_count": 60,
   "id": "d59e0d70",
   "metadata": {},
   "outputs": [
    {
     "data": {
      "text/plain": [
       "Domain         0\n",
       "Area           0\n",
       "Element        0\n",
       "Item           0\n",
       "Year           0\n",
       "Months         0\n",
       "Unit       14923\n",
       "Value      14923\n",
       "dtype: int64"
      ]
     },
     "execution_count": 60,
     "metadata": {},
     "output_type": "execute_result"
    }
   ],
   "source": [
    "prices.isna().sum()"
   ]
  },
  {
   "cell_type": "code",
   "execution_count": 55,
   "id": "958a2ef1",
   "metadata": {},
   "outputs": [
    {
     "data": {
      "text/html": [
       "<div>\n",
       "<style scoped>\n",
       "    .dataframe tbody tr th:only-of-type {\n",
       "        vertical-align: middle;\n",
       "    }\n",
       "\n",
       "    .dataframe tbody tr th {\n",
       "        vertical-align: top;\n",
       "    }\n",
       "\n",
       "    .dataframe thead th {\n",
       "        text-align: right;\n",
       "    }\n",
       "</style>\n",
       "<table border=\"1\" class=\"dataframe\">\n",
       "  <thead>\n",
       "    <tr style=\"text-align: right;\">\n",
       "      <th></th>\n",
       "      <th>Domain</th>\n",
       "      <th>Area</th>\n",
       "      <th>Element</th>\n",
       "      <th>Item</th>\n",
       "      <th>Year</th>\n",
       "      <th>Months</th>\n",
       "      <th>Unit</th>\n",
       "      <th>Value</th>\n",
       "    </tr>\n",
       "  </thead>\n",
       "  <tbody>\n",
       "  </tbody>\n",
       "</table>\n",
       "</div>"
      ],
      "text/plain": [
       "Empty DataFrame\n",
       "Columns: [Domain, Area, Element, Item, Year, Months, Unit, Value]\n",
       "Index: []"
      ]
     },
     "execution_count": 55,
     "metadata": {},
     "output_type": "execute_result"
    }
   ],
   "source": [
    "prices[prices.Value==0]"
   ]
  },
  {
   "cell_type": "code",
   "execution_count": 61,
   "id": "de053f4b",
   "metadata": {},
   "outputs": [
    {
     "data": {
      "text/html": [
       "<div>\n",
       "<style scoped>\n",
       "    .dataframe tbody tr th:only-of-type {\n",
       "        vertical-align: middle;\n",
       "    }\n",
       "\n",
       "    .dataframe tbody tr th {\n",
       "        vertical-align: top;\n",
       "    }\n",
       "\n",
       "    .dataframe thead th {\n",
       "        text-align: right;\n",
       "    }\n",
       "</style>\n",
       "<table border=\"1\" class=\"dataframe\">\n",
       "  <thead>\n",
       "    <tr style=\"text-align: right;\">\n",
       "      <th>Item</th>\n",
       "      <th>Area</th>\n",
       "      <th>Year</th>\n",
       "      <th>Meat, cattle</th>\n",
       "      <th>Meat, chicken</th>\n",
       "      <th>Meat, goat</th>\n",
       "      <th>Meat, pig</th>\n",
       "    </tr>\n",
       "  </thead>\n",
       "  <tbody>\n",
       "    <tr>\n",
       "      <th>0</th>\n",
       "      <td>Albania</td>\n",
       "      <td>1993</td>\n",
       "      <td>3116.2</td>\n",
       "      <td>NaN</td>\n",
       "      <td>4330.1</td>\n",
       "      <td>2502.0</td>\n",
       "    </tr>\n",
       "    <tr>\n",
       "      <th>1</th>\n",
       "      <td>Albania</td>\n",
       "      <td>1994</td>\n",
       "      <td>2071.4</td>\n",
       "      <td>NaN</td>\n",
       "      <td>3438.0</td>\n",
       "      <td>2078.8</td>\n",
       "    </tr>\n",
       "    <tr>\n",
       "      <th>2</th>\n",
       "      <td>Albania</td>\n",
       "      <td>1995</td>\n",
       "      <td>2481.2</td>\n",
       "      <td>NaN</td>\n",
       "      <td>1723.2</td>\n",
       "      <td>2481.2</td>\n",
       "    </tr>\n",
       "    <tr>\n",
       "      <th>3</th>\n",
       "      <td>Albania</td>\n",
       "      <td>1996</td>\n",
       "      <td>2870.8</td>\n",
       "      <td>NaN</td>\n",
       "      <td>1965.3</td>\n",
       "      <td>2679.5</td>\n",
       "    </tr>\n",
       "    <tr>\n",
       "      <th>4</th>\n",
       "      <td>Albania</td>\n",
       "      <td>1997</td>\n",
       "      <td>2350.1</td>\n",
       "      <td>NaN</td>\n",
       "      <td>1762.0</td>\n",
       "      <td>2014.3</td>\n",
       "    </tr>\n",
       "  </tbody>\n",
       "</table>\n",
       "</div>"
      ],
      "text/plain": [
       "Item     Area  Year  Meat, cattle  Meat, chicken  Meat, goat  Meat, pig\n",
       "0     Albania  1993        3116.2            NaN      4330.1     2502.0\n",
       "1     Albania  1994        2071.4            NaN      3438.0     2078.8\n",
       "2     Albania  1995        2481.2            NaN      1723.2     2481.2\n",
       "3     Albania  1996        2870.8            NaN      1965.3     2679.5\n",
       "4     Albania  1997        2350.1            NaN      1762.0     2014.3"
      ]
     },
     "execution_count": 61,
     "metadata": {},
     "output_type": "execute_result"
    }
   ],
   "source": [
    "prices = pd.pivot_table(prices, values='Value',index=['Area','Year'], columns='Item').reset_index()\n",
    "prices.head()"
   ]
  },
  {
   "cell_type": "code",
   "execution_count": 15,
   "id": "917ff1ba",
   "metadata": {},
   "outputs": [],
   "source": [
    "prices.dropna(inplace=True)\n",
    "prices.reset_index(drop=True, inplace=True)"
   ]
  },
  {
   "cell_type": "code",
   "execution_count": 62,
   "id": "a87c1ccb",
   "metadata": {},
   "outputs": [
    {
     "data": {
      "text/plain": [
       "Item\n",
       "Area                0\n",
       "Year                0\n",
       "Meat, cattle      364\n",
       "Meat, chicken     501\n",
       "Meat, goat       1312\n",
       "Meat, pig         634\n",
       "dtype: int64"
      ]
     },
     "execution_count": 62,
     "metadata": {},
     "output_type": "execute_result"
    }
   ],
   "source": [
    "prices.isna().sum()"
   ]
  },
  {
   "cell_type": "code",
   "execution_count": 66,
   "id": "578584d1",
   "metadata": {},
   "outputs": [
    {
     "ename": "KeyError",
     "evalue": "\"['Mutton & Goat Meat'] not found in axis\"",
     "output_type": "error",
     "traceback": [
      "\u001b[0;31m---------------------------------------------------------------------------\u001b[0m",
      "\u001b[0;31mKeyError\u001b[0m                                  Traceback (most recent call last)",
      "\u001b[0;32m<ipython-input-66-f433ce066549>\u001b[0m in \u001b[0;36m<module>\u001b[0;34m\u001b[0m\n\u001b[1;32m      1\u001b[0m \u001b[0;31m#We have a lot of null values for goat meat - this might make our analysis difficult later so we'll drop those rows\u001b[0m\u001b[0;34m\u001b[0m\u001b[0;34m\u001b[0m\u001b[0;34m\u001b[0m\u001b[0m\n\u001b[1;32m      2\u001b[0m \u001b[0mprices\u001b[0m\u001b[0;34m.\u001b[0m\u001b[0mdrop\u001b[0m\u001b[0;34m(\u001b[0m\u001b[0mlabels\u001b[0m\u001b[0;34m=\u001b[0m\u001b[0;34m'Meat, goat'\u001b[0m\u001b[0;34m,\u001b[0m\u001b[0maxis\u001b[0m\u001b[0;34m=\u001b[0m\u001b[0;36m1\u001b[0m\u001b[0;34m,\u001b[0m\u001b[0minplace\u001b[0m\u001b[0;34m=\u001b[0m\u001b[0;32mTrue\u001b[0m\u001b[0;34m)\u001b[0m\u001b[0;34m\u001b[0m\u001b[0;34m\u001b[0m\u001b[0m\n\u001b[0;32m----> 3\u001b[0;31m \u001b[0mfood\u001b[0m\u001b[0;34m.\u001b[0m\u001b[0mdrop\u001b[0m\u001b[0;34m(\u001b[0m\u001b[0mlabels\u001b[0m\u001b[0;34m=\u001b[0m\u001b[0;34m'Mutton & Goat Meat'\u001b[0m\u001b[0;34m,\u001b[0m \u001b[0maxis\u001b[0m\u001b[0;34m=\u001b[0m\u001b[0;36m1\u001b[0m\u001b[0;34m,\u001b[0m\u001b[0minplace\u001b[0m\u001b[0;34m=\u001b[0m\u001b[0;32mTrue\u001b[0m\u001b[0;34m)\u001b[0m\u001b[0;34m\u001b[0m\u001b[0;34m\u001b[0m\u001b[0m\n\u001b[0m",
      "\u001b[0;32m/opt/anaconda3/lib/python3.8/site-packages/pandas/core/frame.py\u001b[0m in \u001b[0;36mdrop\u001b[0;34m(self, labels, axis, index, columns, level, inplace, errors)\u001b[0m\n\u001b[1;32m   4306\u001b[0m                 \u001b[0mweight\u001b[0m  \u001b[0;36m1.0\u001b[0m     \u001b[0;36m0.8\u001b[0m\u001b[0;34m\u001b[0m\u001b[0;34m\u001b[0m\u001b[0m\n\u001b[1;32m   4307\u001b[0m         \"\"\"\n\u001b[0;32m-> 4308\u001b[0;31m         return super().drop(\n\u001b[0m\u001b[1;32m   4309\u001b[0m             \u001b[0mlabels\u001b[0m\u001b[0;34m=\u001b[0m\u001b[0mlabels\u001b[0m\u001b[0;34m,\u001b[0m\u001b[0;34m\u001b[0m\u001b[0;34m\u001b[0m\u001b[0m\n\u001b[1;32m   4310\u001b[0m             \u001b[0maxis\u001b[0m\u001b[0;34m=\u001b[0m\u001b[0maxis\u001b[0m\u001b[0;34m,\u001b[0m\u001b[0;34m\u001b[0m\u001b[0;34m\u001b[0m\u001b[0m\n",
      "\u001b[0;32m/opt/anaconda3/lib/python3.8/site-packages/pandas/core/generic.py\u001b[0m in \u001b[0;36mdrop\u001b[0;34m(self, labels, axis, index, columns, level, inplace, errors)\u001b[0m\n\u001b[1;32m   4151\u001b[0m         \u001b[0;32mfor\u001b[0m \u001b[0maxis\u001b[0m\u001b[0;34m,\u001b[0m \u001b[0mlabels\u001b[0m \u001b[0;32min\u001b[0m \u001b[0maxes\u001b[0m\u001b[0;34m.\u001b[0m\u001b[0mitems\u001b[0m\u001b[0;34m(\u001b[0m\u001b[0;34m)\u001b[0m\u001b[0;34m:\u001b[0m\u001b[0;34m\u001b[0m\u001b[0;34m\u001b[0m\u001b[0m\n\u001b[1;32m   4152\u001b[0m             \u001b[0;32mif\u001b[0m \u001b[0mlabels\u001b[0m \u001b[0;32mis\u001b[0m \u001b[0;32mnot\u001b[0m \u001b[0;32mNone\u001b[0m\u001b[0;34m:\u001b[0m\u001b[0;34m\u001b[0m\u001b[0;34m\u001b[0m\u001b[0m\n\u001b[0;32m-> 4153\u001b[0;31m                 \u001b[0mobj\u001b[0m \u001b[0;34m=\u001b[0m \u001b[0mobj\u001b[0m\u001b[0;34m.\u001b[0m\u001b[0m_drop_axis\u001b[0m\u001b[0;34m(\u001b[0m\u001b[0mlabels\u001b[0m\u001b[0;34m,\u001b[0m \u001b[0maxis\u001b[0m\u001b[0;34m,\u001b[0m \u001b[0mlevel\u001b[0m\u001b[0;34m=\u001b[0m\u001b[0mlevel\u001b[0m\u001b[0;34m,\u001b[0m \u001b[0merrors\u001b[0m\u001b[0;34m=\u001b[0m\u001b[0merrors\u001b[0m\u001b[0;34m)\u001b[0m\u001b[0;34m\u001b[0m\u001b[0;34m\u001b[0m\u001b[0m\n\u001b[0m\u001b[1;32m   4154\u001b[0m \u001b[0;34m\u001b[0m\u001b[0m\n\u001b[1;32m   4155\u001b[0m         \u001b[0;32mif\u001b[0m \u001b[0minplace\u001b[0m\u001b[0;34m:\u001b[0m\u001b[0;34m\u001b[0m\u001b[0;34m\u001b[0m\u001b[0m\n",
      "\u001b[0;32m/opt/anaconda3/lib/python3.8/site-packages/pandas/core/generic.py\u001b[0m in \u001b[0;36m_drop_axis\u001b[0;34m(self, labels, axis, level, errors)\u001b[0m\n\u001b[1;32m   4186\u001b[0m                 \u001b[0mnew_axis\u001b[0m \u001b[0;34m=\u001b[0m \u001b[0maxis\u001b[0m\u001b[0;34m.\u001b[0m\u001b[0mdrop\u001b[0m\u001b[0;34m(\u001b[0m\u001b[0mlabels\u001b[0m\u001b[0;34m,\u001b[0m \u001b[0mlevel\u001b[0m\u001b[0;34m=\u001b[0m\u001b[0mlevel\u001b[0m\u001b[0;34m,\u001b[0m \u001b[0merrors\u001b[0m\u001b[0;34m=\u001b[0m\u001b[0merrors\u001b[0m\u001b[0;34m)\u001b[0m\u001b[0;34m\u001b[0m\u001b[0;34m\u001b[0m\u001b[0m\n\u001b[1;32m   4187\u001b[0m             \u001b[0;32melse\u001b[0m\u001b[0;34m:\u001b[0m\u001b[0;34m\u001b[0m\u001b[0;34m\u001b[0m\u001b[0m\n\u001b[0;32m-> 4188\u001b[0;31m                 \u001b[0mnew_axis\u001b[0m \u001b[0;34m=\u001b[0m \u001b[0maxis\u001b[0m\u001b[0;34m.\u001b[0m\u001b[0mdrop\u001b[0m\u001b[0;34m(\u001b[0m\u001b[0mlabels\u001b[0m\u001b[0;34m,\u001b[0m \u001b[0merrors\u001b[0m\u001b[0;34m=\u001b[0m\u001b[0merrors\u001b[0m\u001b[0;34m)\u001b[0m\u001b[0;34m\u001b[0m\u001b[0;34m\u001b[0m\u001b[0m\n\u001b[0m\u001b[1;32m   4189\u001b[0m             \u001b[0mresult\u001b[0m \u001b[0;34m=\u001b[0m \u001b[0mself\u001b[0m\u001b[0;34m.\u001b[0m\u001b[0mreindex\u001b[0m\u001b[0;34m(\u001b[0m\u001b[0;34m**\u001b[0m\u001b[0;34m{\u001b[0m\u001b[0maxis_name\u001b[0m\u001b[0;34m:\u001b[0m \u001b[0mnew_axis\u001b[0m\u001b[0;34m}\u001b[0m\u001b[0;34m)\u001b[0m\u001b[0;34m\u001b[0m\u001b[0;34m\u001b[0m\u001b[0m\n\u001b[1;32m   4190\u001b[0m \u001b[0;34m\u001b[0m\u001b[0m\n",
      "\u001b[0;32m/opt/anaconda3/lib/python3.8/site-packages/pandas/core/indexes/base.py\u001b[0m in \u001b[0;36mdrop\u001b[0;34m(self, labels, errors)\u001b[0m\n\u001b[1;32m   5589\u001b[0m         \u001b[0;32mif\u001b[0m \u001b[0mmask\u001b[0m\u001b[0;34m.\u001b[0m\u001b[0many\u001b[0m\u001b[0;34m(\u001b[0m\u001b[0;34m)\u001b[0m\u001b[0;34m:\u001b[0m\u001b[0;34m\u001b[0m\u001b[0;34m\u001b[0m\u001b[0m\n\u001b[1;32m   5590\u001b[0m             \u001b[0;32mif\u001b[0m \u001b[0merrors\u001b[0m \u001b[0;34m!=\u001b[0m \u001b[0;34m\"ignore\"\u001b[0m\u001b[0;34m:\u001b[0m\u001b[0;34m\u001b[0m\u001b[0;34m\u001b[0m\u001b[0m\n\u001b[0;32m-> 5591\u001b[0;31m                 \u001b[0;32mraise\u001b[0m \u001b[0mKeyError\u001b[0m\u001b[0;34m(\u001b[0m\u001b[0;34mf\"{labels[mask]} not found in axis\"\u001b[0m\u001b[0;34m)\u001b[0m\u001b[0;34m\u001b[0m\u001b[0;34m\u001b[0m\u001b[0m\n\u001b[0m\u001b[1;32m   5592\u001b[0m             \u001b[0mindexer\u001b[0m \u001b[0;34m=\u001b[0m \u001b[0mindexer\u001b[0m\u001b[0;34m[\u001b[0m\u001b[0;34m~\u001b[0m\u001b[0mmask\u001b[0m\u001b[0;34m]\u001b[0m\u001b[0;34m\u001b[0m\u001b[0;34m\u001b[0m\u001b[0m\n\u001b[1;32m   5593\u001b[0m         \u001b[0;32mreturn\u001b[0m \u001b[0mself\u001b[0m\u001b[0;34m.\u001b[0m\u001b[0mdelete\u001b[0m\u001b[0;34m(\u001b[0m\u001b[0mindexer\u001b[0m\u001b[0;34m)\u001b[0m\u001b[0;34m\u001b[0m\u001b[0;34m\u001b[0m\u001b[0m\n",
      "\u001b[0;31mKeyError\u001b[0m: \"['Mutton & Goat Meat'] not found in axis\""
     ]
    }
   ],
   "source": [
    "#We have a lot of null values for goat meat - this might make our analysis difficult later so we'll drop those rows\n",
    "prices.drop(labels='Meat, goat',axis=1,inplace=True)\n",
    "food.drop(labels='Mutton & Goat Meat', axis=1,inplace=True)"
   ]
  },
  {
   "cell_type": "code",
   "execution_count": 68,
   "id": "1d4760b2",
   "metadata": {},
   "outputs": [
    {
     "data": {
      "text/plain": [
       "array(['China, mainland', 'India', 'United States of America', 'USSR',\n",
       "       'Indonesia', 'Pakistan', 'Brazil', 'Nigeria', 'Bangladesh',\n",
       "       'Russian Federation'], dtype=object)"
      ]
     },
     "execution_count": 68,
     "metadata": {},
     "output_type": "execute_result"
    }
   ],
   "source": [
    "top100[:10]"
   ]
  },
  {
   "cell_type": "code",
   "execution_count": 19,
   "id": "8361ce41",
   "metadata": {},
   "outputs": [],
   "source": [
    "prices.dropna(inplace=True)\n",
    "prices.reset_index(drop=True,inplace=True)"
   ]
  },
  {
   "cell_type": "markdown",
   "id": "d84bce0c",
   "metadata": {},
   "source": [
    "## CO2 Emissions\n",
    "Finally we will look at the CO2 emissions by country."
   ]
  },
  {
   "cell_type": "code",
   "execution_count": 20,
   "id": "67f376ca",
   "metadata": {},
   "outputs": [
    {
     "data": {
      "text/html": [
       "<div>\n",
       "<style scoped>\n",
       "    .dataframe tbody tr th:only-of-type {\n",
       "        vertical-align: middle;\n",
       "    }\n",
       "\n",
       "    .dataframe tbody tr th {\n",
       "        vertical-align: top;\n",
       "    }\n",
       "\n",
       "    .dataframe thead th {\n",
       "        text-align: right;\n",
       "    }\n",
       "</style>\n",
       "<table border=\"1\" class=\"dataframe\">\n",
       "  <thead>\n",
       "    <tr style=\"text-align: right;\">\n",
       "      <th></th>\n",
       "      <th>Domain</th>\n",
       "      <th>Area</th>\n",
       "      <th>Element</th>\n",
       "      <th>Item</th>\n",
       "      <th>Year</th>\n",
       "      <th>Source</th>\n",
       "      <th>Unit</th>\n",
       "      <th>Value</th>\n",
       "    </tr>\n",
       "  </thead>\n",
       "  <tbody>\n",
       "    <tr>\n",
       "      <th>0</th>\n",
       "      <td>Emissions Totals</td>\n",
       "      <td>Afghanistan</td>\n",
       "      <td>Emissions (CO2eq) (AR5)</td>\n",
       "      <td>IPCC Agriculture</td>\n",
       "      <td>1991</td>\n",
       "      <td>FAO TIER 1</td>\n",
       "      <td>kilotonnes</td>\n",
       "      <td>8760.3622</td>\n",
       "    </tr>\n",
       "    <tr>\n",
       "      <th>1</th>\n",
       "      <td>Emissions Totals</td>\n",
       "      <td>Afghanistan</td>\n",
       "      <td>Emissions (CO2eq) (AR5)</td>\n",
       "      <td>IPCC Agriculture</td>\n",
       "      <td>1992</td>\n",
       "      <td>FAO TIER 1</td>\n",
       "      <td>kilotonnes</td>\n",
       "      <td>8786.8525</td>\n",
       "    </tr>\n",
       "    <tr>\n",
       "      <th>2</th>\n",
       "      <td>Emissions Totals</td>\n",
       "      <td>Afghanistan</td>\n",
       "      <td>Emissions (CO2eq) (AR5)</td>\n",
       "      <td>IPCC Agriculture</td>\n",
       "      <td>1993</td>\n",
       "      <td>FAO TIER 1</td>\n",
       "      <td>kilotonnes</td>\n",
       "      <td>8865.5553</td>\n",
       "    </tr>\n",
       "    <tr>\n",
       "      <th>3</th>\n",
       "      <td>Emissions Totals</td>\n",
       "      <td>Afghanistan</td>\n",
       "      <td>Emissions (CO2eq) (AR5)</td>\n",
       "      <td>IPCC Agriculture</td>\n",
       "      <td>1994</td>\n",
       "      <td>FAO TIER 1</td>\n",
       "      <td>kilotonnes</td>\n",
       "      <td>8947.8165</td>\n",
       "    </tr>\n",
       "    <tr>\n",
       "      <th>4</th>\n",
       "      <td>Emissions Totals</td>\n",
       "      <td>Afghanistan</td>\n",
       "      <td>Emissions (CO2eq) (AR5)</td>\n",
       "      <td>IPCC Agriculture</td>\n",
       "      <td>1995</td>\n",
       "      <td>FAO TIER 1</td>\n",
       "      <td>kilotonnes</td>\n",
       "      <td>9407.0224</td>\n",
       "    </tr>\n",
       "  </tbody>\n",
       "</table>\n",
       "</div>"
      ],
      "text/plain": [
       "             Domain         Area                  Element              Item  \\\n",
       "0  Emissions Totals  Afghanistan  Emissions (CO2eq) (AR5)  IPCC Agriculture   \n",
       "1  Emissions Totals  Afghanistan  Emissions (CO2eq) (AR5)  IPCC Agriculture   \n",
       "2  Emissions Totals  Afghanistan  Emissions (CO2eq) (AR5)  IPCC Agriculture   \n",
       "3  Emissions Totals  Afghanistan  Emissions (CO2eq) (AR5)  IPCC Agriculture   \n",
       "4  Emissions Totals  Afghanistan  Emissions (CO2eq) (AR5)  IPCC Agriculture   \n",
       "\n",
       "   Year      Source        Unit      Value  \n",
       "0  1991  FAO TIER 1  kilotonnes  8760.3622  \n",
       "1  1992  FAO TIER 1  kilotonnes  8786.8525  \n",
       "2  1993  FAO TIER 1  kilotonnes  8865.5553  \n",
       "3  1994  FAO TIER 1  kilotonnes  8947.8165  \n",
       "4  1995  FAO TIER 1  kilotonnes  9407.0224  "
      ]
     },
     "execution_count": 20,
     "metadata": {},
     "output_type": "execute_result"
    }
   ],
   "source": [
    "co2 = pd.read_csv('new data/emissions.csv')\n",
    "co2.head()"
   ]
  },
  {
   "cell_type": "code",
   "execution_count": 21,
   "id": "f2ef7e6e",
   "metadata": {},
   "outputs": [
    {
     "data": {
      "text/plain": [
       "Domain       0\n",
       "Area         0\n",
       "Element      0\n",
       "Item         0\n",
       "Year         0\n",
       "Source       0\n",
       "Unit       431\n",
       "Value      431\n",
       "dtype: int64"
      ]
     },
     "execution_count": 21,
     "metadata": {},
     "output_type": "execute_result"
    }
   ],
   "source": [
    "co2_unit = 'kilotonnes'\n",
    "co2.isna().sum()"
   ]
  },
  {
   "cell_type": "code",
   "execution_count": 22,
   "id": "466751ca",
   "metadata": {},
   "outputs": [
    {
     "data": {
      "text/html": [
       "<div>\n",
       "<style scoped>\n",
       "    .dataframe tbody tr th:only-of-type {\n",
       "        vertical-align: middle;\n",
       "    }\n",
       "\n",
       "    .dataframe tbody tr th {\n",
       "        vertical-align: top;\n",
       "    }\n",
       "\n",
       "    .dataframe thead th {\n",
       "        text-align: right;\n",
       "    }\n",
       "</style>\n",
       "<table border=\"1\" class=\"dataframe\">\n",
       "  <thead>\n",
       "    <tr style=\"text-align: right;\">\n",
       "      <th></th>\n",
       "      <th>Area</th>\n",
       "      <th>Year</th>\n",
       "      <th>Value</th>\n",
       "    </tr>\n",
       "  </thead>\n",
       "  <tbody>\n",
       "    <tr>\n",
       "      <th>0</th>\n",
       "      <td>Afghanistan</td>\n",
       "      <td>1991</td>\n",
       "      <td>8760.3622</td>\n",
       "    </tr>\n",
       "    <tr>\n",
       "      <th>1</th>\n",
       "      <td>Afghanistan</td>\n",
       "      <td>1992</td>\n",
       "      <td>8786.8525</td>\n",
       "    </tr>\n",
       "    <tr>\n",
       "      <th>2</th>\n",
       "      <td>Afghanistan</td>\n",
       "      <td>1993</td>\n",
       "      <td>8865.5553</td>\n",
       "    </tr>\n",
       "    <tr>\n",
       "      <th>3</th>\n",
       "      <td>Afghanistan</td>\n",
       "      <td>1994</td>\n",
       "      <td>8947.8165</td>\n",
       "    </tr>\n",
       "    <tr>\n",
       "      <th>4</th>\n",
       "      <td>Afghanistan</td>\n",
       "      <td>1995</td>\n",
       "      <td>9407.0224</td>\n",
       "    </tr>\n",
       "  </tbody>\n",
       "</table>\n",
       "</div>"
      ],
      "text/plain": [
       "          Area  Year      Value\n",
       "0  Afghanistan  1991  8760.3622\n",
       "1  Afghanistan  1992  8786.8525\n",
       "2  Afghanistan  1993  8865.5553\n",
       "3  Afghanistan  1994  8947.8165\n",
       "4  Afghanistan  1995  9407.0224"
      ]
     },
     "execution_count": 22,
     "metadata": {},
     "output_type": "execute_result"
    }
   ],
   "source": [
    "co2.dropna(inplace=True)\n",
    "co2.reset_index(drop=True, inplace=True)\n",
    "co2.drop(labels=['Domain','Element','Item','Unit','Source'],axis=1,inplace=True)\n",
    "co2.head()"
   ]
  },
  {
   "cell_type": "markdown",
   "id": "830f3c45",
   "metadata": {},
   "source": [
    "## Merging\n",
    "We'll merge our two dataframes together using an inner join, since we're really only interestsed in years and countries where we have both datapoints"
   ]
  },
  {
   "cell_type": "code",
   "execution_count": 37,
   "id": "5392fcc3",
   "metadata": {},
   "outputs": [],
   "source": [
    "merged = pd.merge(poptop100, food, left_on=['Area','Year'], right_on = ['Area','Year'])"
   ]
  },
  {
   "cell_type": "code",
   "execution_count": 40,
   "id": "68dcaeb3",
   "metadata": {},
   "outputs": [],
   "source": [
    "merged.rename(columns={'Bovine Meat':'Bovine Production', 'Pigmeat':'Pig Production','Poultry Meat':'Poultry Production','Value':'Pop'},inplace=True)"
   ]
  },
  {
   "cell_type": "code",
   "execution_count": 41,
   "id": "1734adbf",
   "metadata": {},
   "outputs": [
    {
     "data": {
      "text/html": [
       "<div>\n",
       "<style scoped>\n",
       "    .dataframe tbody tr th:only-of-type {\n",
       "        vertical-align: middle;\n",
       "    }\n",
       "\n",
       "    .dataframe tbody tr th {\n",
       "        vertical-align: top;\n",
       "    }\n",
       "\n",
       "    .dataframe thead th {\n",
       "        text-align: right;\n",
       "    }\n",
       "</style>\n",
       "<table border=\"1\" class=\"dataframe\">\n",
       "  <thead>\n",
       "    <tr style=\"text-align: right;\">\n",
       "      <th></th>\n",
       "      <th>Area</th>\n",
       "      <th>Year</th>\n",
       "      <th>Pop</th>\n",
       "      <th>Bovine Production</th>\n",
       "      <th>Pig Production</th>\n",
       "      <th>Poultry Production</th>\n",
       "    </tr>\n",
       "  </thead>\n",
       "  <tbody>\n",
       "    <tr>\n",
       "      <th>0</th>\n",
       "      <td>Afghanistan</td>\n",
       "      <td>2014</td>\n",
       "      <td>33370.794</td>\n",
       "      <td>137.0</td>\n",
       "      <td>0.0</td>\n",
       "      <td>22.0</td>\n",
       "    </tr>\n",
       "    <tr>\n",
       "      <th>1</th>\n",
       "      <td>Afghanistan</td>\n",
       "      <td>2015</td>\n",
       "      <td>34413.603</td>\n",
       "      <td>136.0</td>\n",
       "      <td>0.0</td>\n",
       "      <td>24.0</td>\n",
       "    </tr>\n",
       "    <tr>\n",
       "      <th>2</th>\n",
       "      <td>Afghanistan</td>\n",
       "      <td>2016</td>\n",
       "      <td>35383.032</td>\n",
       "      <td>135.0</td>\n",
       "      <td>0.0</td>\n",
       "      <td>25.0</td>\n",
       "    </tr>\n",
       "    <tr>\n",
       "      <th>3</th>\n",
       "      <td>Afghanistan</td>\n",
       "      <td>2017</td>\n",
       "      <td>36296.113</td>\n",
       "      <td>128.0</td>\n",
       "      <td>0.0</td>\n",
       "      <td>28.0</td>\n",
       "    </tr>\n",
       "    <tr>\n",
       "      <th>4</th>\n",
       "      <td>Afghanistan</td>\n",
       "      <td>2018</td>\n",
       "      <td>37171.921</td>\n",
       "      <td>130.0</td>\n",
       "      <td>0.0</td>\n",
       "      <td>29.0</td>\n",
       "    </tr>\n",
       "    <tr>\n",
       "      <th>...</th>\n",
       "      <td>...</td>\n",
       "      <td>...</td>\n",
       "      <td>...</td>\n",
       "      <td>...</td>\n",
       "      <td>...</td>\n",
       "      <td>...</td>\n",
       "    </tr>\n",
       "    <tr>\n",
       "      <th>2190</th>\n",
       "      <td>Zimbabwe</td>\n",
       "      <td>2014</td>\n",
       "      <td>13586.707</td>\n",
       "      <td>98.0</td>\n",
       "      <td>21.0</td>\n",
       "      <td>58.0</td>\n",
       "    </tr>\n",
       "    <tr>\n",
       "      <th>2191</th>\n",
       "      <td>Zimbabwe</td>\n",
       "      <td>2015</td>\n",
       "      <td>13814.629</td>\n",
       "      <td>114.0</td>\n",
       "      <td>21.0</td>\n",
       "      <td>61.0</td>\n",
       "    </tr>\n",
       "    <tr>\n",
       "      <th>2192</th>\n",
       "      <td>Zimbabwe</td>\n",
       "      <td>2016</td>\n",
       "      <td>14030.331</td>\n",
       "      <td>111.0</td>\n",
       "      <td>21.0</td>\n",
       "      <td>67.0</td>\n",
       "    </tr>\n",
       "    <tr>\n",
       "      <th>2193</th>\n",
       "      <td>Zimbabwe</td>\n",
       "      <td>2017</td>\n",
       "      <td>14236.595</td>\n",
       "      <td>108.0</td>\n",
       "      <td>17.0</td>\n",
       "      <td>69.0</td>\n",
       "    </tr>\n",
       "    <tr>\n",
       "      <th>2194</th>\n",
       "      <td>Zimbabwe</td>\n",
       "      <td>2018</td>\n",
       "      <td>14438.802</td>\n",
       "      <td>111.0</td>\n",
       "      <td>18.0</td>\n",
       "      <td>66.0</td>\n",
       "    </tr>\n",
       "  </tbody>\n",
       "</table>\n",
       "<p>2195 rows × 6 columns</p>\n",
       "</div>"
      ],
      "text/plain": [
       "             Area  Year        Pop  Bovine Production  Pig Production  \\\n",
       "0     Afghanistan  2014  33370.794              137.0             0.0   \n",
       "1     Afghanistan  2015  34413.603              136.0             0.0   \n",
       "2     Afghanistan  2016  35383.032              135.0             0.0   \n",
       "3     Afghanistan  2017  36296.113              128.0             0.0   \n",
       "4     Afghanistan  2018  37171.921              130.0             0.0   \n",
       "...           ...   ...        ...                ...             ...   \n",
       "2190     Zimbabwe  2014  13586.707               98.0            21.0   \n",
       "2191     Zimbabwe  2015  13814.629              114.0            21.0   \n",
       "2192     Zimbabwe  2016  14030.331              111.0            21.0   \n",
       "2193     Zimbabwe  2017  14236.595              108.0            17.0   \n",
       "2194     Zimbabwe  2018  14438.802              111.0            18.0   \n",
       "\n",
       "      Poultry Production  \n",
       "0                   22.0  \n",
       "1                   24.0  \n",
       "2                   25.0  \n",
       "3                   28.0  \n",
       "4                   29.0  \n",
       "...                  ...  \n",
       "2190                58.0  \n",
       "2191                61.0  \n",
       "2192                67.0  \n",
       "2193                69.0  \n",
       "2194                66.0  \n",
       "\n",
       "[2195 rows x 6 columns]"
      ]
     },
     "execution_count": 41,
     "metadata": {},
     "output_type": "execute_result"
    }
   ],
   "source": [
    "merged"
   ]
  },
  {
   "cell_type": "code",
   "execution_count": 50,
   "id": "ef8644cb",
   "metadata": {},
   "outputs": [
    {
     "data": {
      "text/plain": [
       "array(['Albania', 'Armenia', 'Austria', 'Azerbaijan', 'Belgium',\n",
       "       'Bosnia and Herzegovina', 'Brazil', 'Bulgaria', 'Cabo Verde',\n",
       "       'China, mainland', 'Cyprus', 'Denmark', 'Estonia', 'Fiji',\n",
       "       'Finland', 'France', 'Georgia', 'Germany', 'Greece', 'Grenada',\n",
       "       'Iceland', 'Kenya', 'Kyrgyzstan', 'Latvia', 'Luxembourg',\n",
       "       'Malaysia', 'Malta', 'Mauritius', 'Mexico', 'Mozambique',\n",
       "       'North Macedonia', 'Norway', 'Romania', 'Russian Federation',\n",
       "       'Rwanda', 'Saint Lucia', 'South Africa', 'Spain', 'Suriname',\n",
       "       'Thailand', 'Togo', 'Uruguay', 'Viet Nam', 'Zambia'], dtype=object)"
      ]
     },
     "execution_count": 50,
     "metadata": {},
     "output_type": "execute_result"
    }
   ],
   "source": [
    "merged[(merged.Area=='United States of America') &(merged.Year>2014)]\n",
    "prices[(prices.Year>2015)].Area.unique()"
   ]
  },
  {
   "cell_type": "code",
   "execution_count": 26,
   "id": "1c2b564d",
   "metadata": {},
   "outputs": [],
   "source": [
    "#merge the above with price data\n",
    "merged = pd.merge(prices, merged, left_on=['Area','Year'], right_on = ['Area','Year'])"
   ]
  },
  {
   "cell_type": "code",
   "execution_count": 28,
   "id": "bda8fcab",
   "metadata": {},
   "outputs": [
    {
     "data": {
      "text/html": [
       "<div>\n",
       "<style scoped>\n",
       "    .dataframe tbody tr th:only-of-type {\n",
       "        vertical-align: middle;\n",
       "    }\n",
       "\n",
       "    .dataframe tbody tr th {\n",
       "        vertical-align: top;\n",
       "    }\n",
       "\n",
       "    .dataframe thead th {\n",
       "        text-align: right;\n",
       "    }\n",
       "</style>\n",
       "<table border=\"1\" class=\"dataframe\">\n",
       "  <thead>\n",
       "    <tr style=\"text-align: right;\">\n",
       "      <th></th>\n",
       "      <th>Area</th>\n",
       "      <th>Year</th>\n",
       "      <th>Bovine Price</th>\n",
       "      <th>Poultry Price</th>\n",
       "      <th>Pig Price</th>\n",
       "      <th>Pop</th>\n",
       "      <th>Bovine Production</th>\n",
       "      <th>Pig Production</th>\n",
       "      <th>Poultry Production</th>\n",
       "    </tr>\n",
       "  </thead>\n",
       "  <tbody>\n",
       "    <tr>\n",
       "      <th>0</th>\n",
       "      <td>Argentina</td>\n",
       "      <td>2004</td>\n",
       "      <td>1391.6</td>\n",
       "      <td>1048.2</td>\n",
       "      <td>929.2</td>\n",
       "      <td>38491.972</td>\n",
       "      <td>3024.0</td>\n",
       "      <td>160.0</td>\n",
       "      <td>909.0</td>\n",
       "    </tr>\n",
       "    <tr>\n",
       "      <th>1</th>\n",
       "      <td>Argentina</td>\n",
       "      <td>2005</td>\n",
       "      <td>1620.1</td>\n",
       "      <td>916.4</td>\n",
       "      <td>954.3</td>\n",
       "      <td>38892.931</td>\n",
       "      <td>3131.0</td>\n",
       "      <td>185.0</td>\n",
       "      <td>1053.0</td>\n",
       "    </tr>\n",
       "    <tr>\n",
       "      <th>2</th>\n",
       "      <td>Argentina</td>\n",
       "      <td>2006</td>\n",
       "      <td>1496.4</td>\n",
       "      <td>739.2</td>\n",
       "      <td>946.0</td>\n",
       "      <td>39289.878</td>\n",
       "      <td>3034.0</td>\n",
       "      <td>230.0</td>\n",
       "      <td>1202.0</td>\n",
       "    </tr>\n",
       "    <tr>\n",
       "      <th>3</th>\n",
       "      <td>Argentina</td>\n",
       "      <td>2007</td>\n",
       "      <td>1558.7</td>\n",
       "      <td>929.4</td>\n",
       "      <td>1071.3</td>\n",
       "      <td>39684.295</td>\n",
       "      <td>3224.0</td>\n",
       "      <td>240.0</td>\n",
       "      <td>1288.0</td>\n",
       "    </tr>\n",
       "    <tr>\n",
       "      <th>4</th>\n",
       "      <td>Argentina</td>\n",
       "      <td>2008</td>\n",
       "      <td>1741.1</td>\n",
       "      <td>981.3</td>\n",
       "      <td>1281.0</td>\n",
       "      <td>40080.160</td>\n",
       "      <td>3132.0</td>\n",
       "      <td>274.0</td>\n",
       "      <td>1445.0</td>\n",
       "    </tr>\n",
       "  </tbody>\n",
       "</table>\n",
       "</div>"
      ],
      "text/plain": [
       "        Area  Year  Bovine Price  Poultry Price  Pig Price        Pop  \\\n",
       "0  Argentina  2004        1391.6         1048.2      929.2  38491.972   \n",
       "1  Argentina  2005        1620.1          916.4      954.3  38892.931   \n",
       "2  Argentina  2006        1496.4          739.2      946.0  39289.878   \n",
       "3  Argentina  2007        1558.7          929.4     1071.3  39684.295   \n",
       "4  Argentina  2008        1741.1          981.3     1281.0  40080.160   \n",
       "\n",
       "   Bovine Production  Pig Production  Poultry Production  \n",
       "0             3024.0           160.0               909.0  \n",
       "1             3131.0           185.0              1053.0  \n",
       "2             3034.0           230.0              1202.0  \n",
       "3             3224.0           240.0              1288.0  \n",
       "4             3132.0           274.0              1445.0  "
      ]
     },
     "execution_count": 28,
     "metadata": {},
     "output_type": "execute_result"
    }
   ],
   "source": [
    "merged.rename(columns={'Meat, cattle':'Bovine Price','Meat, chicken':'Poultry Price','Meat, pig':'Pig Price'},inplace=True)\n",
    "merged.head()"
   ]
  },
  {
   "cell_type": "code",
   "execution_count": 29,
   "id": "547c8feb",
   "metadata": {},
   "outputs": [
    {
     "data": {
      "text/html": [
       "<div>\n",
       "<style scoped>\n",
       "    .dataframe tbody tr th:only-of-type {\n",
       "        vertical-align: middle;\n",
       "    }\n",
       "\n",
       "    .dataframe tbody tr th {\n",
       "        vertical-align: top;\n",
       "    }\n",
       "\n",
       "    .dataframe thead th {\n",
       "        text-align: right;\n",
       "    }\n",
       "</style>\n",
       "<table border=\"1\" class=\"dataframe\">\n",
       "  <thead>\n",
       "    <tr style=\"text-align: right;\">\n",
       "      <th></th>\n",
       "      <th>Area</th>\n",
       "      <th>Year</th>\n",
       "      <th>Bovine Price</th>\n",
       "      <th>Poultry Price</th>\n",
       "      <th>Pig Price</th>\n",
       "      <th>Pop</th>\n",
       "      <th>Bovine Production</th>\n",
       "      <th>Pig Production</th>\n",
       "      <th>Poultry Production</th>\n",
       "      <th>Value</th>\n",
       "    </tr>\n",
       "  </thead>\n",
       "  <tbody>\n",
       "    <tr>\n",
       "      <th>0</th>\n",
       "      <td>Argentina</td>\n",
       "      <td>2004</td>\n",
       "      <td>1391.6</td>\n",
       "      <td>1048.2</td>\n",
       "      <td>929.2</td>\n",
       "      <td>38491.972</td>\n",
       "      <td>3024.0</td>\n",
       "      <td>160.0</td>\n",
       "      <td>909.0</td>\n",
       "      <td>136899.1923</td>\n",
       "    </tr>\n",
       "    <tr>\n",
       "      <th>1</th>\n",
       "      <td>Argentina</td>\n",
       "      <td>2005</td>\n",
       "      <td>1620.1</td>\n",
       "      <td>916.4</td>\n",
       "      <td>954.3</td>\n",
       "      <td>38892.931</td>\n",
       "      <td>3131.0</td>\n",
       "      <td>185.0</td>\n",
       "      <td>1053.0</td>\n",
       "      <td>136478.2809</td>\n",
       "    </tr>\n",
       "    <tr>\n",
       "      <th>2</th>\n",
       "      <td>Argentina</td>\n",
       "      <td>2006</td>\n",
       "      <td>1496.4</td>\n",
       "      <td>739.2</td>\n",
       "      <td>946.0</td>\n",
       "      <td>39289.878</td>\n",
       "      <td>3034.0</td>\n",
       "      <td>230.0</td>\n",
       "      <td>1202.0</td>\n",
       "      <td>139872.1149</td>\n",
       "    </tr>\n",
       "    <tr>\n",
       "      <th>3</th>\n",
       "      <td>Argentina</td>\n",
       "      <td>2007</td>\n",
       "      <td>1558.7</td>\n",
       "      <td>929.4</td>\n",
       "      <td>1071.3</td>\n",
       "      <td>39684.295</td>\n",
       "      <td>3224.0</td>\n",
       "      <td>240.0</td>\n",
       "      <td>1288.0</td>\n",
       "      <td>142662.1991</td>\n",
       "    </tr>\n",
       "    <tr>\n",
       "      <th>4</th>\n",
       "      <td>Argentina</td>\n",
       "      <td>2008</td>\n",
       "      <td>1741.1</td>\n",
       "      <td>981.3</td>\n",
       "      <td>1281.0</td>\n",
       "      <td>40080.160</td>\n",
       "      <td>3132.0</td>\n",
       "      <td>274.0</td>\n",
       "      <td>1445.0</td>\n",
       "      <td>140063.2322</td>\n",
       "    </tr>\n",
       "  </tbody>\n",
       "</table>\n",
       "</div>"
      ],
      "text/plain": [
       "        Area  Year  Bovine Price  Poultry Price  Pig Price        Pop  \\\n",
       "0  Argentina  2004        1391.6         1048.2      929.2  38491.972   \n",
       "1  Argentina  2005        1620.1          916.4      954.3  38892.931   \n",
       "2  Argentina  2006        1496.4          739.2      946.0  39289.878   \n",
       "3  Argentina  2007        1558.7          929.4     1071.3  39684.295   \n",
       "4  Argentina  2008        1741.1          981.3     1281.0  40080.160   \n",
       "\n",
       "   Bovine Production  Pig Production  Poultry Production        Value  \n",
       "0             3024.0           160.0               909.0  136899.1923  \n",
       "1             3131.0           185.0              1053.0  136478.2809  \n",
       "2             3034.0           230.0              1202.0  139872.1149  \n",
       "3             3224.0           240.0              1288.0  142662.1991  \n",
       "4             3132.0           274.0              1445.0  140063.2322  "
      ]
     },
     "execution_count": 29,
     "metadata": {},
     "output_type": "execute_result"
    }
   ],
   "source": [
    "merged = pd.merge(merged, co2, left_on=['Area','Year'], right_on = ['Area','Year'])\n",
    "merged.head()"
   ]
  },
  {
   "cell_type": "code",
   "execution_count": 30,
   "id": "e0a05ad9",
   "metadata": {},
   "outputs": [],
   "source": [
    "merged.rename(columns={'Value':'Emissions'}, inplace=True)"
   ]
  },
  {
   "cell_type": "code",
   "execution_count": 31,
   "id": "0f68f60c",
   "metadata": {},
   "outputs": [
    {
     "data": {
      "text/plain": [
       "Area                  0\n",
       "Year                  0\n",
       "Bovine Price          0\n",
       "Poultry Price         0\n",
       "Pig Price             0\n",
       "Pop                   0\n",
       "Bovine Production     0\n",
       "Pig Production        0\n",
       "Poultry Production    0\n",
       "Emissions             0\n",
       "dtype: int64"
      ]
     },
     "execution_count": 31,
     "metadata": {},
     "output_type": "execute_result"
    }
   ],
   "source": [
    "merged.isna().sum()"
   ]
  },
  {
   "cell_type": "code",
   "execution_count": 32,
   "id": "a062a719",
   "metadata": {},
   "outputs": [
    {
     "data": {
      "text/plain": [
       "(812, 10)"
      ]
     },
     "execution_count": 32,
     "metadata": {},
     "output_type": "execute_result"
    }
   ],
   "source": [
    "merged.shape"
   ]
  },
  {
   "cell_type": "markdown",
   "id": "a90d92e3",
   "metadata": {},
   "source": [
    "## Save our data"
   ]
  },
  {
   "cell_type": "code",
   "execution_count": 33,
   "id": "8ad7a027",
   "metadata": {},
   "outputs": [
    {
     "name": "stdout",
     "output_type": "stream",
     "text": [
      "Writing file.  \"new data/merged.csv\"\n"
     ]
    }
   ],
   "source": [
    "datapath = 'new data' \n",
    "save_file(merged, 'merged.csv', datapath)"
   ]
  },
  {
   "cell_type": "code",
   "execution_count": null,
   "id": "8817e742",
   "metadata": {},
   "outputs": [],
   "source": []
  }
 ],
 "metadata": {
  "kernelspec": {
   "display_name": "Python 3",
   "language": "python",
   "name": "python3"
  },
  "language_info": {
   "codemirror_mode": {
    "name": "ipython",
    "version": 3
   },
   "file_extension": ".py",
   "mimetype": "text/x-python",
   "name": "python",
   "nbconvert_exporter": "python",
   "pygments_lexer": "ipython3",
   "version": "3.8.8"
  }
 },
 "nbformat": 4,
 "nbformat_minor": 5
}
