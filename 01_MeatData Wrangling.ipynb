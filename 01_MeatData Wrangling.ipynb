{
 "cells": [
  {
   "cell_type": "markdown",
   "id": "08691466",
   "metadata": {},
   "source": [
    "# Data Wrangling\n",
    "\n",
    "This first capstone is intended to forecast the consumption of meat globally over the next 10 years. We will look for patterns in potential social, economic, and environmental indicators that could be predictors of consumption. \n",
    "\n",
    "When downloading the value, we saw visually that different datasets had different numbers of null values. We'll want to inspect each dataset and treat our nulls so that we can have a more reasonably sized dataframe."
   ]
  },
  {
   "cell_type": "code",
   "execution_count": 1,
   "id": "a292b02d",
   "metadata": {},
   "outputs": [],
   "source": [
    "import pandas as pd\n",
    "import numpy as np\n",
    "import matplotlib.pyplot as plt\n",
    "import seaborn as sns\n",
    "import os\n",
    "from lib.sb_utils import save_file"
   ]
  },
  {
   "cell_type": "markdown",
   "id": "284b1405",
   "metadata": {},
   "source": [
    "## Food Balances\n",
    "Our food balance sheet tells us the production quantity of each meat type in unit tons."
   ]
  },
  {
   "cell_type": "code",
   "execution_count": 2,
   "id": "01cbd69c",
   "metadata": {},
   "outputs": [
    {
     "data": {
      "text/html": [
       "<div>\n",
       "<style scoped>\n",
       "    .dataframe tbody tr th:only-of-type {\n",
       "        vertical-align: middle;\n",
       "    }\n",
       "\n",
       "    .dataframe tbody tr th {\n",
       "        vertical-align: top;\n",
       "    }\n",
       "\n",
       "    .dataframe thead th {\n",
       "        text-align: right;\n",
       "    }\n",
       "</style>\n",
       "<table border=\"1\" class=\"dataframe\">\n",
       "  <thead>\n",
       "    <tr style=\"text-align: right;\">\n",
       "      <th></th>\n",
       "      <th>Domain</th>\n",
       "      <th>Area</th>\n",
       "      <th>Element</th>\n",
       "      <th>Item</th>\n",
       "      <th>Year</th>\n",
       "      <th>Unit</th>\n",
       "      <th>Value</th>\n",
       "    </tr>\n",
       "  </thead>\n",
       "  <tbody>\n",
       "    <tr>\n",
       "      <th>0</th>\n",
       "      <td>Food Balances (-2013, old methodology and popu...</td>\n",
       "      <td>Afghanistan</td>\n",
       "      <td>Production</td>\n",
       "      <td>Bovine Meat</td>\n",
       "      <td>1991</td>\n",
       "      <td>1000 tonnes</td>\n",
       "      <td>86.0</td>\n",
       "    </tr>\n",
       "    <tr>\n",
       "      <th>1</th>\n",
       "      <td>Food Balances (-2013, old methodology and popu...</td>\n",
       "      <td>Afghanistan</td>\n",
       "      <td>Production</td>\n",
       "      <td>Bovine Meat</td>\n",
       "      <td>1992</td>\n",
       "      <td>1000 tonnes</td>\n",
       "      <td>86.0</td>\n",
       "    </tr>\n",
       "    <tr>\n",
       "      <th>2</th>\n",
       "      <td>Food Balances (-2013, old methodology and popu...</td>\n",
       "      <td>Afghanistan</td>\n",
       "      <td>Production</td>\n",
       "      <td>Bovine Meat</td>\n",
       "      <td>1993</td>\n",
       "      <td>1000 tonnes</td>\n",
       "      <td>97.0</td>\n",
       "    </tr>\n",
       "    <tr>\n",
       "      <th>3</th>\n",
       "      <td>Food Balances (-2013, old methodology and popu...</td>\n",
       "      <td>Afghanistan</td>\n",
       "      <td>Production</td>\n",
       "      <td>Bovine Meat</td>\n",
       "      <td>1994</td>\n",
       "      <td>1000 tonnes</td>\n",
       "      <td>113.0</td>\n",
       "    </tr>\n",
       "    <tr>\n",
       "      <th>4</th>\n",
       "      <td>Food Balances (-2013, old methodology and popu...</td>\n",
       "      <td>Afghanistan</td>\n",
       "      <td>Production</td>\n",
       "      <td>Bovine Meat</td>\n",
       "      <td>1995</td>\n",
       "      <td>1000 tonnes</td>\n",
       "      <td>130.0</td>\n",
       "    </tr>\n",
       "  </tbody>\n",
       "</table>\n",
       "</div>"
      ],
      "text/plain": [
       "                                              Domain         Area     Element  \\\n",
       "0  Food Balances (-2013, old methodology and popu...  Afghanistan  Production   \n",
       "1  Food Balances (-2013, old methodology and popu...  Afghanistan  Production   \n",
       "2  Food Balances (-2013, old methodology and popu...  Afghanistan  Production   \n",
       "3  Food Balances (-2013, old methodology and popu...  Afghanistan  Production   \n",
       "4  Food Balances (-2013, old methodology and popu...  Afghanistan  Production   \n",
       "\n",
       "          Item  Year         Unit  Value  \n",
       "0  Bovine Meat  1991  1000 tonnes   86.0  \n",
       "1  Bovine Meat  1992  1000 tonnes   86.0  \n",
       "2  Bovine Meat  1993  1000 tonnes   97.0  \n",
       "3  Bovine Meat  1994  1000 tonnes  113.0  \n",
       "4  Bovine Meat  1995  1000 tonnes  130.0  "
      ]
     },
     "execution_count": 2,
     "metadata": {},
     "output_type": "execute_result"
    }
   ],
   "source": [
    "food = pd.read_csv('new data/food_balances.csv')\n",
    "food.head()"
   ]
  },
  {
   "cell_type": "code",
   "execution_count": 3,
   "id": "373e3dc9",
   "metadata": {},
   "outputs": [
    {
     "data": {
      "text/plain": [
       "((20082, 7),\n",
       " Domain        0\n",
       " Area          0\n",
       " Element       0\n",
       " Item          0\n",
       " Year          0\n",
       " Unit       1545\n",
       " Value      1545\n",
       " dtype: int64)"
      ]
     },
     "execution_count": 3,
     "metadata": {},
     "output_type": "execute_result"
    }
   ],
   "source": [
    "food.shape, food.isna().sum()"
   ]
  },
  {
   "cell_type": "markdown",
   "id": "c71a0d35",
   "metadata": {},
   "source": [
    "The column we care about most here is Value, so if it's null, we can drop those rows."
   ]
  },
  {
   "cell_type": "code",
   "execution_count": 4,
   "id": "57d98435",
   "metadata": {},
   "outputs": [
    {
     "data": {
      "text/html": [
       "<div>\n",
       "<style scoped>\n",
       "    .dataframe tbody tr th:only-of-type {\n",
       "        vertical-align: middle;\n",
       "    }\n",
       "\n",
       "    .dataframe tbody tr th {\n",
       "        vertical-align: top;\n",
       "    }\n",
       "\n",
       "    .dataframe thead th {\n",
       "        text-align: right;\n",
       "    }\n",
       "</style>\n",
       "<table border=\"1\" class=\"dataframe\">\n",
       "  <thead>\n",
       "    <tr style=\"text-align: right;\">\n",
       "      <th></th>\n",
       "      <th>Area</th>\n",
       "      <th>Item</th>\n",
       "      <th>Year</th>\n",
       "      <th>Value</th>\n",
       "    </tr>\n",
       "  </thead>\n",
       "  <tbody>\n",
       "    <tr>\n",
       "      <th>0</th>\n",
       "      <td>Afghanistan</td>\n",
       "      <td>Bovine Meat</td>\n",
       "      <td>1991</td>\n",
       "      <td>86.0</td>\n",
       "    </tr>\n",
       "    <tr>\n",
       "      <th>1</th>\n",
       "      <td>Afghanistan</td>\n",
       "      <td>Bovine Meat</td>\n",
       "      <td>1992</td>\n",
       "      <td>86.0</td>\n",
       "    </tr>\n",
       "    <tr>\n",
       "      <th>2</th>\n",
       "      <td>Afghanistan</td>\n",
       "      <td>Bovine Meat</td>\n",
       "      <td>1993</td>\n",
       "      <td>97.0</td>\n",
       "    </tr>\n",
       "    <tr>\n",
       "      <th>3</th>\n",
       "      <td>Afghanistan</td>\n",
       "      <td>Bovine Meat</td>\n",
       "      <td>1994</td>\n",
       "      <td>113.0</td>\n",
       "    </tr>\n",
       "    <tr>\n",
       "      <th>4</th>\n",
       "      <td>Afghanistan</td>\n",
       "      <td>Bovine Meat</td>\n",
       "      <td>1995</td>\n",
       "      <td>130.0</td>\n",
       "    </tr>\n",
       "  </tbody>\n",
       "</table>\n",
       "</div>"
      ],
      "text/plain": [
       "          Area         Item  Year  Value\n",
       "0  Afghanistan  Bovine Meat  1991   86.0\n",
       "1  Afghanistan  Bovine Meat  1992   86.0\n",
       "2  Afghanistan  Bovine Meat  1993   97.0\n",
       "3  Afghanistan  Bovine Meat  1994  113.0\n",
       "4  Afghanistan  Bovine Meat  1995  130.0"
      ]
     },
     "execution_count": 4,
     "metadata": {},
     "output_type": "execute_result"
    }
   ],
   "source": [
    "food.dropna(inplace=True)\n",
    "food.reset_index(drop=True, inplace=True)\n",
    "food.drop(labels=['Domain','Unit','Element'], axis=1, inplace=True)\n",
    "food.head()"
   ]
  },
  {
   "cell_type": "code",
   "execution_count": 5,
   "id": "2e3d7ae6",
   "metadata": {},
   "outputs": [
    {
     "data": {
      "text/html": [
       "<div>\n",
       "<style scoped>\n",
       "    .dataframe tbody tr th:only-of-type {\n",
       "        vertical-align: middle;\n",
       "    }\n",
       "\n",
       "    .dataframe tbody tr th {\n",
       "        vertical-align: top;\n",
       "    }\n",
       "\n",
       "    .dataframe thead th {\n",
       "        text-align: right;\n",
       "    }\n",
       "</style>\n",
       "<table border=\"1\" class=\"dataframe\">\n",
       "  <thead>\n",
       "    <tr style=\"text-align: right;\">\n",
       "      <th>Item</th>\n",
       "      <th>Area</th>\n",
       "      <th>Year</th>\n",
       "      <th>Bovine Meat</th>\n",
       "      <th>Mutton &amp; Goat Meat</th>\n",
       "      <th>Pigmeat</th>\n",
       "      <th>Poultry Meat</th>\n",
       "    </tr>\n",
       "  </thead>\n",
       "  <tbody>\n",
       "    <tr>\n",
       "      <th>0</th>\n",
       "      <td>Afghanistan</td>\n",
       "      <td>1991</td>\n",
       "      <td>86.0</td>\n",
       "      <td>137.0</td>\n",
       "      <td>NaN</td>\n",
       "      <td>12.0</td>\n",
       "    </tr>\n",
       "    <tr>\n",
       "      <th>1</th>\n",
       "      <td>Afghanistan</td>\n",
       "      <td>1992</td>\n",
       "      <td>86.0</td>\n",
       "      <td>133.0</td>\n",
       "      <td>NaN</td>\n",
       "      <td>12.0</td>\n",
       "    </tr>\n",
       "    <tr>\n",
       "      <th>2</th>\n",
       "      <td>Afghanistan</td>\n",
       "      <td>1993</td>\n",
       "      <td>97.0</td>\n",
       "      <td>132.0</td>\n",
       "      <td>NaN</td>\n",
       "      <td>12.0</td>\n",
       "    </tr>\n",
       "    <tr>\n",
       "      <th>3</th>\n",
       "      <td>Afghanistan</td>\n",
       "      <td>1994</td>\n",
       "      <td>113.0</td>\n",
       "      <td>134.0</td>\n",
       "      <td>NaN</td>\n",
       "      <td>12.0</td>\n",
       "    </tr>\n",
       "    <tr>\n",
       "      <th>4</th>\n",
       "      <td>Afghanistan</td>\n",
       "      <td>1995</td>\n",
       "      <td>130.0</td>\n",
       "      <td>134.0</td>\n",
       "      <td>NaN</td>\n",
       "      <td>12.0</td>\n",
       "    </tr>\n",
       "  </tbody>\n",
       "</table>\n",
       "</div>"
      ],
      "text/plain": [
       "Item         Area  Year  Bovine Meat  Mutton & Goat Meat  Pigmeat  \\\n",
       "0     Afghanistan  1991         86.0               137.0      NaN   \n",
       "1     Afghanistan  1992         86.0               133.0      NaN   \n",
       "2     Afghanistan  1993         97.0               132.0      NaN   \n",
       "3     Afghanistan  1994        113.0               134.0      NaN   \n",
       "4     Afghanistan  1995        130.0               134.0      NaN   \n",
       "\n",
       "Item  Poultry Meat  \n",
       "0             12.0  \n",
       "1             12.0  \n",
       "2             12.0  \n",
       "3             12.0  \n",
       "4             12.0  "
      ]
     },
     "execution_count": 5,
     "metadata": {},
     "output_type": "execute_result"
    }
   ],
   "source": [
    "food = pd.pivot_table(food, values='Value',index=['Area','Year'], columns='Item').reset_index()\n",
    "food.head()"
   ]
  },
  {
   "cell_type": "code",
   "execution_count": 6,
   "id": "aa284fe9",
   "metadata": {},
   "outputs": [
    {
     "data": {
      "text/plain": [
       "(4768, 6)"
      ]
     },
     "execution_count": 6,
     "metadata": {},
     "output_type": "execute_result"
    }
   ],
   "source": [
    "food.shape"
   ]
  },
  {
   "cell_type": "markdown",
   "id": "38fa1cc1",
   "metadata": {},
   "source": [
    "## Prices\n",
    "Our prices data shows the Producer Price in dollars per ton for each meat."
   ]
  },
  {
   "cell_type": "code",
   "execution_count": 7,
   "id": "81d89b18",
   "metadata": {},
   "outputs": [
    {
     "data": {
      "text/html": [
       "<div>\n",
       "<style scoped>\n",
       "    .dataframe tbody tr th:only-of-type {\n",
       "        vertical-align: middle;\n",
       "    }\n",
       "\n",
       "    .dataframe tbody tr th {\n",
       "        vertical-align: top;\n",
       "    }\n",
       "\n",
       "    .dataframe thead th {\n",
       "        text-align: right;\n",
       "    }\n",
       "</style>\n",
       "<table border=\"1\" class=\"dataframe\">\n",
       "  <thead>\n",
       "    <tr style=\"text-align: right;\">\n",
       "      <th></th>\n",
       "      <th>Domain</th>\n",
       "      <th>Area</th>\n",
       "      <th>Element</th>\n",
       "      <th>Item</th>\n",
       "      <th>Year</th>\n",
       "      <th>Months</th>\n",
       "      <th>Unit</th>\n",
       "      <th>Value</th>\n",
       "    </tr>\n",
       "  </thead>\n",
       "  <tbody>\n",
       "    <tr>\n",
       "      <th>0</th>\n",
       "      <td>Producer Prices</td>\n",
       "      <td>Afghanistan</td>\n",
       "      <td>Producer Price (USD/tonne)</td>\n",
       "      <td>Meat, cattle</td>\n",
       "      <td>1991</td>\n",
       "      <td>Annual value</td>\n",
       "      <td>NaN</td>\n",
       "      <td>NaN</td>\n",
       "    </tr>\n",
       "    <tr>\n",
       "      <th>1</th>\n",
       "      <td>Producer Prices</td>\n",
       "      <td>Afghanistan</td>\n",
       "      <td>Producer Price (USD/tonne)</td>\n",
       "      <td>Meat, chicken</td>\n",
       "      <td>1991</td>\n",
       "      <td>Annual value</td>\n",
       "      <td>NaN</td>\n",
       "      <td>NaN</td>\n",
       "    </tr>\n",
       "    <tr>\n",
       "      <th>2</th>\n",
       "      <td>Producer Prices</td>\n",
       "      <td>Afghanistan</td>\n",
       "      <td>Producer Price (USD/tonne)</td>\n",
       "      <td>Meat, goat</td>\n",
       "      <td>1991</td>\n",
       "      <td>Annual value</td>\n",
       "      <td>NaN</td>\n",
       "      <td>NaN</td>\n",
       "    </tr>\n",
       "    <tr>\n",
       "      <th>3</th>\n",
       "      <td>Producer Prices</td>\n",
       "      <td>Afghanistan</td>\n",
       "      <td>Producer Price (USD/tonne)</td>\n",
       "      <td>Meat, pig</td>\n",
       "      <td>1991</td>\n",
       "      <td>Annual value</td>\n",
       "      <td>NaN</td>\n",
       "      <td>NaN</td>\n",
       "    </tr>\n",
       "    <tr>\n",
       "      <th>4</th>\n",
       "      <td>Producer Prices</td>\n",
       "      <td>Afghanistan</td>\n",
       "      <td>Producer Price (USD/tonne)</td>\n",
       "      <td>Meat, cattle</td>\n",
       "      <td>1992</td>\n",
       "      <td>Annual value</td>\n",
       "      <td>NaN</td>\n",
       "      <td>NaN</td>\n",
       "    </tr>\n",
       "  </tbody>\n",
       "</table>\n",
       "</div>"
      ],
      "text/plain": [
       "            Domain         Area                     Element           Item  \\\n",
       "0  Producer Prices  Afghanistan  Producer Price (USD/tonne)   Meat, cattle   \n",
       "1  Producer Prices  Afghanistan  Producer Price (USD/tonne)  Meat, chicken   \n",
       "2  Producer Prices  Afghanistan  Producer Price (USD/tonne)     Meat, goat   \n",
       "3  Producer Prices  Afghanistan  Producer Price (USD/tonne)      Meat, pig   \n",
       "4  Producer Prices  Afghanistan  Producer Price (USD/tonne)   Meat, cattle   \n",
       "\n",
       "   Year        Months Unit  Value  \n",
       "0  1991  Annual value  NaN    NaN  \n",
       "1  1991  Annual value  NaN    NaN  \n",
       "2  1991  Annual value  NaN    NaN  \n",
       "3  1991  Annual value  NaN    NaN  \n",
       "4  1992  Annual value  NaN    NaN  "
      ]
     },
     "execution_count": 7,
     "metadata": {},
     "output_type": "execute_result"
    }
   ],
   "source": [
    "prices = pd.read_csv('new data/meat_prices.csv')\n",
    "prices.head()"
   ]
  },
  {
   "cell_type": "code",
   "execution_count": 8,
   "id": "8361ce41",
   "metadata": {},
   "outputs": [
    {
     "data": {
      "text/plain": [
       "((22968, 8),\n",
       " Domain         0\n",
       " Area           0\n",
       " Element        0\n",
       " Item           0\n",
       " Year           0\n",
       " Months         0\n",
       " Unit       14923\n",
       " Value      14923\n",
       " dtype: int64)"
      ]
     },
     "execution_count": 8,
     "metadata": {},
     "output_type": "execute_result"
    }
   ],
   "source": [
    "prices.shape, prices.isna().sum()"
   ]
  },
  {
   "cell_type": "markdown",
   "id": "5f771eac",
   "metadata": {},
   "source": [
    "Again, the column we care about most here is Value, so if it's null, we can drop those rows."
   ]
  },
  {
   "cell_type": "code",
   "execution_count": 9,
   "id": "a87c1ccb",
   "metadata": {},
   "outputs": [],
   "source": [
    "prices.dropna(inplace=True)\n",
    "prices.reset_index(drop=True, inplace=True)\n",
    "prices.drop(labels=['Domain','Months','Unit','Element'], axis=1, inplace=True)"
   ]
  },
  {
   "cell_type": "code",
   "execution_count": 10,
   "id": "c9fc90f6",
   "metadata": {},
   "outputs": [],
   "source": [
    "prices = pd.pivot_table(prices, values='Value',index=['Area','Year'], columns='Item').reset_index()"
   ]
  },
  {
   "cell_type": "markdown",
   "id": "532f6577",
   "metadata": {},
   "source": [
    "## Merging Price and Food\n",
    "We'll merge our two dataframes together using an inner join, since we're really only interestsed in years and countries where we have both datapoints"
   ]
  },
  {
   "cell_type": "code",
   "execution_count": 11,
   "id": "f58fd3f6",
   "metadata": {},
   "outputs": [
    {
     "data": {
      "text/html": [
       "<div>\n",
       "<style scoped>\n",
       "    .dataframe tbody tr th:only-of-type {\n",
       "        vertical-align: middle;\n",
       "    }\n",
       "\n",
       "    .dataframe tbody tr th {\n",
       "        vertical-align: top;\n",
       "    }\n",
       "\n",
       "    .dataframe thead th {\n",
       "        text-align: right;\n",
       "    }\n",
       "</style>\n",
       "<table border=\"1\" class=\"dataframe\">\n",
       "  <thead>\n",
       "    <tr style=\"text-align: right;\">\n",
       "      <th>Item</th>\n",
       "      <th>Area</th>\n",
       "      <th>Year</th>\n",
       "      <th>Bovine Price</th>\n",
       "      <th>Poultry Price</th>\n",
       "      <th>Goat Price</th>\n",
       "      <th>Pig Price</th>\n",
       "      <th>Bovine Production</th>\n",
       "      <th>Goat Production</th>\n",
       "      <th>Pig Production</th>\n",
       "      <th>Poultry Production</th>\n",
       "    </tr>\n",
       "  </thead>\n",
       "  <tbody>\n",
       "    <tr>\n",
       "      <th>0</th>\n",
       "      <td>Albania</td>\n",
       "      <td>1993</td>\n",
       "      <td>3116.2</td>\n",
       "      <td>NaN</td>\n",
       "      <td>4330.1</td>\n",
       "      <td>2502.0</td>\n",
       "      <td>24.0</td>\n",
       "      <td>15.0</td>\n",
       "      <td>13.0</td>\n",
       "      <td>3.0</td>\n",
       "    </tr>\n",
       "    <tr>\n",
       "      <th>1</th>\n",
       "      <td>Albania</td>\n",
       "      <td>1994</td>\n",
       "      <td>2071.4</td>\n",
       "      <td>NaN</td>\n",
       "      <td>3438.0</td>\n",
       "      <td>2078.8</td>\n",
       "      <td>28.0</td>\n",
       "      <td>19.0</td>\n",
       "      <td>14.0</td>\n",
       "      <td>4.0</td>\n",
       "    </tr>\n",
       "    <tr>\n",
       "      <th>2</th>\n",
       "      <td>Albania</td>\n",
       "      <td>1995</td>\n",
       "      <td>2481.2</td>\n",
       "      <td>NaN</td>\n",
       "      <td>1723.2</td>\n",
       "      <td>2481.2</td>\n",
       "      <td>31.0</td>\n",
       "      <td>18.0</td>\n",
       "      <td>14.0</td>\n",
       "      <td>4.0</td>\n",
       "    </tr>\n",
       "    <tr>\n",
       "      <th>3</th>\n",
       "      <td>Albania</td>\n",
       "      <td>1996</td>\n",
       "      <td>2870.8</td>\n",
       "      <td>NaN</td>\n",
       "      <td>1965.3</td>\n",
       "      <td>2679.5</td>\n",
       "      <td>33.0</td>\n",
       "      <td>17.0</td>\n",
       "      <td>6.0</td>\n",
       "      <td>4.0</td>\n",
       "    </tr>\n",
       "    <tr>\n",
       "      <th>4</th>\n",
       "      <td>Albania</td>\n",
       "      <td>1997</td>\n",
       "      <td>2350.1</td>\n",
       "      <td>NaN</td>\n",
       "      <td>1762.0</td>\n",
       "      <td>2014.3</td>\n",
       "      <td>33.0</td>\n",
       "      <td>16.0</td>\n",
       "      <td>7.0</td>\n",
       "      <td>4.0</td>\n",
       "    </tr>\n",
       "  </tbody>\n",
       "</table>\n",
       "</div>"
      ],
      "text/plain": [
       "Item     Area  Year  Bovine Price  Poultry Price  Goat Price  Pig Price  \\\n",
       "0     Albania  1993        3116.2            NaN      4330.1     2502.0   \n",
       "1     Albania  1994        2071.4            NaN      3438.0     2078.8   \n",
       "2     Albania  1995        2481.2            NaN      1723.2     2481.2   \n",
       "3     Albania  1996        2870.8            NaN      1965.3     2679.5   \n",
       "4     Albania  1997        2350.1            NaN      1762.0     2014.3   \n",
       "\n",
       "Item  Bovine Production  Goat Production  Pig Production  Poultry Production  \n",
       "0                  24.0             15.0            13.0                 3.0  \n",
       "1                  28.0             19.0            14.0                 4.0  \n",
       "2                  31.0             18.0            14.0                 4.0  \n",
       "3                  33.0             17.0             6.0                 4.0  \n",
       "4                  33.0             16.0             7.0                 4.0  "
      ]
     },
     "execution_count": 11,
     "metadata": {},
     "output_type": "execute_result"
    }
   ],
   "source": [
    "merged = pd.merge(prices, food, left_on=['Area','Year'], right_on = ['Area','Year'])\n",
    "merged.rename(columns={'Bovine Meat':'Bovine Production','Mutton & Goat Meat': 'Goat Production', 'Pigmeat':'Pig Production','Poultry Meat':'Poultry Production','Meat, cattle':'Bovine Price','Meat, chicken':'Poultry Price','Meat, goat':'Goat Price','Meat, pig':'Pig Price'}, inplace=True)\n",
    "merged.head()"
   ]
  },
  {
   "cell_type": "code",
   "execution_count": 12,
   "id": "88c4d3e9",
   "metadata": {},
   "outputs": [
    {
     "data": {
      "text/plain": [
       "Item\n",
       "Area                     0\n",
       "Year                     0\n",
       "Bovine Price           336\n",
       "Poultry Price          475\n",
       "Goat Price            1244\n",
       "Pig Price              569\n",
       "Bovine Production        0\n",
       "Goat Production         37\n",
       "Pig Production          77\n",
       "Poultry Production      22\n",
       "dtype: int64"
      ]
     },
     "execution_count": 12,
     "metadata": {},
     "output_type": "execute_result"
    }
   ],
   "source": [
    "merged.isna().sum()"
   ]
  },
  {
   "cell_type": "markdown",
   "id": "1f8028ef",
   "metadata": {},
   "source": [
    "## Drop goat data\n",
    "We'll drop our goat data since there are so many null values, we can still analyze the remaining 3."
   ]
  },
  {
   "cell_type": "code",
   "execution_count": 13,
   "id": "17851005",
   "metadata": {},
   "outputs": [],
   "source": [
    "#dropping goat data because there are too many null values\n",
    "merged.drop(labels=['Goat Price','Goat Production'],axis=1,inplace=True)"
   ]
  },
  {
   "cell_type": "markdown",
   "id": "d84bce0c",
   "metadata": {},
   "source": [
    "## Ag Jobs\n",
    "Finally we will look at the employment in agriculture (by 1000 people)."
   ]
  },
  {
   "cell_type": "code",
   "execution_count": 39,
   "id": "67f376ca",
   "metadata": {},
   "outputs": [
    {
     "data": {
      "text/html": [
       "<div>\n",
       "<style scoped>\n",
       "    .dataframe tbody tr th:only-of-type {\n",
       "        vertical-align: middle;\n",
       "    }\n",
       "\n",
       "    .dataframe tbody tr th {\n",
       "        vertical-align: top;\n",
       "    }\n",
       "\n",
       "    .dataframe thead th {\n",
       "        text-align: right;\n",
       "    }\n",
       "</style>\n",
       "<table border=\"1\" class=\"dataframe\">\n",
       "  <thead>\n",
       "    <tr style=\"text-align: right;\">\n",
       "      <th></th>\n",
       "      <th>Domain</th>\n",
       "      <th>Area</th>\n",
       "      <th>Indicator</th>\n",
       "      <th>Source</th>\n",
       "      <th>Year</th>\n",
       "      <th>Unit</th>\n",
       "      <th>Value</th>\n",
       "    </tr>\n",
       "  </thead>\n",
       "  <tbody>\n",
       "    <tr>\n",
       "      <th>0</th>\n",
       "      <td>Employment Indicators</td>\n",
       "      <td>Afghanistan</td>\n",
       "      <td>Employment in agriculture</td>\n",
       "      <td>Administrative records</td>\n",
       "      <td>1991</td>\n",
       "      <td>NaN</td>\n",
       "      <td>NaN</td>\n",
       "    </tr>\n",
       "    <tr>\n",
       "      <th>1</th>\n",
       "      <td>Employment Indicators</td>\n",
       "      <td>Afghanistan</td>\n",
       "      <td>Employment in agriculture</td>\n",
       "      <td>Administrative records</td>\n",
       "      <td>1992</td>\n",
       "      <td>NaN</td>\n",
       "      <td>NaN</td>\n",
       "    </tr>\n",
       "    <tr>\n",
       "      <th>2</th>\n",
       "      <td>Employment Indicators</td>\n",
       "      <td>Afghanistan</td>\n",
       "      <td>Employment in agriculture</td>\n",
       "      <td>Administrative records</td>\n",
       "      <td>1993</td>\n",
       "      <td>NaN</td>\n",
       "      <td>NaN</td>\n",
       "    </tr>\n",
       "    <tr>\n",
       "      <th>3</th>\n",
       "      <td>Employment Indicators</td>\n",
       "      <td>Afghanistan</td>\n",
       "      <td>Employment in agriculture</td>\n",
       "      <td>Administrative records</td>\n",
       "      <td>1994</td>\n",
       "      <td>NaN</td>\n",
       "      <td>NaN</td>\n",
       "    </tr>\n",
       "    <tr>\n",
       "      <th>4</th>\n",
       "      <td>Employment Indicators</td>\n",
       "      <td>Afghanistan</td>\n",
       "      <td>Employment in agriculture</td>\n",
       "      <td>Administrative records</td>\n",
       "      <td>1995</td>\n",
       "      <td>NaN</td>\n",
       "      <td>NaN</td>\n",
       "    </tr>\n",
       "  </tbody>\n",
       "</table>\n",
       "</div>"
      ],
      "text/plain": [
       "                  Domain         Area                  Indicator  \\\n",
       "0  Employment Indicators  Afghanistan  Employment in agriculture   \n",
       "1  Employment Indicators  Afghanistan  Employment in agriculture   \n",
       "2  Employment Indicators  Afghanistan  Employment in agriculture   \n",
       "3  Employment Indicators  Afghanistan  Employment in agriculture   \n",
       "4  Employment Indicators  Afghanistan  Employment in agriculture   \n",
       "\n",
       "                   Source  Year Unit  Value  \n",
       "0  Administrative records  1991  NaN    NaN  \n",
       "1  Administrative records  1992  NaN    NaN  \n",
       "2  Administrative records  1993  NaN    NaN  \n",
       "3  Administrative records  1994  NaN    NaN  \n",
       "4  Administrative records  1995  NaN    NaN  "
      ]
     },
     "execution_count": 39,
     "metadata": {},
     "output_type": "execute_result"
    }
   ],
   "source": [
    "jobs = pd.read_csv('new data/employees.csv')\n",
    "jobs.head()"
   ]
  },
  {
   "cell_type": "code",
   "execution_count": 40,
   "id": "258d1e24",
   "metadata": {},
   "outputs": [
    {
     "data": {
      "text/plain": [
       "((45878, 7),\n",
       " Domain           0\n",
       " Area             0\n",
       " Indicator        0\n",
       " Source           0\n",
       " Year             0\n",
       " Unit         43502\n",
       " Value        43502\n",
       " dtype: int64)"
      ]
     },
     "execution_count": 40,
     "metadata": {},
     "output_type": "execute_result"
    }
   ],
   "source": [
    "jobs.shape, jobs.isna().sum()"
   ]
  },
  {
   "cell_type": "code",
   "execution_count": 41,
   "id": "a96bfb4f",
   "metadata": {},
   "outputs": [],
   "source": [
    "jobs.dropna(inplace=True)\n",
    "jobs.reset_index(drop=True, inplace=True)\n",
    "jobs.drop(labels=['Domain','Indicator','Source','Unit'],axis=1,inplace=True)"
   ]
  },
  {
   "cell_type": "code",
   "execution_count": 42,
   "id": "359173eb",
   "metadata": {},
   "outputs": [],
   "source": [
    "jobsunit = 1000"
   ]
  },
  {
   "cell_type": "code",
   "execution_count": 43,
   "id": "9afba978",
   "metadata": {},
   "outputs": [
    {
     "data": {
      "text/html": [
       "<div>\n",
       "<style scoped>\n",
       "    .dataframe tbody tr th:only-of-type {\n",
       "        vertical-align: middle;\n",
       "    }\n",
       "\n",
       "    .dataframe tbody tr th {\n",
       "        vertical-align: top;\n",
       "    }\n",
       "\n",
       "    .dataframe thead th {\n",
       "        text-align: right;\n",
       "    }\n",
       "</style>\n",
       "<table border=\"1\" class=\"dataframe\">\n",
       "  <thead>\n",
       "    <tr style=\"text-align: right;\">\n",
       "      <th></th>\n",
       "      <th>Area</th>\n",
       "      <th>Year</th>\n",
       "      <th>Value</th>\n",
       "    </tr>\n",
       "  </thead>\n",
       "  <tbody>\n",
       "    <tr>\n",
       "      <th>0</th>\n",
       "      <td>Albania</td>\n",
       "      <td>2007</td>\n",
       "      <td>358.403</td>\n",
       "    </tr>\n",
       "    <tr>\n",
       "      <th>1</th>\n",
       "      <td>Albania</td>\n",
       "      <td>2008</td>\n",
       "      <td>501.433</td>\n",
       "    </tr>\n",
       "    <tr>\n",
       "      <th>2</th>\n",
       "      <td>Albania</td>\n",
       "      <td>2009</td>\n",
       "      <td>511.223</td>\n",
       "    </tr>\n",
       "    <tr>\n",
       "      <th>3</th>\n",
       "      <td>Albania</td>\n",
       "      <td>2010</td>\n",
       "      <td>491.227</td>\n",
       "    </tr>\n",
       "    <tr>\n",
       "      <th>4</th>\n",
       "      <td>Albania</td>\n",
       "      <td>2011</td>\n",
       "      <td>526.261</td>\n",
       "    </tr>\n",
       "  </tbody>\n",
       "</table>\n",
       "</div>"
      ],
      "text/plain": [
       "      Area  Year    Value\n",
       "0  Albania  2007  358.403\n",
       "1  Albania  2008  501.433\n",
       "2  Albania  2009  511.223\n",
       "3  Albania  2010  491.227\n",
       "4  Albania  2011  526.261"
      ]
     },
     "execution_count": 43,
     "metadata": {},
     "output_type": "execute_result"
    }
   ],
   "source": [
    "jobs.head()"
   ]
  },
  {
   "cell_type": "code",
   "execution_count": 44,
   "id": "642eb41a",
   "metadata": {},
   "outputs": [
    {
     "data": {
      "text/plain": [
       "(2376, 3)"
      ]
     },
     "execution_count": 44,
     "metadata": {},
     "output_type": "execute_result"
    }
   ],
   "source": [
    "jobs.shape"
   ]
  },
  {
   "cell_type": "markdown",
   "id": "5fdc9162",
   "metadata": {},
   "source": [
    "## Population\n",
    "Lastly we'll look at the overall country population. Tracking variants in accordance with this number will help explain trends."
   ]
  },
  {
   "cell_type": "code",
   "execution_count": 20,
   "id": "6ef6b967",
   "metadata": {},
   "outputs": [
    {
     "data": {
      "text/html": [
       "<div>\n",
       "<style scoped>\n",
       "    .dataframe tbody tr th:only-of-type {\n",
       "        vertical-align: middle;\n",
       "    }\n",
       "\n",
       "    .dataframe tbody tr th {\n",
       "        vertical-align: top;\n",
       "    }\n",
       "\n",
       "    .dataframe thead th {\n",
       "        text-align: right;\n",
       "    }\n",
       "</style>\n",
       "<table border=\"1\" class=\"dataframe\">\n",
       "  <thead>\n",
       "    <tr style=\"text-align: right;\">\n",
       "      <th></th>\n",
       "      <th>Domain</th>\n",
       "      <th>Area</th>\n",
       "      <th>Year</th>\n",
       "      <th>Unit</th>\n",
       "      <th>Value</th>\n",
       "    </tr>\n",
       "  </thead>\n",
       "  <tbody>\n",
       "    <tr>\n",
       "      <th>0</th>\n",
       "      <td>Annual population</td>\n",
       "      <td>Afghanistan</td>\n",
       "      <td>1991</td>\n",
       "      <td>1000 persons</td>\n",
       "      <td>13299.017</td>\n",
       "    </tr>\n",
       "    <tr>\n",
       "      <th>1</th>\n",
       "      <td>Annual population</td>\n",
       "      <td>Afghanistan</td>\n",
       "      <td>1992</td>\n",
       "      <td>1000 persons</td>\n",
       "      <td>14485.546</td>\n",
       "    </tr>\n",
       "    <tr>\n",
       "      <th>2</th>\n",
       "      <td>Annual population</td>\n",
       "      <td>Afghanistan</td>\n",
       "      <td>1993</td>\n",
       "      <td>1000 persons</td>\n",
       "      <td>15816.603</td>\n",
       "    </tr>\n",
       "    <tr>\n",
       "      <th>3</th>\n",
       "      <td>Annual population</td>\n",
       "      <td>Afghanistan</td>\n",
       "      <td>1994</td>\n",
       "      <td>1000 persons</td>\n",
       "      <td>17075.727</td>\n",
       "    </tr>\n",
       "    <tr>\n",
       "      <th>4</th>\n",
       "      <td>Annual population</td>\n",
       "      <td>Afghanistan</td>\n",
       "      <td>1995</td>\n",
       "      <td>1000 persons</td>\n",
       "      <td>18110.657</td>\n",
       "    </tr>\n",
       "  </tbody>\n",
       "</table>\n",
       "</div>"
      ],
      "text/plain": [
       "              Domain         Area  Year          Unit      Value\n",
       "0  Annual population  Afghanistan  1991  1000 persons  13299.017\n",
       "1  Annual population  Afghanistan  1992  1000 persons  14485.546\n",
       "2  Annual population  Afghanistan  1993  1000 persons  15816.603\n",
       "3  Annual population  Afghanistan  1994  1000 persons  17075.727\n",
       "4  Annual population  Afghanistan  1995  1000 persons  18110.657"
      ]
     },
     "execution_count": 20,
     "metadata": {},
     "output_type": "execute_result"
    }
   ],
   "source": [
    "pop = pd.read_csv('new data/population.csv')\n",
    "pop.head()"
   ]
  },
  {
   "cell_type": "code",
   "execution_count": 21,
   "id": "76ad4e60",
   "metadata": {},
   "outputs": [
    {
     "data": {
      "text/plain": [
       "((6916, 5),\n",
       " Domain      0\n",
       " Area        0\n",
       " Year        0\n",
       " Unit      475\n",
       " Value     475\n",
       " dtype: int64)"
      ]
     },
     "execution_count": 21,
     "metadata": {},
     "output_type": "execute_result"
    }
   ],
   "source": [
    "pop.shape, pop.isna().sum()"
   ]
  },
  {
   "cell_type": "code",
   "execution_count": 22,
   "id": "c569c5a9",
   "metadata": {},
   "outputs": [],
   "source": [
    "pop.dropna(inplace=True)\n",
    "pop.reset_index(drop=True, inplace=True)\n",
    "pop.drop(labels=['Domain','Unit'],axis=1,inplace=True)"
   ]
  },
  {
   "cell_type": "code",
   "execution_count": 23,
   "id": "733ebb25",
   "metadata": {},
   "outputs": [],
   "source": [
    "popunit = 1000"
   ]
  },
  {
   "cell_type": "code",
   "execution_count": 24,
   "id": "5dd78da6",
   "metadata": {},
   "outputs": [
    {
     "data": {
      "text/plain": [
       "(6441, 3)"
      ]
     },
     "execution_count": 24,
     "metadata": {},
     "output_type": "execute_result"
    }
   ],
   "source": [
    "pop.shape"
   ]
  },
  {
   "cell_type": "markdown",
   "id": "d8609efb",
   "metadata": {},
   "source": [
    "## More Merging\n",
    "Now we can merge our population & jobs data in with our food/price data."
   ]
  },
  {
   "cell_type": "code",
   "execution_count": 25,
   "id": "be528eeb",
   "metadata": {},
   "outputs": [],
   "source": [
    "merged = pd.merge(merged,pop, left_on=['Area','Year'], right_on = ['Area','Year'])\n",
    "merged.rename(columns={'Value':'Population'}, inplace=True)"
   ]
  },
  {
   "cell_type": "code",
   "execution_count": 26,
   "id": "2b60f2f6",
   "metadata": {},
   "outputs": [],
   "source": [
    "merged = pd.merge(merged,jobs, left_on=['Area','Year'], right_on = ['Area','Year'])\n",
    "merged.rename(columns={'Value':'Ag_jobs'}, inplace=True)"
   ]
  },
  {
   "cell_type": "code",
   "execution_count": 27,
   "id": "105368c2",
   "metadata": {},
   "outputs": [
    {
     "data": {
      "text/html": [
       "<div>\n",
       "<style scoped>\n",
       "    .dataframe tbody tr th:only-of-type {\n",
       "        vertical-align: middle;\n",
       "    }\n",
       "\n",
       "    .dataframe tbody tr th {\n",
       "        vertical-align: top;\n",
       "    }\n",
       "\n",
       "    .dataframe thead th {\n",
       "        text-align: right;\n",
       "    }\n",
       "</style>\n",
       "<table border=\"1\" class=\"dataframe\">\n",
       "  <thead>\n",
       "    <tr style=\"text-align: right;\">\n",
       "      <th></th>\n",
       "      <th>Area</th>\n",
       "      <th>Year</th>\n",
       "      <th>Bovine Price</th>\n",
       "      <th>Poultry Price</th>\n",
       "      <th>Pig Price</th>\n",
       "      <th>Bovine Production</th>\n",
       "      <th>Pig Production</th>\n",
       "      <th>Poultry Production</th>\n",
       "      <th>Population</th>\n",
       "      <th>Ag_jobs</th>\n",
       "    </tr>\n",
       "  </thead>\n",
       "  <tbody>\n",
       "    <tr>\n",
       "      <th>0</th>\n",
       "      <td>Albania</td>\n",
       "      <td>2007</td>\n",
       "      <td>5927.4</td>\n",
       "      <td>2952.6</td>\n",
       "      <td>4644.6</td>\n",
       "      <td>50.0</td>\n",
       "      <td>14.0</td>\n",
       "      <td>13.0</td>\n",
       "      <td>3033.998</td>\n",
       "      <td>358.403</td>\n",
       "    </tr>\n",
       "    <tr>\n",
       "      <th>1</th>\n",
       "      <td>Albania</td>\n",
       "      <td>2008</td>\n",
       "      <td>6708.4</td>\n",
       "      <td>3182.6</td>\n",
       "      <td>5006.3</td>\n",
       "      <td>57.0</td>\n",
       "      <td>16.0</td>\n",
       "      <td>16.0</td>\n",
       "      <td>3002.678</td>\n",
       "      <td>501.433</td>\n",
       "    </tr>\n",
       "    <tr>\n",
       "      <th>2</th>\n",
       "      <td>Albania</td>\n",
       "      <td>2009</td>\n",
       "      <td>7054.3</td>\n",
       "      <td>3337.6</td>\n",
       "      <td>5474.9</td>\n",
       "      <td>58.0</td>\n",
       "      <td>16.0</td>\n",
       "      <td>17.0</td>\n",
       "      <td>2973.048</td>\n",
       "      <td>511.223</td>\n",
       "    </tr>\n",
       "    <tr>\n",
       "      <th>3</th>\n",
       "      <td>Albania</td>\n",
       "      <td>2010</td>\n",
       "      <td>6494.4</td>\n",
       "      <td>3049.9</td>\n",
       "      <td>5031.9</td>\n",
       "      <td>64.0</td>\n",
       "      <td>17.0</td>\n",
       "      <td>17.0</td>\n",
       "      <td>2948.023</td>\n",
       "      <td>491.227</td>\n",
       "    </tr>\n",
       "    <tr>\n",
       "      <th>4</th>\n",
       "      <td>Albania</td>\n",
       "      <td>2011</td>\n",
       "      <td>7572.2</td>\n",
       "      <td>3350.0</td>\n",
       "      <td>5580.1</td>\n",
       "      <td>65.0</td>\n",
       "      <td>18.0</td>\n",
       "      <td>17.0</td>\n",
       "      <td>2928.592</td>\n",
       "      <td>526.261</td>\n",
       "    </tr>\n",
       "  </tbody>\n",
       "</table>\n",
       "</div>"
      ],
      "text/plain": [
       "      Area  Year  Bovine Price  Poultry Price  Pig Price  Bovine Production  \\\n",
       "0  Albania  2007        5927.4         2952.6     4644.6               50.0   \n",
       "1  Albania  2008        6708.4         3182.6     5006.3               57.0   \n",
       "2  Albania  2009        7054.3         3337.6     5474.9               58.0   \n",
       "3  Albania  2010        6494.4         3049.9     5031.9               64.0   \n",
       "4  Albania  2011        7572.2         3350.0     5580.1               65.0   \n",
       "\n",
       "   Pig Production  Poultry Production  Population  Ag_jobs  \n",
       "0            14.0                13.0    3033.998  358.403  \n",
       "1            16.0                16.0    3002.678  501.433  \n",
       "2            16.0                17.0    2973.048  511.223  \n",
       "3            17.0                17.0    2948.023  491.227  \n",
       "4            18.0                17.0    2928.592  526.261  "
      ]
     },
     "execution_count": 27,
     "metadata": {},
     "output_type": "execute_result"
    }
   ],
   "source": [
    "merged.head()"
   ]
  },
  {
   "cell_type": "code",
   "execution_count": 28,
   "id": "5b3909e6",
   "metadata": {},
   "outputs": [
    {
     "data": {
      "text/plain": [
       "Area                    0\n",
       "Year                    0\n",
       "Bovine Price          183\n",
       "Poultry Price         272\n",
       "Pig Price             300\n",
       "Bovine Production       0\n",
       "Pig Production         35\n",
       "Poultry Production      2\n",
       "Population              0\n",
       "Ag_jobs                 0\n",
       "dtype: int64"
      ]
     },
     "execution_count": 28,
     "metadata": {},
     "output_type": "execute_result"
    }
   ],
   "source": [
    "merged.isna().sum()"
   ]
  },
  {
   "cell_type": "code",
   "execution_count": 29,
   "id": "391ed075",
   "metadata": {},
   "outputs": [],
   "source": [
    "merged.dropna(inplace=True)"
   ]
  },
  {
   "cell_type": "markdown",
   "id": "1ad7412a",
   "metadata": {},
   "source": [
    "## Save our data"
   ]
  },
  {
   "cell_type": "code",
   "execution_count": null,
   "id": "cdb9f9cb",
   "metadata": {},
   "outputs": [],
   "source": [
    "datapath = 'data' \n",
    "save_file(merged_indicators, 'merged_data.csv', datapath)"
   ]
  }
 ],
 "metadata": {
  "kernelspec": {
   "display_name": "Python 3",
   "language": "python",
   "name": "python3"
  },
  "language_info": {
   "codemirror_mode": {
    "name": "ipython",
    "version": 3
   },
   "file_extension": ".py",
   "mimetype": "text/x-python",
   "name": "python",
   "nbconvert_exporter": "python",
   "pygments_lexer": "ipython3",
   "version": "3.8.8"
  }
 },
 "nbformat": 4,
 "nbformat_minor": 5
}
